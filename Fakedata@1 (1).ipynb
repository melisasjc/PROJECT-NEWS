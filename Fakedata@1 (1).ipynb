{
 "cells": [
  {
   "cell_type": "markdown",
   "metadata": {},
   "source": [
    "# Fake news intentions"
   ]
  },
  {
   "cell_type": "code",
   "execution_count": 137,
   "metadata": {},
   "outputs": [],
   "source": [
    "#Importing libraries and packages \n",
    "\n",
    "import numpy as np # linear algebra\n",
    "import pandas as pd # data processing, CSV file I/O (e.g. pd.read_csv)\n",
    "import pandas as pd\n",
    "import matplotlib.pyplot as plt\n",
    "import cufflinks as cf\n",
    "import plotly \n",
    "import plotly.express as px\n",
    "import seaborn as sns\n",
    "from math import pi\n",
    "\n",
    "from IPython.core.display import HTML\n",
    "from wordcloud import WordCloud\n",
    "from sklearn.feature_extraction.text import TfidfVectorizer\n",
    "from sklearn.model_selection import train_test_split\n",
    "from sklearn import metrics\n",
    "from sklearn.ensemble import RandomForestClassifier\n",
    "from sklearn.feature_extraction.text import CountVectorizer\n",
    "from pandas import DataFrame\n",
    "from colorama import Fore, Back, Style\n",
    "y_ = Fore.YELLOW\n",
    "r_ = Fore.RED\n",
    "g_ = Fore.GREEN\n",
    "b_ = Fore.BLUE\n",
    "m_ = Fore.MAGENTA\n",
    "sr_ = Style.RESET_ALL"
   ]
  },
  {
   "cell_type": "code",
   "execution_count": 138,
   "metadata": {},
   "outputs": [
    {
     "data": {
      "text/html": [
       "<div>\n",
       "<style scoped>\n",
       "    .dataframe tbody tr th:only-of-type {\n",
       "        vertical-align: middle;\n",
       "    }\n",
       "\n",
       "    .dataframe tbody tr th {\n",
       "        vertical-align: top;\n",
       "    }\n",
       "\n",
       "    .dataframe thead th {\n",
       "        text-align: right;\n",
       "    }\n",
       "</style>\n",
       "<table border=\"1\" class=\"dataframe\">\n",
       "  <thead>\n",
       "    <tr style=\"text-align: right;\">\n",
       "      <th></th>\n",
       "      <th>author</th>\n",
       "      <th>published</th>\n",
       "      <th>title</th>\n",
       "      <th>text</th>\n",
       "      <th>language</th>\n",
       "      <th>site_url</th>\n",
       "      <th>main_img_url</th>\n",
       "      <th>type</th>\n",
       "      <th>label</th>\n",
       "      <th>title_without_stopwords</th>\n",
       "      <th>text_without_stopwords</th>\n",
       "      <th>hasImage</th>\n",
       "    </tr>\n",
       "  </thead>\n",
       "  <tbody>\n",
       "    <tr>\n",
       "      <th>0</th>\n",
       "      <td>Barracuda Brigade</td>\n",
       "      <td>2016-10-26T21:41:00.000+03:00</td>\n",
       "      <td>muslims busted they stole millions in govt ben...</td>\n",
       "      <td>print they should pay all the back all the mon...</td>\n",
       "      <td>english</td>\n",
       "      <td>100percentfedup.com</td>\n",
       "      <td>http://bb4sp.com/wp-content/uploads/2016/10/Fu...</td>\n",
       "      <td>bias</td>\n",
       "      <td>Real</td>\n",
       "      <td>muslims busted stole millions govt benefits</td>\n",
       "      <td>print pay back money plus interest entire fami...</td>\n",
       "      <td>1.0</td>\n",
       "    </tr>\n",
       "    <tr>\n",
       "      <th>1</th>\n",
       "      <td>reasoning with facts</td>\n",
       "      <td>2016-10-29T08:47:11.259+03:00</td>\n",
       "      <td>re why did attorney general loretta lynch plea...</td>\n",
       "      <td>why did attorney general loretta lynch plead t...</td>\n",
       "      <td>english</td>\n",
       "      <td>100percentfedup.com</td>\n",
       "      <td>http://bb4sp.com/wp-content/uploads/2016/10/Fu...</td>\n",
       "      <td>bias</td>\n",
       "      <td>Real</td>\n",
       "      <td>attorney general loretta lynch plead fifth</td>\n",
       "      <td>attorney general loretta lynch plead fifth bar...</td>\n",
       "      <td>1.0</td>\n",
       "    </tr>\n",
       "    <tr>\n",
       "      <th>2</th>\n",
       "      <td>Barracuda Brigade</td>\n",
       "      <td>2016-10-31T01:41:49.479+02:00</td>\n",
       "      <td>breaking weiner cooperating with fbi on hillar...</td>\n",
       "      <td>red state  \\nfox news sunday reported this mor...</td>\n",
       "      <td>english</td>\n",
       "      <td>100percentfedup.com</td>\n",
       "      <td>http://bb4sp.com/wp-content/uploads/2016/10/Fu...</td>\n",
       "      <td>bias</td>\n",
       "      <td>Real</td>\n",
       "      <td>breaking weiner cooperating fbi hillary email ...</td>\n",
       "      <td>red state fox news sunday reported morning ant...</td>\n",
       "      <td>1.0</td>\n",
       "    </tr>\n",
       "    <tr>\n",
       "      <th>3</th>\n",
       "      <td>Fed Up</td>\n",
       "      <td>2016-11-01T05:22:00.000+02:00</td>\n",
       "      <td>pin drop speech by father of daughter kidnappe...</td>\n",
       "      <td>email kayla mueller was a prisoner and torture...</td>\n",
       "      <td>english</td>\n",
       "      <td>100percentfedup.com</td>\n",
       "      <td>http://100percentfedup.com/wp-content/uploads/...</td>\n",
       "      <td>bias</td>\n",
       "      <td>Real</td>\n",
       "      <td>pin drop speech father daughter kidnapped kill...</td>\n",
       "      <td>email kayla mueller prisoner tortured isis cha...</td>\n",
       "      <td>1.0</td>\n",
       "    </tr>\n",
       "    <tr>\n",
       "      <th>4</th>\n",
       "      <td>Fed Up</td>\n",
       "      <td>2016-11-01T21:56:00.000+02:00</td>\n",
       "      <td>fantastic trumps  point plan to reform healthc...</td>\n",
       "      <td>email healthcare reform to make america great ...</td>\n",
       "      <td>english</td>\n",
       "      <td>100percentfedup.com</td>\n",
       "      <td>http://100percentfedup.com/wp-content/uploads/...</td>\n",
       "      <td>bias</td>\n",
       "      <td>Real</td>\n",
       "      <td>fantastic trumps point plan reform healthcare ...</td>\n",
       "      <td>email healthcare reform make america great sin...</td>\n",
       "      <td>1.0</td>\n",
       "    </tr>\n",
       "  </tbody>\n",
       "</table>\n",
       "</div>"
      ],
      "text/plain": [
       "                 author                      published  \\\n",
       "0     Barracuda Brigade  2016-10-26T21:41:00.000+03:00   \n",
       "1  reasoning with facts  2016-10-29T08:47:11.259+03:00   \n",
       "2     Barracuda Brigade  2016-10-31T01:41:49.479+02:00   \n",
       "3                Fed Up  2016-11-01T05:22:00.000+02:00   \n",
       "4                Fed Up  2016-11-01T21:56:00.000+02:00   \n",
       "\n",
       "                                               title  \\\n",
       "0  muslims busted they stole millions in govt ben...   \n",
       "1  re why did attorney general loretta lynch plea...   \n",
       "2  breaking weiner cooperating with fbi on hillar...   \n",
       "3  pin drop speech by father of daughter kidnappe...   \n",
       "4  fantastic trumps  point plan to reform healthc...   \n",
       "\n",
       "                                                text language  \\\n",
       "0  print they should pay all the back all the mon...  english   \n",
       "1  why did attorney general loretta lynch plead t...  english   \n",
       "2  red state  \\nfox news sunday reported this mor...  english   \n",
       "3  email kayla mueller was a prisoner and torture...  english   \n",
       "4  email healthcare reform to make america great ...  english   \n",
       "\n",
       "              site_url                                       main_img_url  \\\n",
       "0  100percentfedup.com  http://bb4sp.com/wp-content/uploads/2016/10/Fu...   \n",
       "1  100percentfedup.com  http://bb4sp.com/wp-content/uploads/2016/10/Fu...   \n",
       "2  100percentfedup.com  http://bb4sp.com/wp-content/uploads/2016/10/Fu...   \n",
       "3  100percentfedup.com  http://100percentfedup.com/wp-content/uploads/...   \n",
       "4  100percentfedup.com  http://100percentfedup.com/wp-content/uploads/...   \n",
       "\n",
       "   type label                            title_without_stopwords  \\\n",
       "0  bias  Real        muslims busted stole millions govt benefits   \n",
       "1  bias  Real         attorney general loretta lynch plead fifth   \n",
       "2  bias  Real  breaking weiner cooperating fbi hillary email ...   \n",
       "3  bias  Real  pin drop speech father daughter kidnapped kill...   \n",
       "4  bias  Real  fantastic trumps point plan reform healthcare ...   \n",
       "\n",
       "                              text_without_stopwords  hasImage  \n",
       "0  print pay back money plus interest entire fami...       1.0  \n",
       "1  attorney general loretta lynch plead fifth bar...       1.0  \n",
       "2  red state fox news sunday reported morning ant...       1.0  \n",
       "3  email kayla mueller prisoner tortured isis cha...       1.0  \n",
       "4  email healthcare reform make america great sin...       1.0  "
      ]
     },
     "execution_count": 138,
     "metadata": {},
     "output_type": "execute_result"
    }
   ],
   "source": [
    "df = pd.read_csv('C:/Users/melis/OneDrive/Desktop/News/news_articles.csv')\n",
    "df.head()"
   ]
  },
  {
   "cell_type": "code",
   "execution_count": 139,
   "metadata": {},
   "outputs": [],
   "source": [
    "df = df.drop_duplicates() #Duplicate values"
   ]
  },
  {
   "cell_type": "code",
   "execution_count": 140,
   "metadata": {},
   "outputs": [
    {
     "data": {
      "text/plain": [
       "0       False\n",
       "1       False\n",
       "2       False\n",
       "3       False\n",
       "4       False\n",
       "        ...  \n",
       "2091    False\n",
       "2092    False\n",
       "2093    False\n",
       "2094    False\n",
       "2095    False\n",
       "Length: 2086, dtype: bool"
      ]
     },
     "execution_count": 140,
     "metadata": {},
     "output_type": "execute_result"
    }
   ],
   "source": [
    "df.duplicated()"
   ]
  },
  {
   "cell_type": "code",
   "execution_count": 141,
   "metadata": {},
   "outputs": [
    {
     "data": {
      "text/plain": [
       "0       False\n",
       "1       False\n",
       "2       False\n",
       "3       False\n",
       "4       False\n",
       "        ...  \n",
       "2091     True\n",
       "2092     True\n",
       "2093     True\n",
       "2094     True\n",
       "2095     True\n",
       "Length: 2086, dtype: bool"
      ]
     },
     "execution_count": 141,
     "metadata": {},
     "output_type": "execute_result"
    }
   ],
   "source": [
    "df.duplicated(subset=['text_without_stopwords'])"
   ]
  },
  {
   "cell_type": "code",
   "execution_count": 142,
   "metadata": {},
   "outputs": [
    {
     "data": {
      "text/html": [
       "<div>\n",
       "<style scoped>\n",
       "    .dataframe tbody tr th:only-of-type {\n",
       "        vertical-align: middle;\n",
       "    }\n",
       "\n",
       "    .dataframe tbody tr th {\n",
       "        vertical-align: top;\n",
       "    }\n",
       "\n",
       "    .dataframe thead th {\n",
       "        text-align: right;\n",
       "    }\n",
       "</style>\n",
       "<table border=\"1\" class=\"dataframe\">\n",
       "  <thead>\n",
       "    <tr style=\"text-align: right;\">\n",
       "      <th></th>\n",
       "      <th>author</th>\n",
       "      <th>published</th>\n",
       "      <th>title</th>\n",
       "      <th>text</th>\n",
       "      <th>language</th>\n",
       "      <th>site_url</th>\n",
       "      <th>main_img_url</th>\n",
       "      <th>type</th>\n",
       "      <th>label</th>\n",
       "      <th>title_without_stopwords</th>\n",
       "      <th>text_without_stopwords</th>\n",
       "      <th>hasImage</th>\n",
       "    </tr>\n",
       "  </thead>\n",
       "  <tbody>\n",
       "    <tr>\n",
       "      <th>0</th>\n",
       "      <td>Barracuda Brigade</td>\n",
       "      <td>2016-10-26T21:41:00.000+03:00</td>\n",
       "      <td>muslims busted they stole millions in govt ben...</td>\n",
       "      <td>print they should pay all the back all the mon...</td>\n",
       "      <td>english</td>\n",
       "      <td>100percentfedup.com</td>\n",
       "      <td>http://bb4sp.com/wp-content/uploads/2016/10/Fu...</td>\n",
       "      <td>bias</td>\n",
       "      <td>Real</td>\n",
       "      <td>muslims busted stole millions govt benefits</td>\n",
       "      <td>print pay back money plus interest entire fami...</td>\n",
       "      <td>1.0</td>\n",
       "    </tr>\n",
       "    <tr>\n",
       "      <th>1</th>\n",
       "      <td>reasoning with facts</td>\n",
       "      <td>2016-10-29T08:47:11.259+03:00</td>\n",
       "      <td>re why did attorney general loretta lynch plea...</td>\n",
       "      <td>why did attorney general loretta lynch plead t...</td>\n",
       "      <td>english</td>\n",
       "      <td>100percentfedup.com</td>\n",
       "      <td>http://bb4sp.com/wp-content/uploads/2016/10/Fu...</td>\n",
       "      <td>bias</td>\n",
       "      <td>Real</td>\n",
       "      <td>attorney general loretta lynch plead fifth</td>\n",
       "      <td>attorney general loretta lynch plead fifth bar...</td>\n",
       "      <td>1.0</td>\n",
       "    </tr>\n",
       "    <tr>\n",
       "      <th>2</th>\n",
       "      <td>Barracuda Brigade</td>\n",
       "      <td>2016-10-31T01:41:49.479+02:00</td>\n",
       "      <td>breaking weiner cooperating with fbi on hillar...</td>\n",
       "      <td>red state  \\nfox news sunday reported this mor...</td>\n",
       "      <td>english</td>\n",
       "      <td>100percentfedup.com</td>\n",
       "      <td>http://bb4sp.com/wp-content/uploads/2016/10/Fu...</td>\n",
       "      <td>bias</td>\n",
       "      <td>Real</td>\n",
       "      <td>breaking weiner cooperating fbi hillary email ...</td>\n",
       "      <td>red state fox news sunday reported morning ant...</td>\n",
       "      <td>1.0</td>\n",
       "    </tr>\n",
       "    <tr>\n",
       "      <th>3</th>\n",
       "      <td>Fed Up</td>\n",
       "      <td>2016-11-01T05:22:00.000+02:00</td>\n",
       "      <td>pin drop speech by father of daughter kidnappe...</td>\n",
       "      <td>email kayla mueller was a prisoner and torture...</td>\n",
       "      <td>english</td>\n",
       "      <td>100percentfedup.com</td>\n",
       "      <td>http://100percentfedup.com/wp-content/uploads/...</td>\n",
       "      <td>bias</td>\n",
       "      <td>Real</td>\n",
       "      <td>pin drop speech father daughter kidnapped kill...</td>\n",
       "      <td>email kayla mueller prisoner tortured isis cha...</td>\n",
       "      <td>1.0</td>\n",
       "    </tr>\n",
       "    <tr>\n",
       "      <th>4</th>\n",
       "      <td>Fed Up</td>\n",
       "      <td>2016-11-01T21:56:00.000+02:00</td>\n",
       "      <td>fantastic trumps  point plan to reform healthc...</td>\n",
       "      <td>email healthcare reform to make america great ...</td>\n",
       "      <td>english</td>\n",
       "      <td>100percentfedup.com</td>\n",
       "      <td>http://100percentfedup.com/wp-content/uploads/...</td>\n",
       "      <td>bias</td>\n",
       "      <td>Real</td>\n",
       "      <td>fantastic trumps point plan reform healthcare ...</td>\n",
       "      <td>email healthcare reform make america great sin...</td>\n",
       "      <td>1.0</td>\n",
       "    </tr>\n",
       "    <tr>\n",
       "      <th>...</th>\n",
       "      <td>...</td>\n",
       "      <td>...</td>\n",
       "      <td>...</td>\n",
       "      <td>...</td>\n",
       "      <td>...</td>\n",
       "      <td>...</td>\n",
       "      <td>...</td>\n",
       "      <td>...</td>\n",
       "      <td>...</td>\n",
       "      <td>...</td>\n",
       "      <td>...</td>\n",
       "      <td>...</td>\n",
       "    </tr>\n",
       "    <tr>\n",
       "      <th>2042</th>\n",
       "      <td>Jane Chastain</td>\n",
       "      <td>2016-10-27T03:04:50.704+03:00</td>\n",
       "      <td>election crossroads socialism or capitalism</td>\n",
       "      <td>teens walk free after gangrape conviction judg...</td>\n",
       "      <td>english</td>\n",
       "      <td>wnd.com</td>\n",
       "      <td>No Image URL</td>\n",
       "      <td>bias</td>\n",
       "      <td>Real</td>\n",
       "      <td>gingrich slutshames megyn kelly</td>\n",
       "      <td>good samaritan wearing indian headdress disarm...</td>\n",
       "      <td>1.0</td>\n",
       "    </tr>\n",
       "    <tr>\n",
       "      <th>2043</th>\n",
       "      <td>Michael Brown</td>\n",
       "      <td>2016-10-27T03:04:54.788+03:00</td>\n",
       "      <td>reasons ill vote for trump</td>\n",
       "      <td>school named for munichmassacre mastermind ter...</td>\n",
       "      <td>english</td>\n",
       "      <td>wnd.com</td>\n",
       "      <td>http://mobile.wnd.com/files/2011/12/leftfield3...</td>\n",
       "      <td>bias</td>\n",
       "      <td>Real</td>\n",
       "      <td>youtube bans clintons black son</td>\n",
       "      <td>skype sex scam fortune built shame moroccan bo...</td>\n",
       "      <td>1.0</td>\n",
       "    </tr>\n",
       "    <tr>\n",
       "      <th>2044</th>\n",
       "      <td>Ann Coulter</td>\n",
       "      <td>2016-10-27T03:05:01.989+03:00</td>\n",
       "      <td>our new country women and minorities hit hardest</td>\n",
       "      <td>wars and rumors of wars russia unveils satan  ...</td>\n",
       "      <td>english</td>\n",
       "      <td>wnd.com</td>\n",
       "      <td>http://www.wnd.com/files/2016/10/danney-willll...</td>\n",
       "      <td>bias</td>\n",
       "      <td>Real</td>\n",
       "      <td>wikileaks bombshells hillary need know</td>\n",
       "      <td>posted eddie skyhigh potency may scare away cr...</td>\n",
       "      <td>1.0</td>\n",
       "    </tr>\n",
       "    <tr>\n",
       "      <th>2045</th>\n",
       "      <td>Larry Elder</td>\n",
       "      <td>2016-10-27T03:05:05.815+03:00</td>\n",
       "      <td>trump vs clinton a risk vs a disaster</td>\n",
       "      <td>check out hillarythemed haunted house anticlin...</td>\n",
       "      <td>english</td>\n",
       "      <td>wnd.com</td>\n",
       "      <td>http://www.wnd.com/files/2015/10/Hillary-Clint...</td>\n",
       "      <td>bias</td>\n",
       "      <td>Real</td>\n",
       "      <td>fascinated sex</td>\n",
       "      <td>billion even known keeping supposedly deleted ...</td>\n",
       "      <td>0.0</td>\n",
       "    </tr>\n",
       "    <tr>\n",
       "      <th>2046</th>\n",
       "      <td>-NO AUTHOR-</td>\n",
       "      <td>2016-10-27T03:05:07.528+03:00</td>\n",
       "      <td>gingrich slutshames megyn kelly</td>\n",
       "      <td>good samaritan wearing indian headdress disarm...</td>\n",
       "      <td>english</td>\n",
       "      <td>wnd.com</td>\n",
       "      <td>No Image URL</td>\n",
       "      <td>bias</td>\n",
       "      <td>Real</td>\n",
       "      <td>hillarys emails might missing</td>\n",
       "      <td>NaN</td>\n",
       "      <td>1.0</td>\n",
       "    </tr>\n",
       "  </tbody>\n",
       "</table>\n",
       "<p>1938 rows × 12 columns</p>\n",
       "</div>"
      ],
      "text/plain": [
       "                    author                      published  \\\n",
       "0        Barracuda Brigade  2016-10-26T21:41:00.000+03:00   \n",
       "1     reasoning with facts  2016-10-29T08:47:11.259+03:00   \n",
       "2        Barracuda Brigade  2016-10-31T01:41:49.479+02:00   \n",
       "3                   Fed Up  2016-11-01T05:22:00.000+02:00   \n",
       "4                   Fed Up  2016-11-01T21:56:00.000+02:00   \n",
       "...                    ...                            ...   \n",
       "2042         Jane Chastain  2016-10-27T03:04:50.704+03:00   \n",
       "2043         Michael Brown  2016-10-27T03:04:54.788+03:00   \n",
       "2044           Ann Coulter  2016-10-27T03:05:01.989+03:00   \n",
       "2045           Larry Elder  2016-10-27T03:05:05.815+03:00   \n",
       "2046           -NO AUTHOR-  2016-10-27T03:05:07.528+03:00   \n",
       "\n",
       "                                                  title  \\\n",
       "0     muslims busted they stole millions in govt ben...   \n",
       "1     re why did attorney general loretta lynch plea...   \n",
       "2     breaking weiner cooperating with fbi on hillar...   \n",
       "3     pin drop speech by father of daughter kidnappe...   \n",
       "4     fantastic trumps  point plan to reform healthc...   \n",
       "...                                                 ...   \n",
       "2042        election crossroads socialism or capitalism   \n",
       "2043                         reasons ill vote for trump   \n",
       "2044   our new country women and minorities hit hardest   \n",
       "2045              trump vs clinton a risk vs a disaster   \n",
       "2046                    gingrich slutshames megyn kelly   \n",
       "\n",
       "                                                   text language  \\\n",
       "0     print they should pay all the back all the mon...  english   \n",
       "1     why did attorney general loretta lynch plead t...  english   \n",
       "2     red state  \\nfox news sunday reported this mor...  english   \n",
       "3     email kayla mueller was a prisoner and torture...  english   \n",
       "4     email healthcare reform to make america great ...  english   \n",
       "...                                                 ...      ...   \n",
       "2042  teens walk free after gangrape conviction judg...  english   \n",
       "2043  school named for munichmassacre mastermind ter...  english   \n",
       "2044  wars and rumors of wars russia unveils satan  ...  english   \n",
       "2045  check out hillarythemed haunted house anticlin...  english   \n",
       "2046  good samaritan wearing indian headdress disarm...  english   \n",
       "\n",
       "                 site_url                                       main_img_url  \\\n",
       "0     100percentfedup.com  http://bb4sp.com/wp-content/uploads/2016/10/Fu...   \n",
       "1     100percentfedup.com  http://bb4sp.com/wp-content/uploads/2016/10/Fu...   \n",
       "2     100percentfedup.com  http://bb4sp.com/wp-content/uploads/2016/10/Fu...   \n",
       "3     100percentfedup.com  http://100percentfedup.com/wp-content/uploads/...   \n",
       "4     100percentfedup.com  http://100percentfedup.com/wp-content/uploads/...   \n",
       "...                   ...                                                ...   \n",
       "2042              wnd.com                                       No Image URL   \n",
       "2043              wnd.com  http://mobile.wnd.com/files/2011/12/leftfield3...   \n",
       "2044              wnd.com  http://www.wnd.com/files/2016/10/danney-willll...   \n",
       "2045              wnd.com  http://www.wnd.com/files/2015/10/Hillary-Clint...   \n",
       "2046              wnd.com                                       No Image URL   \n",
       "\n",
       "      type label                            title_without_stopwords  \\\n",
       "0     bias  Real        muslims busted stole millions govt benefits   \n",
       "1     bias  Real         attorney general loretta lynch plead fifth   \n",
       "2     bias  Real  breaking weiner cooperating fbi hillary email ...   \n",
       "3     bias  Real  pin drop speech father daughter kidnapped kill...   \n",
       "4     bias  Real  fantastic trumps point plan reform healthcare ...   \n",
       "...    ...   ...                                                ...   \n",
       "2042  bias  Real                    gingrich slutshames megyn kelly   \n",
       "2043  bias  Real                    youtube bans clintons black son   \n",
       "2044  bias  Real             wikileaks bombshells hillary need know   \n",
       "2045  bias  Real                                     fascinated sex   \n",
       "2046  bias  Real                      hillarys emails might missing   \n",
       "\n",
       "                                 text_without_stopwords  hasImage  \n",
       "0     print pay back money plus interest entire fami...       1.0  \n",
       "1     attorney general loretta lynch plead fifth bar...       1.0  \n",
       "2     red state fox news sunday reported morning ant...       1.0  \n",
       "3     email kayla mueller prisoner tortured isis cha...       1.0  \n",
       "4     email healthcare reform make america great sin...       1.0  \n",
       "...                                                 ...       ...  \n",
       "2042  good samaritan wearing indian headdress disarm...       1.0  \n",
       "2043  skype sex scam fortune built shame moroccan bo...       1.0  \n",
       "2044  posted eddie skyhigh potency may scare away cr...       1.0  \n",
       "2045  billion even known keeping supposedly deleted ...       0.0  \n",
       "2046                                                NaN       1.0  \n",
       "\n",
       "[1938 rows x 12 columns]"
      ]
     },
     "execution_count": 142,
     "metadata": {},
     "output_type": "execute_result"
    }
   ],
   "source": [
    "df=df.drop_duplicates(subset='text_without_stopwords')\n",
    "df"
   ]
  },
  {
   "cell_type": "markdown",
   "metadata": {},
   "source": [
    "#### Insight \n",
    "- __All the duplicate values have been removed__"
   ]
  },
  {
   "cell_type": "code",
   "execution_count": 143,
   "metadata": {},
   "outputs": [
    {
     "data": {
      "text/plain": [
       "author                     0\n",
       "published                  0\n",
       "title                      0\n",
       "text                       0\n",
       "language                   0\n",
       "site_url                   0\n",
       "main_img_url               0\n",
       "type                       0\n",
       "label                      0\n",
       "title_without_stopwords    1\n",
       "text_without_stopwords     1\n",
       "hasImage                   0\n",
       "dtype: int64"
      ]
     },
     "execution_count": 143,
     "metadata": {},
     "output_type": "execute_result"
    }
   ],
   "source": [
    "df.isnull().sum() #NUll values"
   ]
  },
  {
   "cell_type": "code",
   "execution_count": 144,
   "metadata": {},
   "outputs": [
    {
     "data": {
      "text/plain": [
       "author                     0\n",
       "published                  0\n",
       "title                      0\n",
       "text                       0\n",
       "language                   0\n",
       "site_url                   0\n",
       "main_img_url               0\n",
       "type                       0\n",
       "label                      0\n",
       "title_without_stopwords    0\n",
       "text_without_stopwords     0\n",
       "hasImage                   0\n",
       "dtype: int64"
      ]
     },
     "execution_count": 144,
     "metadata": {},
     "output_type": "execute_result"
    }
   ],
   "source": [
    "df = df.dropna()\n",
    "df.isnull().sum()"
   ]
  },
  {
   "cell_type": "markdown",
   "metadata": {},
   "source": [
    "#### Insight \n",
    "- __All the null values have been removed__"
   ]
  },
  {
   "cell_type": "code",
   "execution_count": 145,
   "metadata": {},
   "outputs": [
    {
     "name": "stdout",
     "output_type": "stream",
     "text": [
      "Number of rows present in the dataset are:  1936\n",
      "Number of columns present in the dataset are:  12\n"
     ]
    }
   ],
   "source": [
    "#Shape of row and columns\n",
    "\n",
    "print(\"Number of rows present in the dataset are: \", df.shape[0])  \n",
    "print(\"Number of columns present in the dataset are: \", df.shape[1])"
   ]
  },
  {
   "cell_type": "code",
   "execution_count": 146,
   "metadata": {},
   "outputs": [
    {
     "data": {
      "text/plain": [
       "array(['bias', 'conspiracy', 'fake', 'bs', 'satire', 'hate', 'junksci',\n",
       "       'state'], dtype=object)"
      ]
     },
     "execution_count": 146,
     "metadata": {},
     "output_type": "execute_result"
    }
   ],
   "source": [
    "#Unique types\n",
    "\n",
    "df['type'].unique()"
   ]
  },
  {
   "cell_type": "markdown",
   "metadata": {},
   "source": [
    "## These are the 8 different types of articles:\n",
    "\n",
    "1. __bs (i.e. false content)__\n",
    "\n",
    "2. __junksci(i.e. junk science)__\n",
    "\n",
    "3. __hate__\n",
    "\n",
    "4. __fake__\n",
    "\n",
    "5. __conspiracy__\n",
    "\n",
    "6. __bias__\n",
    "\n",
    "7. __satire__\n",
    "\n",
    "8. __state__"
   ]
  },
  {
   "cell_type": "markdown",
   "metadata": {},
   "source": [
    "## Explanation \n",
    "\n",
    "[Satire] : Sources that provide humorous commentary on current events in the form of fake news.\n",
    "\n",
    "Extreme [Bias] : Sources that traffic in political propaganda and gross distortions of fact.\n",
    "\n",
    "[Conspiracy] Theory : Sources that are well-known promoters of kooky conspiracy theories.\n",
    "\n",
    "[Junk Science] : Sources that promote pseudoscience, metaphysics, naturalistic fallacies, and other scientifically dubious claims. \n",
    "\n",
    "[Hate] Group : Sources that actively promote racism, misogyny, homophobia and other forms of discrimination\n",
    "\n",
    "[State] News : Sources in repressive states operating under government\n",
    "sanction.\n"
   ]
  },
  {
   "cell_type": "markdown",
   "metadata": {},
   "source": [
    "# Unigrams and Bigrams\n",
    "\n",
    "- Bokeh is a Python library for creating interactive visualizations for modern web browsers. It helps you build beautiful graphics, ranging from simple plots to complex dashboards with streaming datasets."
   ]
  },
  {
   "cell_type": "code",
   "execution_count": 147,
   "metadata": {},
   "outputs": [],
   "source": [
    "from bokeh.io import output_notebook\n",
    "from bokeh.io import show\n",
    "from bokeh.plotting import figure\n",
    "from bokeh.transform import cumsum\n",
    "from bokeh.palettes import Spectral6\n",
    "from bokeh.models import ColumnDataSource\n",
    "from bokeh.layouts import gridplot\n",
    "from bokeh.io import curdoc"
   ]
  },
  {
   "cell_type": "code",
   "execution_count": 148,
   "metadata": {},
   "outputs": [
    {
     "data": {
      "text/html": [
       "\n",
       "    <div class=\"bk-root\">\n",
       "        <a href=\"https://bokeh.org\" target=\"_blank\" class=\"bk-logo bk-logo-small bk-logo-notebook\"></a>\n",
       "        <span id=\"6119\">Loading BokehJS ...</span>\n",
       "    </div>"
      ]
     },
     "metadata": {},
     "output_type": "display_data"
    },
    {
     "data": {
      "application/javascript": [
       "\n",
       "(function(root) {\n",
       "  function now() {\n",
       "    return new Date();\n",
       "  }\n",
       "\n",
       "  var force = true;\n",
       "\n",
       "  if (typeof root._bokeh_onload_callbacks === \"undefined\" || force === true) {\n",
       "    root._bokeh_onload_callbacks = [];\n",
       "    root._bokeh_is_loading = undefined;\n",
       "  }\n",
       "\n",
       "  var JS_MIME_TYPE = 'application/javascript';\n",
       "  var HTML_MIME_TYPE = 'text/html';\n",
       "  var EXEC_MIME_TYPE = 'application/vnd.bokehjs_exec.v0+json';\n",
       "  var CLASS_NAME = 'output_bokeh rendered_html';\n",
       "\n",
       "  /**\n",
       "   * Render data to the DOM node\n",
       "   */\n",
       "  function render(props, node) {\n",
       "    var script = document.createElement(\"script\");\n",
       "    node.appendChild(script);\n",
       "  }\n",
       "\n",
       "  /**\n",
       "   * Handle when an output is cleared or removed\n",
       "   */\n",
       "  function handleClearOutput(event, handle) {\n",
       "    var cell = handle.cell;\n",
       "\n",
       "    var id = cell.output_area._bokeh_element_id;\n",
       "    var server_id = cell.output_area._bokeh_server_id;\n",
       "    // Clean up Bokeh references\n",
       "    if (id != null && id in Bokeh.index) {\n",
       "      Bokeh.index[id].model.document.clear();\n",
       "      delete Bokeh.index[id];\n",
       "    }\n",
       "\n",
       "    if (server_id !== undefined) {\n",
       "      // Clean up Bokeh references\n",
       "      var cmd = \"from bokeh.io.state import curstate; print(curstate().uuid_to_server['\" + server_id + \"'].get_sessions()[0].document.roots[0]._id)\";\n",
       "      cell.notebook.kernel.execute(cmd, {\n",
       "        iopub: {\n",
       "          output: function(msg) {\n",
       "            var id = msg.content.text.trim();\n",
       "            if (id in Bokeh.index) {\n",
       "              Bokeh.index[id].model.document.clear();\n",
       "              delete Bokeh.index[id];\n",
       "            }\n",
       "          }\n",
       "        }\n",
       "      });\n",
       "      // Destroy server and session\n",
       "      var cmd = \"import bokeh.io.notebook as ion; ion.destroy_server('\" + server_id + \"')\";\n",
       "      cell.notebook.kernel.execute(cmd);\n",
       "    }\n",
       "  }\n",
       "\n",
       "  /**\n",
       "   * Handle when a new output is added\n",
       "   */\n",
       "  function handleAddOutput(event, handle) {\n",
       "    var output_area = handle.output_area;\n",
       "    var output = handle.output;\n",
       "\n",
       "    // limit handleAddOutput to display_data with EXEC_MIME_TYPE content only\n",
       "    if ((output.output_type != \"display_data\") || (!Object.prototype.hasOwnProperty.call(output.data, EXEC_MIME_TYPE))) {\n",
       "      return\n",
       "    }\n",
       "\n",
       "    var toinsert = output_area.element.find(\".\" + CLASS_NAME.split(' ')[0]);\n",
       "\n",
       "    if (output.metadata[EXEC_MIME_TYPE][\"id\"] !== undefined) {\n",
       "      toinsert[toinsert.length - 1].firstChild.textContent = output.data[JS_MIME_TYPE];\n",
       "      // store reference to embed id on output_area\n",
       "      output_area._bokeh_element_id = output.metadata[EXEC_MIME_TYPE][\"id\"];\n",
       "    }\n",
       "    if (output.metadata[EXEC_MIME_TYPE][\"server_id\"] !== undefined) {\n",
       "      var bk_div = document.createElement(\"div\");\n",
       "      bk_div.innerHTML = output.data[HTML_MIME_TYPE];\n",
       "      var script_attrs = bk_div.children[0].attributes;\n",
       "      for (var i = 0; i < script_attrs.length; i++) {\n",
       "        toinsert[toinsert.length - 1].firstChild.setAttribute(script_attrs[i].name, script_attrs[i].value);\n",
       "        toinsert[toinsert.length - 1].firstChild.textContent = bk_div.children[0].textContent\n",
       "      }\n",
       "      // store reference to server id on output_area\n",
       "      output_area._bokeh_server_id = output.metadata[EXEC_MIME_TYPE][\"server_id\"];\n",
       "    }\n",
       "  }\n",
       "\n",
       "  function register_renderer(events, OutputArea) {\n",
       "\n",
       "    function append_mime(data, metadata, element) {\n",
       "      // create a DOM node to render to\n",
       "      var toinsert = this.create_output_subarea(\n",
       "        metadata,\n",
       "        CLASS_NAME,\n",
       "        EXEC_MIME_TYPE\n",
       "      );\n",
       "      this.keyboard_manager.register_events(toinsert);\n",
       "      // Render to node\n",
       "      var props = {data: data, metadata: metadata[EXEC_MIME_TYPE]};\n",
       "      render(props, toinsert[toinsert.length - 1]);\n",
       "      element.append(toinsert);\n",
       "      return toinsert\n",
       "    }\n",
       "\n",
       "    /* Handle when an output is cleared or removed */\n",
       "    events.on('clear_output.CodeCell', handleClearOutput);\n",
       "    events.on('delete.Cell', handleClearOutput);\n",
       "\n",
       "    /* Handle when a new output is added */\n",
       "    events.on('output_added.OutputArea', handleAddOutput);\n",
       "\n",
       "    /**\n",
       "     * Register the mime type and append_mime function with output_area\n",
       "     */\n",
       "    OutputArea.prototype.register_mime_type(EXEC_MIME_TYPE, append_mime, {\n",
       "      /* Is output safe? */\n",
       "      safe: true,\n",
       "      /* Index of renderer in `output_area.display_order` */\n",
       "      index: 0\n",
       "    });\n",
       "  }\n",
       "\n",
       "  // register the mime type if in Jupyter Notebook environment and previously unregistered\n",
       "  if (root.Jupyter !== undefined) {\n",
       "    var events = require('base/js/events');\n",
       "    var OutputArea = require('notebook/js/outputarea').OutputArea;\n",
       "\n",
       "    if (OutputArea.prototype.mime_types().indexOf(EXEC_MIME_TYPE) == -1) {\n",
       "      register_renderer(events, OutputArea);\n",
       "    }\n",
       "  }\n",
       "\n",
       "  \n",
       "  if (typeof (root._bokeh_timeout) === \"undefined\" || force === true) {\n",
       "    root._bokeh_timeout = Date.now() + 5000;\n",
       "    root._bokeh_failed_load = false;\n",
       "  }\n",
       "\n",
       "  var NB_LOAD_WARNING = {'data': {'text/html':\n",
       "     \"<div style='background-color: #fdd'>\\n\"+\n",
       "     \"<p>\\n\"+\n",
       "     \"BokehJS does not appear to have successfully loaded. If loading BokehJS from CDN, this \\n\"+\n",
       "     \"may be due to a slow or bad network connection. Possible fixes:\\n\"+\n",
       "     \"</p>\\n\"+\n",
       "     \"<ul>\\n\"+\n",
       "     \"<li>re-rerun `output_notebook()` to attempt to load from CDN again, or</li>\\n\"+\n",
       "     \"<li>use INLINE resources instead, as so:</li>\\n\"+\n",
       "     \"</ul>\\n\"+\n",
       "     \"<code>\\n\"+\n",
       "     \"from bokeh.resources import INLINE\\n\"+\n",
       "     \"output_notebook(resources=INLINE)\\n\"+\n",
       "     \"</code>\\n\"+\n",
       "     \"</div>\"}};\n",
       "\n",
       "  function display_loaded() {\n",
       "    var el = document.getElementById(\"6119\");\n",
       "    if (el != null) {\n",
       "      el.textContent = \"BokehJS is loading...\";\n",
       "    }\n",
       "    if (root.Bokeh !== undefined) {\n",
       "      if (el != null) {\n",
       "        el.textContent = \"BokehJS \" + root.Bokeh.version + \" successfully loaded.\";\n",
       "      }\n",
       "    } else if (Date.now() < root._bokeh_timeout) {\n",
       "      setTimeout(display_loaded, 100)\n",
       "    }\n",
       "  }\n",
       "\n",
       "\n",
       "  function run_callbacks() {\n",
       "    try {\n",
       "      root._bokeh_onload_callbacks.forEach(function(callback) {\n",
       "        if (callback != null)\n",
       "          callback();\n",
       "      });\n",
       "    } finally {\n",
       "      delete root._bokeh_onload_callbacks\n",
       "    }\n",
       "    console.debug(\"Bokeh: all callbacks have finished\");\n",
       "  }\n",
       "\n",
       "  function load_libs(css_urls, js_urls, callback) {\n",
       "    if (css_urls == null) css_urls = [];\n",
       "    if (js_urls == null) js_urls = [];\n",
       "\n",
       "    root._bokeh_onload_callbacks.push(callback);\n",
       "    if (root._bokeh_is_loading > 0) {\n",
       "      console.debug(\"Bokeh: BokehJS is being loaded, scheduling callback at\", now());\n",
       "      return null;\n",
       "    }\n",
       "    if (js_urls == null || js_urls.length === 0) {\n",
       "      run_callbacks();\n",
       "      return null;\n",
       "    }\n",
       "    console.debug(\"Bokeh: BokehJS not loaded, scheduling load and callback at\", now());\n",
       "    root._bokeh_is_loading = css_urls.length + js_urls.length;\n",
       "\n",
       "    function on_load() {\n",
       "      root._bokeh_is_loading--;\n",
       "      if (root._bokeh_is_loading === 0) {\n",
       "        console.debug(\"Bokeh: all BokehJS libraries/stylesheets loaded\");\n",
       "        run_callbacks()\n",
       "      }\n",
       "    }\n",
       "\n",
       "    function on_error(url) {\n",
       "      console.error(\"failed to load \" + url);\n",
       "    }\n",
       "\n",
       "    for (let i = 0; i < css_urls.length; i++) {\n",
       "      const url = css_urls[i];\n",
       "      const element = document.createElement(\"link\");\n",
       "      element.onload = on_load;\n",
       "      element.onerror = on_error.bind(null, url);\n",
       "      element.rel = \"stylesheet\";\n",
       "      element.type = \"text/css\";\n",
       "      element.href = url;\n",
       "      console.debug(\"Bokeh: injecting link tag for BokehJS stylesheet: \", url);\n",
       "      document.body.appendChild(element);\n",
       "    }\n",
       "\n",
       "    const hashes = {\"https://cdn.bokeh.org/bokeh/release/bokeh-2.3.2.min.js\": \"XypntL49z55iwGVUW4qsEu83zKL3XEcz0MjuGOQ9SlaaQ68X/g+k1FcioZi7oQAc\", \"https://cdn.bokeh.org/bokeh/release/bokeh-tables-2.3.2.min.js\": \"bEsM86IHGDTLCS0Zod8a8WM6Y4+lafAL/eSiyQcuPzinmWNgNO2/olUF0Z2Dkn5i\", \"https://cdn.bokeh.org/bokeh/release/bokeh-widgets-2.3.2.min.js\": \"TX0gSQTdXTTeScqxj6PVQxTiRW8DOoGVwinyi1D3kxv7wuxQ02XkOxv0xwiypcAH\"};\n",
       "\n",
       "    for (let i = 0; i < js_urls.length; i++) {\n",
       "      const url = js_urls[i];\n",
       "      const element = document.createElement('script');\n",
       "      element.onload = on_load;\n",
       "      element.onerror = on_error.bind(null, url);\n",
       "      element.async = false;\n",
       "      element.src = url;\n",
       "      if (url in hashes) {\n",
       "        element.crossOrigin = \"anonymous\";\n",
       "        element.integrity = \"sha384-\" + hashes[url];\n",
       "      }\n",
       "      console.debug(\"Bokeh: injecting script tag for BokehJS library: \", url);\n",
       "      document.head.appendChild(element);\n",
       "    }\n",
       "  };\n",
       "\n",
       "  function inject_raw_css(css) {\n",
       "    const element = document.createElement(\"style\");\n",
       "    element.appendChild(document.createTextNode(css));\n",
       "    document.body.appendChild(element);\n",
       "  }\n",
       "\n",
       "  \n",
       "  var js_urls = [\"https://cdn.bokeh.org/bokeh/release/bokeh-2.3.2.min.js\", \"https://cdn.bokeh.org/bokeh/release/bokeh-widgets-2.3.2.min.js\", \"https://cdn.bokeh.org/bokeh/release/bokeh-tables-2.3.2.min.js\"];\n",
       "  var css_urls = [];\n",
       "  \n",
       "\n",
       "  var inline_js = [\n",
       "    function(Bokeh) {\n",
       "      Bokeh.set_log_level(\"info\");\n",
       "    },\n",
       "    function(Bokeh) {\n",
       "    \n",
       "    \n",
       "    }\n",
       "  ];\n",
       "\n",
       "  function run_inline_js() {\n",
       "    \n",
       "    if (root.Bokeh !== undefined || force === true) {\n",
       "      \n",
       "    for (var i = 0; i < inline_js.length; i++) {\n",
       "      inline_js[i].call(root, root.Bokeh);\n",
       "    }\n",
       "    if (force === true) {\n",
       "        display_loaded();\n",
       "      }} else if (Date.now() < root._bokeh_timeout) {\n",
       "      setTimeout(run_inline_js, 100);\n",
       "    } else if (!root._bokeh_failed_load) {\n",
       "      console.log(\"Bokeh: BokehJS failed to load within specified timeout.\");\n",
       "      root._bokeh_failed_load = true;\n",
       "    } else if (force !== true) {\n",
       "      var cell = $(document.getElementById(\"6119\")).parents('.cell').data().cell;\n",
       "      cell.output_area.append_execute_result(NB_LOAD_WARNING)\n",
       "    }\n",
       "\n",
       "  }\n",
       "\n",
       "  if (root._bokeh_is_loading === 0) {\n",
       "    console.debug(\"Bokeh: BokehJS loaded, going straight to plotting\");\n",
       "    run_inline_js();\n",
       "  } else {\n",
       "    load_libs(css_urls, js_urls, function() {\n",
       "      console.debug(\"Bokeh: BokehJS plotting callback run at\", now());\n",
       "      run_inline_js();\n",
       "    });\n",
       "  }\n",
       "}(window));"
      ],
      "application/vnd.bokehjs_load.v0+json": "\n(function(root) {\n  function now() {\n    return new Date();\n  }\n\n  var force = true;\n\n  if (typeof root._bokeh_onload_callbacks === \"undefined\" || force === true) {\n    root._bokeh_onload_callbacks = [];\n    root._bokeh_is_loading = undefined;\n  }\n\n  \n\n  \n  if (typeof (root._bokeh_timeout) === \"undefined\" || force === true) {\n    root._bokeh_timeout = Date.now() + 5000;\n    root._bokeh_failed_load = false;\n  }\n\n  var NB_LOAD_WARNING = {'data': {'text/html':\n     \"<div style='background-color: #fdd'>\\n\"+\n     \"<p>\\n\"+\n     \"BokehJS does not appear to have successfully loaded. If loading BokehJS from CDN, this \\n\"+\n     \"may be due to a slow or bad network connection. Possible fixes:\\n\"+\n     \"</p>\\n\"+\n     \"<ul>\\n\"+\n     \"<li>re-rerun `output_notebook()` to attempt to load from CDN again, or</li>\\n\"+\n     \"<li>use INLINE resources instead, as so:</li>\\n\"+\n     \"</ul>\\n\"+\n     \"<code>\\n\"+\n     \"from bokeh.resources import INLINE\\n\"+\n     \"output_notebook(resources=INLINE)\\n\"+\n     \"</code>\\n\"+\n     \"</div>\"}};\n\n  function display_loaded() {\n    var el = document.getElementById(\"6119\");\n    if (el != null) {\n      el.textContent = \"BokehJS is loading...\";\n    }\n    if (root.Bokeh !== undefined) {\n      if (el != null) {\n        el.textContent = \"BokehJS \" + root.Bokeh.version + \" successfully loaded.\";\n      }\n    } else if (Date.now() < root._bokeh_timeout) {\n      setTimeout(display_loaded, 100)\n    }\n  }\n\n\n  function run_callbacks() {\n    try {\n      root._bokeh_onload_callbacks.forEach(function(callback) {\n        if (callback != null)\n          callback();\n      });\n    } finally {\n      delete root._bokeh_onload_callbacks\n    }\n    console.debug(\"Bokeh: all callbacks have finished\");\n  }\n\n  function load_libs(css_urls, js_urls, callback) {\n    if (css_urls == null) css_urls = [];\n    if (js_urls == null) js_urls = [];\n\n    root._bokeh_onload_callbacks.push(callback);\n    if (root._bokeh_is_loading > 0) {\n      console.debug(\"Bokeh: BokehJS is being loaded, scheduling callback at\", now());\n      return null;\n    }\n    if (js_urls == null || js_urls.length === 0) {\n      run_callbacks();\n      return null;\n    }\n    console.debug(\"Bokeh: BokehJS not loaded, scheduling load and callback at\", now());\n    root._bokeh_is_loading = css_urls.length + js_urls.length;\n\n    function on_load() {\n      root._bokeh_is_loading--;\n      if (root._bokeh_is_loading === 0) {\n        console.debug(\"Bokeh: all BokehJS libraries/stylesheets loaded\");\n        run_callbacks()\n      }\n    }\n\n    function on_error(url) {\n      console.error(\"failed to load \" + url);\n    }\n\n    for (let i = 0; i < css_urls.length; i++) {\n      const url = css_urls[i];\n      const element = document.createElement(\"link\");\n      element.onload = on_load;\n      element.onerror = on_error.bind(null, url);\n      element.rel = \"stylesheet\";\n      element.type = \"text/css\";\n      element.href = url;\n      console.debug(\"Bokeh: injecting link tag for BokehJS stylesheet: \", url);\n      document.body.appendChild(element);\n    }\n\n    const hashes = {\"https://cdn.bokeh.org/bokeh/release/bokeh-2.3.2.min.js\": \"XypntL49z55iwGVUW4qsEu83zKL3XEcz0MjuGOQ9SlaaQ68X/g+k1FcioZi7oQAc\", \"https://cdn.bokeh.org/bokeh/release/bokeh-tables-2.3.2.min.js\": \"bEsM86IHGDTLCS0Zod8a8WM6Y4+lafAL/eSiyQcuPzinmWNgNO2/olUF0Z2Dkn5i\", \"https://cdn.bokeh.org/bokeh/release/bokeh-widgets-2.3.2.min.js\": \"TX0gSQTdXTTeScqxj6PVQxTiRW8DOoGVwinyi1D3kxv7wuxQ02XkOxv0xwiypcAH\"};\n\n    for (let i = 0; i < js_urls.length; i++) {\n      const url = js_urls[i];\n      const element = document.createElement('script');\n      element.onload = on_load;\n      element.onerror = on_error.bind(null, url);\n      element.async = false;\n      element.src = url;\n      if (url in hashes) {\n        element.crossOrigin = \"anonymous\";\n        element.integrity = \"sha384-\" + hashes[url];\n      }\n      console.debug(\"Bokeh: injecting script tag for BokehJS library: \", url);\n      document.head.appendChild(element);\n    }\n  };\n\n  function inject_raw_css(css) {\n    const element = document.createElement(\"style\");\n    element.appendChild(document.createTextNode(css));\n    document.body.appendChild(element);\n  }\n\n  \n  var js_urls = [\"https://cdn.bokeh.org/bokeh/release/bokeh-2.3.2.min.js\", \"https://cdn.bokeh.org/bokeh/release/bokeh-widgets-2.3.2.min.js\", \"https://cdn.bokeh.org/bokeh/release/bokeh-tables-2.3.2.min.js\"];\n  var css_urls = [];\n  \n\n  var inline_js = [\n    function(Bokeh) {\n      Bokeh.set_log_level(\"info\");\n    },\n    function(Bokeh) {\n    \n    \n    }\n  ];\n\n  function run_inline_js() {\n    \n    if (root.Bokeh !== undefined || force === true) {\n      \n    for (var i = 0; i < inline_js.length; i++) {\n      inline_js[i].call(root, root.Bokeh);\n    }\n    if (force === true) {\n        display_loaded();\n      }} else if (Date.now() < root._bokeh_timeout) {\n      setTimeout(run_inline_js, 100);\n    } else if (!root._bokeh_failed_load) {\n      console.log(\"Bokeh: BokehJS failed to load within specified timeout.\");\n      root._bokeh_failed_load = true;\n    } else if (force !== true) {\n      var cell = $(document.getElementById(\"6119\")).parents('.cell').data().cell;\n      cell.output_area.append_execute_result(NB_LOAD_WARNING)\n    }\n\n  }\n\n  if (root._bokeh_is_loading === 0) {\n    console.debug(\"Bokeh: BokehJS loaded, going straight to plotting\");\n    run_inline_js();\n  } else {\n    load_libs(css_urls, js_urls, function() {\n      console.debug(\"Bokeh: BokehJS plotting callback run at\", now());\n      run_inline_js();\n    });\n  }\n}(window));"
     },
     "metadata": {},
     "output_type": "display_data"
    }
   ],
   "source": [
    "output_notebook()"
   ]
  },
  {
   "cell_type": "code",
   "execution_count": 149,
   "metadata": {},
   "outputs": [],
   "source": [
    "def get_top_n_words(corpus, n = None):\n",
    "    \"\"\"\n",
    "    A function that returns the top 'n' unigrams used in the corpus\n",
    "    \"\"\"\n",
    "    vec = CountVectorizer().fit(corpus)\n",
    "    bag_of_words = vec.transform(corpus) ## Shape: (2045, 46774) -> There are 2045 sentences and 46774 words\n",
    "    sum_words = bag_of_words.sum(axis=0) ## Shape: (1, 46774) -> Count of occurance of each word\n",
    "    words_freq = [(word, sum_words[0, idx]) for word, idx in vec.vocabulary_.items()] ## vec.vocabulary_.items returns the dictionary with (word, index)\n",
    "    freq_sorted = sorted(words_freq, key = lambda x: x[1], reverse = True)\n",
    "    return freq_sorted[:n]\n",
    "\n",
    "def get_top_n_bigram(corpus, n = None):\n",
    "    \"\"\"\n",
    "    A function that returns the top 'n' bigrams used in the corpus\n",
    "    \"\"\"\n",
    "    vec = CountVectorizer(ngram_range = (2, 2)).fit(corpus)\n",
    "    bag_of_words = vec.transform(corpus)\n",
    "    sum_words = bag_of_words.sum(axis = 0) \n",
    "    words_freq = [(word, sum_words[0, idx]) for word, idx in vec.vocabulary_.items()]\n",
    "    freq_sorted = sorted(words_freq, key = lambda x: x[1], reverse=True)\n",
    "    return freq_sorted[:n]"
   ]
  },
  {
   "cell_type": "code",
   "execution_count": 150,
   "metadata": {},
   "outputs": [
    {
     "data": {
      "text/html": [
       "\n",
       "\n",
       "\n",
       "\n",
       "\n",
       "\n",
       "  <div class=\"bk-root\" id=\"68e0298f-7f18-43ed-ae54-b0111c019bc1\" data-root-id=\"6121\"></div>\n"
      ]
     },
     "metadata": {},
     "output_type": "display_data"
    },
    {
     "data": {
      "application/javascript": [
       "(function(root) {\n",
       "  function embed_document(root) {\n",
       "    \n",
       "  var docs_json = {\"e2cac982-4b73-43b0-954e-3105ed4005fe\":{\"defs\":[],\"roots\":{\"references\":[{\"attributes\":{\"background_fill_color\":\"#20262B\",\"below\":[{\"id\":\"6132\"}],\"border_fill_color\":\"#15191C\",\"center\":[{\"id\":\"6134\"},{\"id\":\"6138\"}],\"height\":400,\"left\":[{\"id\":\"6135\"}],\"outline_line_alpha\":0.25,\"outline_line_color\":\"#E0E0E0\",\"renderers\":[{\"id\":\"6145\"}],\"title\":{\"id\":\"6122\"},\"toolbar\":{\"id\":\"6140\"},\"width\":800,\"x_range\":{\"id\":\"6124\"},\"x_scale\":{\"id\":\"6128\"},\"y_range\":{\"id\":\"6126\"},\"y_scale\":{\"id\":\"6130\"}},\"id\":\"6121\",\"subtype\":\"Figure\",\"type\":\"Plot\"},{\"attributes\":{\"start\":0},\"id\":\"6126\",\"type\":\"DataRange1d\"},{\"attributes\":{},\"id\":\"6133\",\"type\":\"CategoricalTicker\"},{\"attributes\":{},\"id\":\"6389\",\"type\":\"UnionRenderers\"},{\"attributes\":{},\"id\":\"6136\",\"type\":\"BasicTicker\"},{\"attributes\":{\"axis_label_standoff\":10,\"axis_label_text_color\":\"#E0E0E0\",\"axis_label_text_font\":\"Helvetica\",\"axis_label_text_font_size\":\"1.25em\",\"axis_label_text_font_style\":\"normal\",\"axis_line_alpha\":0,\"axis_line_color\":\"#E0E0E0\",\"formatter\":{\"id\":\"6383\"},\"major_label_orientation\":\"vertical\",\"major_label_policy\":{\"id\":\"6384\"},\"major_label_text_color\":\"#E0E0E0\",\"major_label_text_font\":\"Helvetica\",\"major_label_text_font_size\":\"1.025em\",\"major_tick_line_alpha\":0,\"major_tick_line_color\":\"#E0E0E0\",\"minor_tick_line_alpha\":0,\"minor_tick_line_color\":\"#E0E0E0\",\"ticker\":{\"id\":\"6133\"}},\"id\":\"6132\",\"type\":\"CategoricalAxis\"},{\"attributes\":{\"align\":\"center\",\"text\":\"Top Unigrams\",\"text_color\":\"#E0E0E0\",\"text_font\":\"Helvetica\",\"text_font_size\":\"1.15em\"},\"id\":\"6122\",\"type\":\"Title\"},{\"attributes\":{\"axis_label_standoff\":10,\"axis_label_text_color\":\"#E0E0E0\",\"axis_label_text_font\":\"Helvetica\",\"axis_label_text_font_size\":\"1.25em\",\"axis_label_text_font_style\":\"normal\",\"axis_line_alpha\":0,\"axis_line_color\":\"#E0E0E0\",\"formatter\":{\"id\":\"6386\"},\"major_label_policy\":{\"id\":\"6387\"},\"major_label_text_color\":\"#E0E0E0\",\"major_label_text_font\":\"Helvetica\",\"major_label_text_font_size\":\"1.025em\",\"major_tick_line_alpha\":0,\"major_tick_line_color\":\"#E0E0E0\",\"minor_tick_line_alpha\":0,\"minor_tick_line_color\":\"#E0E0E0\",\"ticker\":{\"id\":\"6136\"}},\"id\":\"6135\",\"type\":\"LinearAxis\"},{\"attributes\":{\"source\":{\"id\":\"6120\"}},\"id\":\"6146\",\"type\":\"CDSView\"},{\"attributes\":{},\"id\":\"6383\",\"type\":\"CategoricalTickFormatter\"},{\"attributes\":{\"data\":{\"Word\":[\"trump\",\"clinton\",\"us\",\"one\",\"people\",\"said\",\"would\",\"hillary\",\"also\",\"like\",\"new\",\"election\",\"even\",\"time\",\"state\",\"president\",\"get\",\"could\",\"campaign\",\"many\"],\"color\":[\"#C20078\",\"#C20078\",\"#C20078\",\"#C20078\",\"#C20078\",\"#C20078\",\"#C20078\",\"#C20078\",\"#C20078\",\"#C20078\",\"#C20078\",\"#C20078\",\"#C20078\",\"#C20078\",\"#C20078\",\"#C20078\",\"#C20078\",\"#C20078\",\"#C20078\",\"#C20078\"],\"counts\":[3203,2830,2286,2270,2188,2184,2121,1907,1641,1623,1402,1383,1323,1321,1184,1129,1111,1104,1104,1064]},\"selected\":{\"id\":\"6388\"},\"selection_policy\":{\"id\":\"6389\"}},\"id\":\"6120\",\"type\":\"ColumnDataSource\"},{\"attributes\":{},\"id\":\"6387\",\"type\":\"AllLabels\"},{\"attributes\":{},\"id\":\"6388\",\"type\":\"Selection\"},{\"attributes\":{\"factors\":[\"trump\",\"clinton\",\"us\",\"one\",\"people\",\"said\",\"would\",\"hillary\",\"also\",\"like\",\"new\",\"election\",\"even\",\"time\",\"state\",\"president\",\"get\",\"could\",\"campaign\",\"many\"]},\"id\":\"6124\",\"type\":\"FactorRange\"},{\"attributes\":{},\"id\":\"6386\",\"type\":\"BasicTickFormatter\"},{\"attributes\":{\"axis\":{\"id\":\"6135\"},\"dimension\":1,\"grid_line_alpha\":0.25,\"grid_line_color\":\"#E0E0E0\",\"ticker\":null},\"id\":\"6138\",\"type\":\"Grid\"},{\"attributes\":{},\"id\":\"6130\",\"type\":\"LinearScale\"},{\"attributes\":{},\"id\":\"6128\",\"type\":\"CategoricalScale\"},{\"attributes\":{\"fill_alpha\":{\"value\":0.1},\"fill_color\":{\"field\":\"color\"},\"line_alpha\":{\"value\":0.1},\"line_color\":{\"field\":\"color\"},\"top\":{\"field\":\"counts\"},\"width\":{\"value\":0.8},\"x\":{\"field\":\"Word\"}},\"id\":\"6144\",\"type\":\"VBar\"},{\"attributes\":{\"data_source\":{\"id\":\"6120\"},\"glyph\":{\"id\":\"6143\"},\"hover_glyph\":null,\"muted_glyph\":null,\"nonselection_glyph\":{\"id\":\"6144\"},\"view\":{\"id\":\"6146\"}},\"id\":\"6145\",\"type\":\"GlyphRenderer\"},{\"attributes\":{},\"id\":\"6384\",\"type\":\"AllLabels\"},{\"attributes\":{\"active_multi\":null,\"tools\":[{\"id\":\"6139\"}]},\"id\":\"6140\",\"type\":\"Toolbar\"},{\"attributes\":{\"axis\":{\"id\":\"6132\"},\"grid_line_alpha\":0.25,\"grid_line_color\":null,\"ticker\":null},\"id\":\"6134\",\"type\":\"Grid\"},{\"attributes\":{\"callback\":null,\"tooltips\":\"@Word: @counts\"},\"id\":\"6139\",\"type\":\"HoverTool\"},{\"attributes\":{\"fill_color\":{\"field\":\"color\"},\"line_color\":{\"field\":\"color\"},\"top\":{\"field\":\"counts\"},\"width\":{\"value\":0.8},\"x\":{\"field\":\"Word\"}},\"id\":\"6143\",\"type\":\"VBar\"}],\"root_ids\":[\"6121\"]},\"title\":\"Bokeh Application\",\"version\":\"2.3.2\"}};\n",
       "  var render_items = [{\"docid\":\"e2cac982-4b73-43b0-954e-3105ed4005fe\",\"root_ids\":[\"6121\"],\"roots\":{\"6121\":\"68e0298f-7f18-43ed-ae54-b0111c019bc1\"}}];\n",
       "  root.Bokeh.embed.embed_items_notebook(docs_json, render_items);\n",
       "\n",
       "  }\n",
       "  if (root.Bokeh !== undefined) {\n",
       "    embed_document(root);\n",
       "  } else {\n",
       "    var attempts = 0;\n",
       "    var timer = setInterval(function(root) {\n",
       "      if (root.Bokeh !== undefined) {\n",
       "        clearInterval(timer);\n",
       "        embed_document(root);\n",
       "      } else {\n",
       "        attempts++;\n",
       "        if (attempts > 100) {\n",
       "          clearInterval(timer);\n",
       "          console.log(\"Bokeh: ERROR: Unable to run BokehJS code because BokehJS library is missing\");\n",
       "        }\n",
       "      }\n",
       "    }, 10, root)\n",
       "  }\n",
       "})(window);"
      ],
      "application/vnd.bokehjs_exec.v0+json": ""
     },
     "metadata": {
      "application/vnd.bokehjs_exec.v0+json": {
       "id": "6121"
      }
     },
     "output_type": "display_data"
    }
   ],
   "source": [
    "top_unigram = get_top_n_words(df['text_without_stopwords'], 20)\n",
    "words = [i[0] for i in top_unigram]\n",
    "count = [i[1] for i in top_unigram]\n",
    "source = ColumnDataSource(data = dict(Word = words, counts = count, color = ['#C20078'] * 20))\n",
    "\n",
    "p = figure(x_range = words, plot_height = 400, plot_width = 800, title = \"Top Unigrams\", tools = \"hover\", tooltips = \"@Word: @counts\")\n",
    "p.vbar(x = 'Word', top = 'counts', width = 0.8, source = source, color = 'color')\n",
    "curdoc().theme = 'dark_minimal'\n",
    "p.xgrid.grid_line_color = None\n",
    "p.y_range.start = 0\n",
    "p.title.align = 'center'\n",
    "p.xaxis.major_label_orientation = \"vertical\"\n",
    "show(p)"
   ]
  },
  {
   "cell_type": "code",
   "execution_count": 151,
   "metadata": {},
   "outputs": [
    {
     "data": {
      "text/html": [
       "\n",
       "\n",
       "\n",
       "\n",
       "\n",
       "\n",
       "  <div class=\"bk-root\" id=\"2d622798-67ff-4791-8c05-28e009cdc7c7\" data-root-id=\"6436\"></div>\n"
      ]
     },
     "metadata": {},
     "output_type": "display_data"
    },
    {
     "data": {
      "application/javascript": [
       "(function(root) {\n",
       "  function embed_document(root) {\n",
       "    \n",
       "  var docs_json = {\"77f141f7-348d-457a-8905-30e3dbaefb2b\":{\"defs\":[],\"roots\":{\"references\":[{\"attributes\":{\"background_fill_color\":\"#20262B\",\"below\":[{\"id\":\"6447\"}],\"border_fill_color\":\"#15191C\",\"center\":[{\"id\":\"6449\"},{\"id\":\"6453\"}],\"height\":400,\"left\":[{\"id\":\"6450\"}],\"outline_line_alpha\":0.25,\"outline_line_color\":\"#E0E0E0\",\"renderers\":[{\"id\":\"6460\"}],\"title\":{\"id\":\"6437\"},\"toolbar\":{\"id\":\"6455\"},\"width\":800,\"x_range\":{\"id\":\"6439\"},\"x_scale\":{\"id\":\"6443\"},\"y_range\":{\"id\":\"6441\"},\"y_scale\":{\"id\":\"6445\"}},\"id\":\"6436\",\"subtype\":\"Figure\",\"type\":\"Plot\"},{\"attributes\":{},\"id\":\"6451\",\"type\":\"BasicTicker\"},{\"attributes\":{},\"id\":\"6710\",\"type\":\"BasicTickFormatter\"},{\"attributes\":{\"fill_color\":{\"field\":\"color\"},\"line_color\":{\"field\":\"color\"},\"top\":{\"field\":\"counts\"},\"width\":{\"value\":0.8},\"x\":{\"field\":\"Word\"}},\"id\":\"6458\",\"type\":\"VBar\"},{\"attributes\":{},\"id\":\"6448\",\"type\":\"CategoricalTicker\"},{\"attributes\":{},\"id\":\"6708\",\"type\":\"AllLabels\"},{\"attributes\":{},\"id\":\"6711\",\"type\":\"AllLabels\"},{\"attributes\":{\"axis_label_standoff\":10,\"axis_label_text_color\":\"#E0E0E0\",\"axis_label_text_font\":\"Helvetica\",\"axis_label_text_font_size\":\"1.25em\",\"axis_label_text_font_style\":\"normal\",\"axis_line_alpha\":0,\"axis_line_color\":\"#E0E0E0\",\"formatter\":{\"id\":\"6707\"},\"major_label_orientation\":\"vertical\",\"major_label_policy\":{\"id\":\"6708\"},\"major_label_text_color\":\"#E0E0E0\",\"major_label_text_font\":\"Helvetica\",\"major_label_text_font_size\":\"1.025em\",\"major_tick_line_alpha\":0,\"major_tick_line_color\":\"#E0E0E0\",\"minor_tick_line_alpha\":0,\"minor_tick_line_color\":\"#E0E0E0\",\"ticker\":{\"id\":\"6448\"}},\"id\":\"6447\",\"type\":\"CategoricalAxis\"},{\"attributes\":{\"fill_alpha\":{\"value\":0.1},\"fill_color\":{\"field\":\"color\"},\"line_alpha\":{\"value\":0.1},\"line_color\":{\"field\":\"color\"},\"top\":{\"field\":\"counts\"},\"width\":{\"value\":0.8},\"x\":{\"field\":\"Word\"}},\"id\":\"6459\",\"type\":\"VBar\"},{\"attributes\":{\"axis_label_standoff\":10,\"axis_label_text_color\":\"#E0E0E0\",\"axis_label_text_font\":\"Helvetica\",\"axis_label_text_font_size\":\"1.25em\",\"axis_label_text_font_style\":\"normal\",\"axis_line_alpha\":0,\"axis_line_color\":\"#E0E0E0\",\"formatter\":{\"id\":\"6710\"},\"major_label_policy\":{\"id\":\"6711\"},\"major_label_text_color\":\"#E0E0E0\",\"major_label_text_font\":\"Helvetica\",\"major_label_text_font_size\":\"1.025em\",\"major_tick_line_alpha\":0,\"major_tick_line_color\":\"#E0E0E0\",\"minor_tick_line_alpha\":0,\"minor_tick_line_color\":\"#E0E0E0\",\"ticker\":{\"id\":\"6451\"}},\"id\":\"6450\",\"type\":\"LinearAxis\"},{\"attributes\":{\"active_multi\":null,\"tools\":[{\"id\":\"6454\"}]},\"id\":\"6455\",\"type\":\"Toolbar\"},{\"attributes\":{},\"id\":\"6713\",\"type\":\"UnionRenderers\"},{\"attributes\":{\"data_source\":{\"id\":\"6435\"},\"glyph\":{\"id\":\"6458\"},\"hover_glyph\":null,\"muted_glyph\":null,\"nonselection_glyph\":{\"id\":\"6459\"},\"view\":{\"id\":\"6461\"}},\"id\":\"6460\",\"type\":\"GlyphRenderer\"},{\"attributes\":{\"source\":{\"id\":\"6435\"}},\"id\":\"6461\",\"type\":\"CDSView\"},{\"attributes\":{},\"id\":\"6445\",\"type\":\"LinearScale\"},{\"attributes\":{},\"id\":\"6712\",\"type\":\"Selection\"},{\"attributes\":{\"callback\":null,\"tooltips\":\"@Word: @counts\"},\"id\":\"6454\",\"type\":\"HoverTool\"},{\"attributes\":{\"axis\":{\"id\":\"6447\"},\"grid_line_alpha\":0.25,\"grid_line_color\":null,\"ticker\":null},\"id\":\"6449\",\"type\":\"Grid\"},{\"attributes\":{\"start\":0},\"id\":\"6441\",\"type\":\"DataRange1d\"},{\"attributes\":{\"axis\":{\"id\":\"6450\"},\"dimension\":1,\"grid_line_alpha\":0.25,\"grid_line_color\":\"#E0E0E0\",\"ticker\":null},\"id\":\"6453\",\"type\":\"Grid\"},{\"attributes\":{\"align\":\"center\",\"text\":\"Top Bigrams\",\"text_color\":\"#E0E0E0\",\"text_font\":\"Helvetica\",\"text_font_size\":\"1.15em\"},\"id\":\"6437\",\"type\":\"Title\"},{\"attributes\":{},\"id\":\"6443\",\"type\":\"CategoricalScale\"},{\"attributes\":{},\"id\":\"6707\",\"type\":\"CategoricalTickFormatter\"},{\"attributes\":{\"factors\":[\"hillary clinton\",\"donald trump\",\"united states\",\"new york\",\"white house\",\"clinton campaign\",\"hillary clintons\",\"brain force\",\"bill clinton\",\"clinton foundation\",\"secretary state\",\"presidential election\",\"fbi director\",\"mainstream media\",\"alex jones\",\"barack obama\",\"donald trumps\",\"election day\",\"democratic party\",\"attorney general\"]},\"id\":\"6439\",\"type\":\"FactorRange\"},{\"attributes\":{\"data\":{\"Word\":[\"hillary clinton\",\"donald trump\",\"united states\",\"new york\",\"white house\",\"clinton campaign\",\"hillary clintons\",\"brain force\",\"bill clinton\",\"clinton foundation\",\"secretary state\",\"presidential election\",\"fbi director\",\"mainstream media\",\"alex jones\",\"barack obama\",\"donald trumps\",\"election day\",\"democratic party\",\"attorney general\"],\"color\":[\"#4B0082\",\"#4B0082\",\"#4B0082\",\"#4B0082\",\"#4B0082\",\"#4B0082\",\"#4B0082\",\"#4B0082\",\"#4B0082\",\"#4B0082\",\"#4B0082\",\"#4B0082\",\"#4B0082\",\"#4B0082\",\"#4B0082\",\"#4B0082\",\"#4B0082\",\"#4B0082\",\"#4B0082\",\"#4B0082\"],\"counts\":[1007,849,479,320,314,240,216,209,171,171,168,147,140,137,136,135,127,125,122,120]},\"selected\":{\"id\":\"6712\"},\"selection_policy\":{\"id\":\"6713\"}},\"id\":\"6435\",\"type\":\"ColumnDataSource\"}],\"root_ids\":[\"6436\"]},\"title\":\"Bokeh Application\",\"version\":\"2.3.2\"}};\n",
       "  var render_items = [{\"docid\":\"77f141f7-348d-457a-8905-30e3dbaefb2b\",\"root_ids\":[\"6436\"],\"roots\":{\"6436\":\"2d622798-67ff-4791-8c05-28e009cdc7c7\"}}];\n",
       "  root.Bokeh.embed.embed_items_notebook(docs_json, render_items);\n",
       "\n",
       "  }\n",
       "  if (root.Bokeh !== undefined) {\n",
       "    embed_document(root);\n",
       "  } else {\n",
       "    var attempts = 0;\n",
       "    var timer = setInterval(function(root) {\n",
       "      if (root.Bokeh !== undefined) {\n",
       "        clearInterval(timer);\n",
       "        embed_document(root);\n",
       "      } else {\n",
       "        attempts++;\n",
       "        if (attempts > 100) {\n",
       "          clearInterval(timer);\n",
       "          console.log(\"Bokeh: ERROR: Unable to run BokehJS code because BokehJS library is missing\");\n",
       "        }\n",
       "      }\n",
       "    }, 10, root)\n",
       "  }\n",
       "})(window);"
      ],
      "application/vnd.bokehjs_exec.v0+json": ""
     },
     "metadata": {
      "application/vnd.bokehjs_exec.v0+json": {
       "id": "6436"
      }
     },
     "output_type": "display_data"
    }
   ],
   "source": [
    "top_bigram = get_top_n_bigram(df['text_without_stopwords'], 20)\n",
    "words = [i[0] for i in top_bigram]\n",
    "count = [i[1] for i in top_bigram]\n",
    "source = ColumnDataSource(data = dict(Word = words, counts = count, color = ['#4B0082'] * 20))\n",
    "\n",
    "p1 = figure(x_range = words, plot_height = 400, plot_width = 800, title = \"Top Bigrams\", tools = \"hover\", tooltips = \"@Word: @counts\")\n",
    "p1.vbar(x = 'Word', top = 'counts', width = 0.8, source = source, color = 'color')\n",
    "# curdoc().theme = 'dark_minimal'\n",
    "p1.xgrid.grid_line_color = None\n",
    "p1.title.align = 'center'\n",
    "p1.y_range.start = 0\n",
    "p1.xaxis.major_label_orientation = \"vertical\"\n",
    "show(p1)"
   ]
  },
  {
   "cell_type": "markdown",
   "metadata": {},
   "source": [
    "### Insight \n",
    "- __From the above unigrams and bigrams, the top words are \"Hillary Clinton\", \"Donald Trump\", \"United States\" and \"election day\" etc which suggests that this dataset was taken around the election days.__"
   ]
  },
  {
   "cell_type": "markdown",
   "metadata": {},
   "source": [
    "## Word Cloud of Texts"
   ]
  },
  {
   "cell_type": "code",
   "execution_count": 152,
   "metadata": {},
   "outputs": [
    {
     "data": {
      "image/png": "[encoded data removed]",
      "text/plain": [
       "<Figure size 432x288 with 1 Axes>"
      ]
     },
     "metadata": {
      "needs_background": "light"
     },
     "output_type": "display_data"
    }
   ],
   "source": [
    "wc = WordCloud(background_color=\"black\", max_words=100,\n",
    "               max_font_size=256,\n",
    "               random_state=42, width=1000, height=1000)\n",
    "wc.generate(' '.join(df['text_without_stopwords']))\n",
    "plt.imshow(wc, interpolation=\"bilinear\")\n",
    "plt.axis('off')\n",
    "plt.show()\n"
   ]
  },
  {
   "cell_type": "markdown",
   "metadata": {},
   "source": [
    "### Insight \n",
    "- __Technique used for representing text data in which the size of each word indicates its frequency or importance. Above wordcloud represents \"trump\", \"said\",\"one\",\"hillary clinton\" so on words are used more in articles.__"
   ]
  },
  {
   "cell_type": "markdown",
   "metadata": {},
   "source": [
    "# Types of Articles"
   ]
  },
  {
   "cell_type": "code",
   "execution_count": 153,
   "metadata": {},
   "outputs": [
    {
     "data": {
      "text/html": [
       "\n",
       "\n",
       "\n",
       "\n",
       "\n",
       "\n",
       "  <div class=\"bk-root\" id=\"a1073199-a96b-4d4d-9656-91f7a9ad0f4e\" data-root-id=\"6760\"></div>\n"
      ]
     },
     "metadata": {},
     "output_type": "display_data"
    },
    {
     "data": {
      "application/javascript": [
       "(function(root) {\n",
       "  function embed_document(root) {\n",
       "    \n",
       "  var docs_json = {\"473db88e-7f07-474f-923c-75622cfc3ca6\":{\"defs\":[],\"roots\":{\"references\":[{\"attributes\":{\"background_fill_color\":\"#20262B\",\"below\":[{\"id\":\"6771\"}],\"border_fill_color\":\"#15191C\",\"center\":[{\"id\":\"6774\"},{\"id\":\"6778\"},{\"id\":\"6798\"}],\"height\":400,\"left\":[{\"id\":\"6775\"}],\"outline_line_alpha\":0.25,\"outline_line_color\":\"#E0E0E0\",\"renderers\":[{\"id\":\"6787\"}],\"title\":{\"id\":\"6761\"},\"toolbar\":{\"id\":\"6780\"},\"width\":400,\"x_range\":{\"id\":\"6763\"},\"x_scale\":{\"id\":\"6767\"},\"y_range\":{\"id\":\"6765\"},\"y_scale\":{\"id\":\"6769\"}},\"id\":\"6760\",\"subtype\":\"Figure\",\"type\":\"Plot\"},{\"attributes\":{\"label\":{\"field\":\"types\"},\"renderers\":[{\"id\":\"6787\"}]},\"id\":\"6799\",\"type\":\"LegendItem\"},{\"attributes\":{\"axis_label_standoff\":10,\"axis_label_text_color\":\"#E0E0E0\",\"axis_label_text_font\":\"Helvetica\",\"axis_label_text_font_size\":\"1.25em\",\"axis_label_text_font_style\":\"normal\",\"axis_line_alpha\":0,\"axis_line_color\":\"#E0E0E0\",\"formatter\":{\"id\":\"6794\"},\"major_label_policy\":{\"id\":\"6795\"},\"major_label_text_color\":\"#E0E0E0\",\"major_label_text_font\":\"Helvetica\",\"major_label_text_font_size\":\"1.025em\",\"major_tick_line_alpha\":0,\"major_tick_line_color\":\"#E0E0E0\",\"minor_tick_line_alpha\":0,\"minor_tick_line_color\":\"#E0E0E0\",\"ticker\":{\"id\":\"6776\"}},\"id\":\"6775\",\"type\":\"LinearAxis\"},{\"attributes\":{\"align\":\"center\",\"text\":\"Proportion of Article Types\",\"text_color\":\"#E0E0E0\",\"text_font\":\"Helvetica\",\"text_font_size\":\"1.15em\"},\"id\":\"6761\",\"type\":\"Title\"},{\"attributes\":{\"data_source\":{\"id\":\"6759\"},\"glyph\":{\"id\":\"6785\"},\"hover_glyph\":null,\"muted_glyph\":null,\"nonselection_glyph\":{\"id\":\"6786\"},\"view\":{\"id\":\"6788\"}},\"id\":\"6787\",\"type\":\"GlyphRenderer\"},{\"attributes\":{\"end_angle\":{\"expr\":{\"id\":\"6783\"}},\"fill_alpha\":{\"value\":0.1},\"fill_color\":{\"field\":\"color\"},\"line_alpha\":{\"value\":0.1},\"line_color\":{\"value\":\"white\"},\"radius\":{\"value\":0.8},\"start_angle\":{\"expr\":{\"id\":\"6782\"}},\"x\":{\"value\":0},\"y\":{\"value\":1}},\"id\":\"6786\",\"type\":\"Wedge\"},{\"attributes\":{\"start\":-1.0},\"id\":\"6763\",\"type\":\"Range1d\"},{\"attributes\":{\"source\":{\"id\":\"6759\"}},\"id\":\"6788\",\"type\":\"CDSView\"},{\"attributes\":{\"field\":\"angle\",\"include_zero\":true},\"id\":\"6782\",\"type\":\"CumSum\"},{\"attributes\":{},\"id\":\"6795\",\"type\":\"AllLabels\"},{\"attributes\":{\"axis\":{\"id\":\"6771\"},\"grid_line_alpha\":0.25,\"grid_line_color\":\"#E0E0E0\",\"ticker\":null},\"id\":\"6774\",\"type\":\"Grid\"},{\"attributes\":{\"field\":\"angle\"},\"id\":\"6783\",\"type\":\"CumSum\"},{\"attributes\":{\"data\":{\"angle\":{\"__ndarray__\":\"226eLITE/D9OOQrx0SX0P/qLVeOoDvM/QJdmuCdX6T/iIH63JB7ePxgtRFT7Idk/GEy25a8v1T/wwiHwzuyoPw==\",\"dtype\":\"float64\",\"order\":\"little\",\"shape\":[8]},\"color\":[\"salmon\",\"purple\",\"turquoise\",\"olive\",\"red\",\"orange\",\"teal\",\"pink\"],\"count\":[554,388,367,244,145,121,102,15],\"percentage\":{\"__ndarray__\":\"ktN8rZ6dPEAicGMZlAo0QKkw8X7k9DJAqTDxfuQ0KUDej5zma/UdQAAAAAAAABlAcGMZlAoTFUBXzw6BG8voPw==\",\"dtype\":\"float64\",\"order\":\"little\",\"shape\":[8]},\"types\":[\"bs\",\"conspiracy\",\"bias\",\"hate\",\"satire\",\"state\",\"junksci\",\"fake\"]},\"selected\":{\"id\":\"6796\"},\"selection_policy\":{\"id\":\"6797\"}},\"id\":\"6759\",\"type\":\"ColumnDataSource\"},{\"attributes\":{\"active_multi\":null,\"tools\":[{\"id\":\"6779\"}]},\"id\":\"6780\",\"type\":\"Toolbar\"},{\"attributes\":{},\"id\":\"6765\",\"type\":\"DataRange1d\"},{\"attributes\":{},\"id\":\"6791\",\"type\":\"BasicTickFormatter\"},{\"attributes\":{},\"id\":\"6767\",\"type\":\"LinearScale\"},{\"attributes\":{},\"id\":\"6769\",\"type\":\"LinearScale\"},{\"attributes\":{},\"id\":\"6794\",\"type\":\"BasicTickFormatter\"},{\"attributes\":{\"end_angle\":{\"expr\":{\"id\":\"6783\"}},\"fill_color\":{\"field\":\"color\"},\"line_color\":{\"value\":\"white\"},\"radius\":{\"value\":0.8},\"start_angle\":{\"expr\":{\"id\":\"6782\"}},\"x\":{\"value\":0},\"y\":{\"value\":1}},\"id\":\"6785\",\"type\":\"Wedge\"},{\"attributes\":{},\"id\":\"6797\",\"type\":\"UnionRenderers\"},{\"attributes\":{},\"id\":\"6776\",\"type\":\"BasicTicker\"},{\"attributes\":{\"background_fill_alpha\":0.25,\"background_fill_color\":\"#20262B\",\"border_line_alpha\":0,\"glyph_width\":15,\"items\":[{\"id\":\"6799\"}],\"label_standoff\":8,\"label_text_color\":\"#E0E0E0\",\"label_text_font\":\"Helvetica\",\"label_text_font_size\":\"5pt\",\"spacing\":8},\"id\":\"6798\",\"type\":\"Legend\"},{\"attributes\":{},\"id\":\"6796\",\"type\":\"Selection\"},{\"attributes\":{\"axis\":{\"id\":\"6775\"},\"dimension\":1,\"grid_line_alpha\":0.25,\"grid_line_color\":\"#E0E0E0\",\"ticker\":null},\"id\":\"6778\",\"type\":\"Grid\"},{\"attributes\":{},\"id\":\"6792\",\"type\":\"AllLabels\"},{\"attributes\":{\"axis_label_standoff\":10,\"axis_label_text_color\":\"#E0E0E0\",\"axis_label_text_font\":\"Helvetica\",\"axis_label_text_font_size\":\"1.25em\",\"axis_label_text_font_style\":\"normal\",\"axis_line_alpha\":0,\"axis_line_color\":\"#E0E0E0\",\"formatter\":{\"id\":\"6791\"},\"major_label_policy\":{\"id\":\"6792\"},\"major_label_text_color\":\"#E0E0E0\",\"major_label_text_font\":\"Helvetica\",\"major_label_text_font_size\":\"1.025em\",\"major_tick_line_alpha\":0,\"major_tick_line_color\":\"#E0E0E0\",\"minor_tick_line_alpha\":0,\"minor_tick_line_color\":\"#E0E0E0\",\"ticker\":{\"id\":\"6772\"}},\"id\":\"6771\",\"type\":\"LinearAxis\"},{\"attributes\":{\"callback\":null,\"tooltips\":\"@types: @percentage\"},\"id\":\"6779\",\"type\":\"HoverTool\"},{\"attributes\":{},\"id\":\"6772\",\"type\":\"BasicTicker\"}],\"root_ids\":[\"6760\"]},\"title\":\"Bokeh Application\",\"version\":\"2.3.2\"}};\n",
       "  var render_items = [{\"docid\":\"473db88e-7f07-474f-923c-75622cfc3ca6\",\"root_ids\":[\"6760\"],\"roots\":{\"6760\":\"a1073199-a96b-4d4d-9656-91f7a9ad0f4e\"}}];\n",
       "  root.Bokeh.embed.embed_items_notebook(docs_json, render_items);\n",
       "\n",
       "  }\n",
       "  if (root.Bokeh !== undefined) {\n",
       "    embed_document(root);\n",
       "  } else {\n",
       "    var attempts = 0;\n",
       "    var timer = setInterval(function(root) {\n",
       "      if (root.Bokeh !== undefined) {\n",
       "        clearInterval(timer);\n",
       "        embed_document(root);\n",
       "      } else {\n",
       "        attempts++;\n",
       "        if (attempts > 100) {\n",
       "          clearInterval(timer);\n",
       "          console.log(\"Bokeh: ERROR: Unable to run BokehJS code because BokehJS library is missing\");\n",
       "        }\n",
       "      }\n",
       "    }, 10, root)\n",
       "  }\n",
       "})(window);"
      ],
      "application/vnd.bokehjs_exec.v0+json": ""
     },
     "metadata": {
      "application/vnd.bokehjs_exec.v0+json": {
       "id": "6760"
      }
     },
     "output_type": "display_data"
    }
   ],
   "source": [
    "different_types = df['type'].value_counts().keys().to_list()\n",
    "count = df['type'].value_counts().values\n",
    "count1 = count / sum(count) * 100\n",
    "angle = count / sum(count) * 2 * pi\n",
    "\n",
    "source = ColumnDataSource(data = dict(types = different_types, count = count, color = ['salmon', 'purple', 'turquoise', 'olive', 'red', 'orange', 'teal', 'pink'], angle = angle, percentage = count1))\n",
    "\n",
    "p3 = figure(plot_height = 400, plot_width = 400, title=\"Proportion of Article Types\",\n",
    "           tools = \"hover\", tooltips = \"@types: @percentage\", x_range=(-1.0, 1.0))  ## Pie chart for different types\n",
    "\n",
    "p3.wedge(x = 0, y = 1, radius = 0.8,\n",
    "        start_angle = cumsum('angle', include_zero=True), end_angle = cumsum('angle'),\n",
    "        line_color = \"white\", fill_color = 'color', legend_field = 'types', source = source)\n",
    "p3.title.align = 'center'\n",
    "p3.legend.location = \"top_right\"\n",
    "\n",
    "p3.legend.label_text_font_size = '5pt'\n",
    "\n",
    "show(p3)"
   ]
  },
  {
   "cell_type": "markdown",
   "metadata": {},
   "source": [
    "## Bigrams for different types "
   ]
  },
  {
   "cell_type": "code",
   "execution_count": 154,
   "metadata": {},
   "outputs": [],
   "source": [
    "def top_bigrams_type(type_name, color_hex):\n",
    "    \"\"\"\n",
    "    A function that plots the bar graph representing the top unigrams for 'type_name'\n",
    "    \"\"\"\n",
    "    df_type = df[df['type'] == type_name]\n",
    "    top = get_top_n_bigram(df_type['text_without_stopwords'], 20)\n",
    "    words = [i[0] for i in top]\n",
    "    count = [i[1] for i in top]\n",
    "    source = ColumnDataSource(data = dict(Word = words, counts = count, color = [color_hex] * 20))\n",
    "\n",
    "    p = figure(x_range = words, plot_height = 400, plot_width = 800, title = \"Top Bigrams for \" + type_name, tools = \"hover\", tooltips = \"@Word: @counts\")\n",
    "    p.vbar(x = 'Word', top = 'counts', width = 0.8, source = source, color = 'color')\n",
    "    curdoc().theme = 'dark_minimal'\n",
    "    p.xgrid.grid_line_color = None\n",
    "    p.title.align = 'center'\n",
    "    p.y_range.start = 0\n",
    "    p.xaxis.major_label_orientation = \"vertical\"\n",
    "    show(p)"
   ]
  },
  {
   "cell_type": "code",
   "execution_count": 155,
   "metadata": {},
   "outputs": [
    {
     "data": {
      "text/html": [
       "\n",
       "\n",
       "\n",
       "\n",
       "\n",
       "\n",
       "  <div class=\"bk-root\" id=\"e2f8f300-98f6-428c-9776-915f4dec0865\" data-root-id=\"7107\"></div>\n"
      ]
     },
     "metadata": {},
     "output_type": "display_data"
    },
    {
     "data": {
      "application/javascript": [
       "(function(root) {\n",
       "  function embed_document(root) {\n",
       "    \n",
       "  var docs_json = {\"9ecae6fb-6f64-4f3a-8864-04f18c301e0a\":{\"defs\":[],\"roots\":{\"references\":[{\"attributes\":{\"background_fill_color\":\"#20262B\",\"below\":[{\"id\":\"7118\"}],\"border_fill_color\":\"#15191C\",\"center\":[{\"id\":\"7120\"},{\"id\":\"7124\"}],\"height\":400,\"left\":[{\"id\":\"7121\"}],\"outline_line_alpha\":0.25,\"outline_line_color\":\"#E0E0E0\",\"renderers\":[{\"id\":\"7131\"}],\"title\":{\"id\":\"7108\"},\"toolbar\":{\"id\":\"7126\"},\"width\":800,\"x_range\":{\"id\":\"7110\"},\"x_scale\":{\"id\":\"7114\"},\"y_range\":{\"id\":\"7112\"},\"y_scale\":{\"id\":\"7116\"}},\"id\":\"7107\",\"subtype\":\"Figure\",\"type\":\"Plot\"},{\"attributes\":{\"axis\":{\"id\":\"7118\"},\"grid_line_alpha\":0.25,\"grid_line_color\":null,\"ticker\":null},\"id\":\"7120\",\"type\":\"Grid\"},{\"attributes\":{},\"id\":\"7114\",\"type\":\"CategoricalScale\"},{\"attributes\":{},\"id\":\"7400\",\"type\":\"AllLabels\"},{\"attributes\":{\"source\":{\"id\":\"7106\"}},\"id\":\"7132\",\"type\":\"CDSView\"},{\"attributes\":{\"start\":0},\"id\":\"7112\",\"type\":\"DataRange1d\"},{\"attributes\":{},\"id\":\"7116\",\"type\":\"LinearScale\"},{\"attributes\":{},\"id\":\"7396\",\"type\":\"CategoricalTickFormatter\"},{\"attributes\":{\"axis_label_standoff\":10,\"axis_label_text_color\":\"#E0E0E0\",\"axis_label_text_font\":\"Helvetica\",\"axis_label_text_font_size\":\"1.25em\",\"axis_label_text_font_style\":\"normal\",\"axis_line_alpha\":0,\"axis_line_color\":\"#E0E0E0\",\"formatter\":{\"id\":\"7396\"},\"major_label_orientation\":\"vertical\",\"major_label_policy\":{\"id\":\"7397\"},\"major_label_text_color\":\"#E0E0E0\",\"major_label_text_font\":\"Helvetica\",\"major_label_text_font_size\":\"1.025em\",\"major_tick_line_alpha\":0,\"major_tick_line_color\":\"#E0E0E0\",\"minor_tick_line_alpha\":0,\"minor_tick_line_color\":\"#E0E0E0\",\"ticker\":{\"id\":\"7119\"}},\"id\":\"7118\",\"type\":\"CategoricalAxis\"},{\"attributes\":{},\"id\":\"7399\",\"type\":\"BasicTickFormatter\"},{\"attributes\":{\"active_multi\":null,\"tools\":[{\"id\":\"7125\"}]},\"id\":\"7126\",\"type\":\"Toolbar\"},{\"attributes\":{},\"id\":\"7401\",\"type\":\"Selection\"},{\"attributes\":{\"axis_label_standoff\":10,\"axis_label_text_color\":\"#E0E0E0\",\"axis_label_text_font\":\"Helvetica\",\"axis_label_text_font_size\":\"1.25em\",\"axis_label_text_font_style\":\"normal\",\"axis_line_alpha\":0,\"axis_line_color\":\"#E0E0E0\",\"formatter\":{\"id\":\"7399\"},\"major_label_policy\":{\"id\":\"7400\"},\"major_label_text_color\":\"#E0E0E0\",\"major_label_text_font\":\"Helvetica\",\"major_label_text_font_size\":\"1.025em\",\"major_tick_line_alpha\":0,\"major_tick_line_color\":\"#E0E0E0\",\"minor_tick_line_alpha\":0,\"minor_tick_line_color\":\"#E0E0E0\",\"ticker\":{\"id\":\"7122\"}},\"id\":\"7121\",\"type\":\"LinearAxis\"},{\"attributes\":{\"data\":{\"Word\":[\"donald trump\",\"hillary clinton\",\"united states\",\"new york\",\"white house\",\"hillary clintons\",\"presidential election\",\"clinton campaign\",\"published mins\",\"mins ago\",\"supreme court\",\"donald trumps\",\"comment article\",\"article via\",\"fbi director\",\"last week\",\"fox news\",\"york times\",\"north carolina\",\"attorney general\"],\"color\":[\"#40E0D0\",\"#40E0D0\",\"#40E0D0\",\"#40E0D0\",\"#40E0D0\",\"#40E0D0\",\"#40E0D0\",\"#40E0D0\",\"#40E0D0\",\"#40E0D0\",\"#40E0D0\",\"#40E0D0\",\"#40E0D0\",\"#40E0D0\",\"#40E0D0\",\"#40E0D0\",\"#40E0D0\",\"#40E0D0\",\"#40E0D0\",\"#40E0D0\"],\"counts\":[221,162,103,75,70,51,44,44,44,44,43,41,38,38,36,33,32,32,32,29]},\"selected\":{\"id\":\"7401\"},\"selection_policy\":{\"id\":\"7402\"}},\"id\":\"7106\",\"type\":\"ColumnDataSource\"},{\"attributes\":{},\"id\":\"7397\",\"type\":\"AllLabels\"},{\"attributes\":{\"align\":\"center\",\"text\":\"Top Bigrams for bias\",\"text_color\":\"#E0E0E0\",\"text_font\":\"Helvetica\",\"text_font_size\":\"1.15em\"},\"id\":\"7108\",\"type\":\"Title\"},{\"attributes\":{\"factors\":[\"donald trump\",\"hillary clinton\",\"united states\",\"new york\",\"white house\",\"hillary clintons\",\"presidential election\",\"clinton campaign\",\"published mins\",\"mins ago\",\"supreme court\",\"donald trumps\",\"comment article\",\"article via\",\"fbi director\",\"last week\",\"fox news\",\"york times\",\"north carolina\",\"attorney general\"]},\"id\":\"7110\",\"type\":\"FactorRange\"},{\"attributes\":{},\"id\":\"7119\",\"type\":\"CategoricalTicker\"},{\"attributes\":{\"axis\":{\"id\":\"7121\"},\"dimension\":1,\"grid_line_alpha\":0.25,\"grid_line_color\":\"#E0E0E0\",\"ticker\":null},\"id\":\"7124\",\"type\":\"Grid\"},{\"attributes\":{},\"id\":\"7122\",\"type\":\"BasicTicker\"},{\"attributes\":{\"fill_color\":{\"field\":\"color\"},\"line_color\":{\"field\":\"color\"},\"top\":{\"field\":\"counts\"},\"width\":{\"value\":0.8},\"x\":{\"field\":\"Word\"}},\"id\":\"7129\",\"type\":\"VBar\"},{\"attributes\":{\"fill_alpha\":{\"value\":0.1},\"fill_color\":{\"field\":\"color\"},\"line_alpha\":{\"value\":0.1},\"line_color\":{\"field\":\"color\"},\"top\":{\"field\":\"counts\"},\"width\":{\"value\":0.8},\"x\":{\"field\":\"Word\"}},\"id\":\"7130\",\"type\":\"VBar\"},{\"attributes\":{},\"id\":\"7402\",\"type\":\"UnionRenderers\"},{\"attributes\":{\"callback\":null,\"tooltips\":\"@Word: @counts\"},\"id\":\"7125\",\"type\":\"HoverTool\"},{\"attributes\":{\"data_source\":{\"id\":\"7106\"},\"glyph\":{\"id\":\"7129\"},\"hover_glyph\":null,\"muted_glyph\":null,\"nonselection_glyph\":{\"id\":\"7130\"},\"view\":{\"id\":\"7132\"}},\"id\":\"7131\",\"type\":\"GlyphRenderer\"}],\"root_ids\":[\"7107\"]},\"title\":\"Bokeh Application\",\"version\":\"2.3.2\"}};\n",
       "  var render_items = [{\"docid\":\"9ecae6fb-6f64-4f3a-8864-04f18c301e0a\",\"root_ids\":[\"7107\"],\"roots\":{\"7107\":\"e2f8f300-98f6-428c-9776-915f4dec0865\"}}];\n",
       "  root.Bokeh.embed.embed_items_notebook(docs_json, render_items);\n",
       "\n",
       "  }\n",
       "  if (root.Bokeh !== undefined) {\n",
       "    embed_document(root);\n",
       "  } else {\n",
       "    var attempts = 0;\n",
       "    var timer = setInterval(function(root) {\n",
       "      if (root.Bokeh !== undefined) {\n",
       "        clearInterval(timer);\n",
       "        embed_document(root);\n",
       "      } else {\n",
       "        attempts++;\n",
       "        if (attempts > 100) {\n",
       "          clearInterval(timer);\n",
       "          console.log(\"Bokeh: ERROR: Unable to run BokehJS code because BokehJS library is missing\");\n",
       "        }\n",
       "      }\n",
       "    }, 10, root)\n",
       "  }\n",
       "})(window);"
      ],
      "application/vnd.bokehjs_exec.v0+json": ""
     },
     "metadata": {
      "application/vnd.bokehjs_exec.v0+json": {
       "id": "7107"
      }
     },
     "output_type": "display_data"
    }
   ],
   "source": [
    "top_bigrams_type('bias', '#40E0D0')"
   ]
  },
  {
   "cell_type": "code",
   "execution_count": 156,
   "metadata": {},
   "outputs": [
    {
     "data": {
      "text/html": [
       "\n",
       "\n",
       "\n",
       "\n",
       "\n",
       "\n",
       "  <div class=\"bk-root\" id=\"67ae915e-9326-4d36-8a13-73282abbfaf7\" data-root-id=\"7449\"></div>\n"
      ]
     },
     "metadata": {},
     "output_type": "display_data"
    },
    {
     "data": {
      "application/javascript": [
       "(function(root) {\n",
       "  function embed_document(root) {\n",
       "    \n",
       "  var docs_json = {\"c939304e-a73d-4f44-923a-fcaf1f5a0c62\":{\"defs\":[],\"roots\":{\"references\":[{\"attributes\":{\"background_fill_color\":\"#20262B\",\"below\":[{\"id\":\"7460\"}],\"border_fill_color\":\"#15191C\",\"center\":[{\"id\":\"7462\"},{\"id\":\"7466\"}],\"height\":400,\"left\":[{\"id\":\"7463\"}],\"outline_line_alpha\":0.25,\"outline_line_color\":\"#E0E0E0\",\"renderers\":[{\"id\":\"7473\"}],\"title\":{\"id\":\"7450\"},\"toolbar\":{\"id\":\"7468\"},\"width\":800,\"x_range\":{\"id\":\"7452\"},\"x_scale\":{\"id\":\"7456\"},\"y_range\":{\"id\":\"7454\"},\"y_scale\":{\"id\":\"7458\"}},\"id\":\"7449\",\"subtype\":\"Figure\",\"type\":\"Plot\"},{\"attributes\":{},\"id\":\"7748\",\"type\":\"AllLabels\"},{\"attributes\":{\"start\":0},\"id\":\"7454\",\"type\":\"DataRange1d\"},{\"attributes\":{},\"id\":\"7464\",\"type\":\"BasicTicker\"},{\"attributes\":{},\"id\":\"7458\",\"type\":\"LinearScale\"},{\"attributes\":{\"align\":\"center\",\"text\":\"Top Bigrams for fake\",\"text_color\":\"#E0E0E0\",\"text_font\":\"Helvetica\",\"text_font_size\":\"1.15em\"},\"id\":\"7450\",\"type\":\"Title\"},{\"attributes\":{},\"id\":\"7752\",\"type\":\"Selection\"},{\"attributes\":{},\"id\":\"7750\",\"type\":\"BasicTickFormatter\"},{\"attributes\":{\"axis\":{\"id\":\"7460\"},\"grid_line_alpha\":0.25,\"grid_line_color\":null,\"ticker\":null},\"id\":\"7462\",\"type\":\"Grid\"},{\"attributes\":{\"source\":{\"id\":\"7448\"}},\"id\":\"7474\",\"type\":\"CDSView\"},{\"attributes\":{},\"id\":\"7456\",\"type\":\"CategoricalScale\"},{\"attributes\":{\"axis\":{\"id\":\"7463\"},\"dimension\":1,\"grid_line_alpha\":0.25,\"grid_line_color\":\"#E0E0E0\",\"ticker\":null},\"id\":\"7466\",\"type\":\"Grid\"},{\"attributes\":{\"axis_label_standoff\":10,\"axis_label_text_color\":\"#E0E0E0\",\"axis_label_text_font\":\"Helvetica\",\"axis_label_text_font_size\":\"1.25em\",\"axis_label_text_font_style\":\"normal\",\"axis_line_alpha\":0,\"axis_line_color\":\"#E0E0E0\",\"formatter\":{\"id\":\"7747\"},\"major_label_orientation\":\"vertical\",\"major_label_policy\":{\"id\":\"7748\"},\"major_label_text_color\":\"#E0E0E0\",\"major_label_text_font\":\"Helvetica\",\"major_label_text_font_size\":\"1.025em\",\"major_tick_line_alpha\":0,\"major_tick_line_color\":\"#E0E0E0\",\"minor_tick_line_alpha\":0,\"minor_tick_line_color\":\"#E0E0E0\",\"ticker\":{\"id\":\"7461\"}},\"id\":\"7460\",\"type\":\"CategoricalAxis\"},{\"attributes\":{\"factors\":[\"adobo chronicles\",\"white house\",\"electoral college\",\"united states\",\"hillary clinton\",\"bill clinton\",\"donald trump\",\"base one\",\"washington dc\",\"voting machines\",\"one technologies\",\"adobochron comment\",\"executive chef\",\"trump tower\",\"executive order\",\"december th\",\"president united\",\"gave us\",\"pig farm\",\"us patent\"]},\"id\":\"7452\",\"type\":\"FactorRange\"},{\"attributes\":{\"axis_label_standoff\":10,\"axis_label_text_color\":\"#E0E0E0\",\"axis_label_text_font\":\"Helvetica\",\"axis_label_text_font_size\":\"1.25em\",\"axis_label_text_font_style\":\"normal\",\"axis_line_alpha\":0,\"axis_line_color\":\"#E0E0E0\",\"formatter\":{\"id\":\"7750\"},\"major_label_policy\":{\"id\":\"7751\"},\"major_label_text_color\":\"#E0E0E0\",\"major_label_text_font\":\"Helvetica\",\"major_label_text_font_size\":\"1.025em\",\"major_tick_line_alpha\":0,\"major_tick_line_color\":\"#E0E0E0\",\"minor_tick_line_alpha\":0,\"minor_tick_line_color\":\"#E0E0E0\",\"ticker\":{\"id\":\"7464\"}},\"id\":\"7463\",\"type\":\"LinearAxis\"},{\"attributes\":{},\"id\":\"7753\",\"type\":\"UnionRenderers\"},{\"attributes\":{\"callback\":null,\"tooltips\":\"@Word: @counts\"},\"id\":\"7467\",\"type\":\"HoverTool\"},{\"attributes\":{},\"id\":\"7751\",\"type\":\"AllLabels\"},{\"attributes\":{\"data\":{\"Word\":[\"adobo chronicles\",\"white house\",\"electoral college\",\"united states\",\"hillary clinton\",\"bill clinton\",\"donald trump\",\"base one\",\"washington dc\",\"voting machines\",\"one technologies\",\"adobochron comment\",\"executive chef\",\"trump tower\",\"executive order\",\"december th\",\"president united\",\"gave us\",\"pig farm\",\"us patent\"],\"color\":[\"#FFC0CB\",\"#FFC0CB\",\"#FFC0CB\",\"#FFC0CB\",\"#FFC0CB\",\"#FFC0CB\",\"#FFC0CB\",\"#FFC0CB\",\"#FFC0CB\",\"#FFC0CB\",\"#FFC0CB\",\"#FFC0CB\",\"#FFC0CB\",\"#FFC0CB\",\"#FFC0CB\",\"#FFC0CB\",\"#FFC0CB\",\"#FFC0CB\",\"#FFC0CB\",\"#FFC0CB\"],\"counts\":[20,12,10,9,8,8,7,7,6,5,5,5,5,5,4,4,4,4,4,4]},\"selected\":{\"id\":\"7752\"},\"selection_policy\":{\"id\":\"7753\"}},\"id\":\"7448\",\"type\":\"ColumnDataSource\"},{\"attributes\":{\"active_multi\":null,\"tools\":[{\"id\":\"7467\"}]},\"id\":\"7468\",\"type\":\"Toolbar\"},{\"attributes\":{\"fill_color\":{\"field\":\"color\"},\"line_color\":{\"field\":\"color\"},\"top\":{\"field\":\"counts\"},\"width\":{\"value\":0.8},\"x\":{\"field\":\"Word\"}},\"id\":\"7471\",\"type\":\"VBar\"},{\"attributes\":{},\"id\":\"7747\",\"type\":\"CategoricalTickFormatter\"},{\"attributes\":{},\"id\":\"7461\",\"type\":\"CategoricalTicker\"},{\"attributes\":{\"data_source\":{\"id\":\"7448\"},\"glyph\":{\"id\":\"7471\"},\"hover_glyph\":null,\"muted_glyph\":null,\"nonselection_glyph\":{\"id\":\"7472\"},\"view\":{\"id\":\"7474\"}},\"id\":\"7473\",\"type\":\"GlyphRenderer\"},{\"attributes\":{\"fill_alpha\":{\"value\":0.1},\"fill_color\":{\"field\":\"color\"},\"line_alpha\":{\"value\":0.1},\"line_color\":{\"field\":\"color\"},\"top\":{\"field\":\"counts\"},\"width\":{\"value\":0.8},\"x\":{\"field\":\"Word\"}},\"id\":\"7472\",\"type\":\"VBar\"}],\"root_ids\":[\"7449\"]},\"title\":\"Bokeh Application\",\"version\":\"2.3.2\"}};\n",
       "  var render_items = [{\"docid\":\"c939304e-a73d-4f44-923a-fcaf1f5a0c62\",\"root_ids\":[\"7449\"],\"roots\":{\"7449\":\"67ae915e-9326-4d36-8a13-73282abbfaf7\"}}];\n",
       "  root.Bokeh.embed.embed_items_notebook(docs_json, render_items);\n",
       "\n",
       "  }\n",
       "  if (root.Bokeh !== undefined) {\n",
       "    embed_document(root);\n",
       "  } else {\n",
       "    var attempts = 0;\n",
       "    var timer = setInterval(function(root) {\n",
       "      if (root.Bokeh !== undefined) {\n",
       "        clearInterval(timer);\n",
       "        embed_document(root);\n",
       "      } else {\n",
       "        attempts++;\n",
       "        if (attempts > 100) {\n",
       "          clearInterval(timer);\n",
       "          console.log(\"Bokeh: ERROR: Unable to run BokehJS code because BokehJS library is missing\");\n",
       "        }\n",
       "      }\n",
       "    }, 10, root)\n",
       "  }\n",
       "})(window);"
      ],
      "application/vnd.bokehjs_exec.v0+json": ""
     },
     "metadata": {
      "application/vnd.bokehjs_exec.v0+json": {
       "id": "7449"
      }
     },
     "output_type": "display_data"
    }
   ],
   "source": [
    "top_bigrams_type('fake', '#FFC0CB')"
   ]
  },
  {
   "cell_type": "code",
   "execution_count": 157,
   "metadata": {},
   "outputs": [
    {
     "data": {
      "text/html": [
       "\n",
       "\n",
       "\n",
       "\n",
       "\n",
       "\n",
       "  <div class=\"bk-root\" id=\"1a4c8cb1-d27a-40a5-816d-b630bdeabe73\" data-root-id=\"7800\"></div>\n"
      ]
     },
     "metadata": {},
     "output_type": "display_data"
    },
    {
     "data": {
      "application/javascript": [
       "(function(root) {\n",
       "  function embed_document(root) {\n",
       "    \n",
       "  var docs_json = {\"e8e21b1e-a210-4856-96fd-93fb55c61c2a\":{\"defs\":[],\"roots\":{\"references\":[{\"attributes\":{\"background_fill_color\":\"#20262B\",\"below\":[{\"id\":\"7811\"}],\"border_fill_color\":\"#15191C\",\"center\":[{\"id\":\"7813\"},{\"id\":\"7817\"}],\"height\":400,\"left\":[{\"id\":\"7814\"}],\"outline_line_alpha\":0.25,\"outline_line_color\":\"#E0E0E0\",\"renderers\":[{\"id\":\"7824\"}],\"title\":{\"id\":\"7801\"},\"toolbar\":{\"id\":\"7819\"},\"width\":800,\"x_range\":{\"id\":\"7803\"},\"x_scale\":{\"id\":\"7807\"},\"y_range\":{\"id\":\"7805\"},\"y_scale\":{\"id\":\"7809\"}},\"id\":\"7800\",\"subtype\":\"Figure\",\"type\":\"Plot\"},{\"attributes\":{},\"id\":\"7815\",\"type\":\"BasicTicker\"},{\"attributes\":{\"data\":{\"Word\":[\"hillary clinton\",\"october photo\",\"photo afp\",\"donald trump\",\"white house\",\"human rights\",\"prime minister\",\"foreign minister\",\"article posted\",\"october share\",\"share article\",\"saudi arabia\",\"presidential nominee\",\"posted wednesday\",\"wednesday october\",\"industrial production\",\"new york\",\"retail sales\",\"democratic presidential\",\"photo reuters\"],\"color\":[\"#FFA500\",\"#FFA500\",\"#FFA500\",\"#FFA500\",\"#FFA500\",\"#FFA500\",\"#FFA500\",\"#FFA500\",\"#FFA500\",\"#FFA500\",\"#FFA500\",\"#FFA500\",\"#FFA500\",\"#FFA500\",\"#FFA500\",\"#FFA500\",\"#FFA500\",\"#FFA500\",\"#FFA500\",\"#FFA500\"],\"counts\":[34,31,29,25,21,18,17,17,17,17,17,16,16,16,16,16,15,15,14,13]},\"selected\":{\"id\":\"8112\"},\"selection_policy\":{\"id\":\"8113\"}},\"id\":\"7799\",\"type\":\"ColumnDataSource\"},{\"attributes\":{\"callback\":null,\"tooltips\":\"@Word: @counts\"},\"id\":\"7818\",\"type\":\"HoverTool\"},{\"attributes\":{\"active_multi\":null,\"tools\":[{\"id\":\"7818\"}]},\"id\":\"7819\",\"type\":\"Toolbar\"},{\"attributes\":{},\"id\":\"8107\",\"type\":\"CategoricalTickFormatter\"},{\"attributes\":{\"align\":\"center\",\"text\":\"Top Bigrams for state\",\"text_color\":\"#E0E0E0\",\"text_font\":\"Helvetica\",\"text_font_size\":\"1.15em\"},\"id\":\"7801\",\"type\":\"Title\"},{\"attributes\":{\"fill_color\":{\"field\":\"color\"},\"line_color\":{\"field\":\"color\"},\"top\":{\"field\":\"counts\"},\"width\":{\"value\":0.8},\"x\":{\"field\":\"Word\"}},\"id\":\"7822\",\"type\":\"VBar\"},{\"attributes\":{},\"id\":\"7812\",\"type\":\"CategoricalTicker\"},{\"attributes\":{\"fill_alpha\":{\"value\":0.1},\"fill_color\":{\"field\":\"color\"},\"line_alpha\":{\"value\":0.1},\"line_color\":{\"field\":\"color\"},\"top\":{\"field\":\"counts\"},\"width\":{\"value\":0.8},\"x\":{\"field\":\"Word\"}},\"id\":\"7823\",\"type\":\"VBar\"},{\"attributes\":{\"source\":{\"id\":\"7799\"}},\"id\":\"7825\",\"type\":\"CDSView\"},{\"attributes\":{\"axis_label_standoff\":10,\"axis_label_text_color\":\"#E0E0E0\",\"axis_label_text_font\":\"Helvetica\",\"axis_label_text_font_size\":\"1.25em\",\"axis_label_text_font_style\":\"normal\",\"axis_line_alpha\":0,\"axis_line_color\":\"#E0E0E0\",\"formatter\":{\"id\":\"8110\"},\"major_label_policy\":{\"id\":\"8111\"},\"major_label_text_color\":\"#E0E0E0\",\"major_label_text_font\":\"Helvetica\",\"major_label_text_font_size\":\"1.025em\",\"major_tick_line_alpha\":0,\"major_tick_line_color\":\"#E0E0E0\",\"minor_tick_line_alpha\":0,\"minor_tick_line_color\":\"#E0E0E0\",\"ticker\":{\"id\":\"7815\"}},\"id\":\"7814\",\"type\":\"LinearAxis\"},{\"attributes\":{},\"id\":\"8112\",\"type\":\"Selection\"},{\"attributes\":{\"data_source\":{\"id\":\"7799\"},\"glyph\":{\"id\":\"7822\"},\"hover_glyph\":null,\"muted_glyph\":null,\"nonselection_glyph\":{\"id\":\"7823\"},\"view\":{\"id\":\"7825\"}},\"id\":\"7824\",\"type\":\"GlyphRenderer\"},{\"attributes\":{},\"id\":\"8108\",\"type\":\"AllLabels\"},{\"attributes\":{},\"id\":\"8110\",\"type\":\"BasicTickFormatter\"},{\"attributes\":{},\"id\":\"7809\",\"type\":\"LinearScale\"},{\"attributes\":{\"start\":0},\"id\":\"7805\",\"type\":\"DataRange1d\"},{\"attributes\":{},\"id\":\"7807\",\"type\":\"CategoricalScale\"},{\"attributes\":{},\"id\":\"8111\",\"type\":\"AllLabels\"},{\"attributes\":{\"factors\":[\"hillary clinton\",\"october photo\",\"photo afp\",\"donald trump\",\"white house\",\"human rights\",\"prime minister\",\"foreign minister\",\"article posted\",\"october share\",\"share article\",\"saudi arabia\",\"presidential nominee\",\"posted wednesday\",\"wednesday october\",\"industrial production\",\"new york\",\"retail sales\",\"democratic presidential\",\"photo reuters\"]},\"id\":\"7803\",\"type\":\"FactorRange\"},{\"attributes\":{\"axis\":{\"id\":\"7811\"},\"grid_line_alpha\":0.25,\"grid_line_color\":null,\"ticker\":null},\"id\":\"7813\",\"type\":\"Grid\"},{\"attributes\":{\"axis_label_standoff\":10,\"axis_label_text_color\":\"#E0E0E0\",\"axis_label_text_font\":\"Helvetica\",\"axis_label_text_font_size\":\"1.25em\",\"axis_label_text_font_style\":\"normal\",\"axis_line_alpha\":0,\"axis_line_color\":\"#E0E0E0\",\"formatter\":{\"id\":\"8107\"},\"major_label_orientation\":\"vertical\",\"major_label_policy\":{\"id\":\"8108\"},\"major_label_text_color\":\"#E0E0E0\",\"major_label_text_font\":\"Helvetica\",\"major_label_text_font_size\":\"1.025em\",\"major_tick_line_alpha\":0,\"major_tick_line_color\":\"#E0E0E0\",\"minor_tick_line_alpha\":0,\"minor_tick_line_color\":\"#E0E0E0\",\"ticker\":{\"id\":\"7812\"}},\"id\":\"7811\",\"type\":\"CategoricalAxis\"},{\"attributes\":{\"axis\":{\"id\":\"7814\"},\"dimension\":1,\"grid_line_alpha\":0.25,\"grid_line_color\":\"#E0E0E0\",\"ticker\":null},\"id\":\"7817\",\"type\":\"Grid\"},{\"attributes\":{},\"id\":\"8113\",\"type\":\"UnionRenderers\"}],\"root_ids\":[\"7800\"]},\"title\":\"Bokeh Application\",\"version\":\"2.3.2\"}};\n",
       "  var render_items = [{\"docid\":\"e8e21b1e-a210-4856-96fd-93fb55c61c2a\",\"root_ids\":[\"7800\"],\"roots\":{\"7800\":\"1a4c8cb1-d27a-40a5-816d-b630bdeabe73\"}}];\n",
       "  root.Bokeh.embed.embed_items_notebook(docs_json, render_items);\n",
       "\n",
       "  }\n",
       "  if (root.Bokeh !== undefined) {\n",
       "    embed_document(root);\n",
       "  } else {\n",
       "    var attempts = 0;\n",
       "    var timer = setInterval(function(root) {\n",
       "      if (root.Bokeh !== undefined) {\n",
       "        clearInterval(timer);\n",
       "        embed_document(root);\n",
       "      } else {\n",
       "        attempts++;\n",
       "        if (attempts > 100) {\n",
       "          clearInterval(timer);\n",
       "          console.log(\"Bokeh: ERROR: Unable to run BokehJS code because BokehJS library is missing\");\n",
       "        }\n",
       "      }\n",
       "    }, 10, root)\n",
       "  }\n",
       "})(window);"
      ],
      "application/vnd.bokehjs_exec.v0+json": ""
     },
     "metadata": {
      "application/vnd.bokehjs_exec.v0+json": {
       "id": "7800"
      }
     },
     "output_type": "display_data"
    }
   ],
   "source": [
    "top_bigrams_type('state', '#FFA500')"
   ]
  },
  {
   "cell_type": "code",
   "execution_count": 158,
   "metadata": {},
   "outputs": [
    {
     "data": {
      "text/html": [
       "\n",
       "\n",
       "\n",
       "\n",
       "\n",
       "\n",
       "  <div class=\"bk-root\" id=\"c644bb44-5ce3-49ef-865f-ce9a972af151\" data-root-id=\"8160\"></div>\n"
      ]
     },
     "metadata": {},
     "output_type": "display_data"
    },
    {
     "data": {
      "application/javascript": [
       "(function(root) {\n",
       "  function embed_document(root) {\n",
       "    \n",
       "  var docs_json = {\"603bc22a-3a1c-4750-a2c7-1bf099de5f82\":{\"defs\":[],\"roots\":{\"references\":[{\"attributes\":{\"background_fill_color\":\"#20262B\",\"below\":[{\"id\":\"8171\"}],\"border_fill_color\":\"#15191C\",\"center\":[{\"id\":\"8173\"},{\"id\":\"8177\"}],\"height\":400,\"left\":[{\"id\":\"8174\"}],\"outline_line_alpha\":0.25,\"outline_line_color\":\"#E0E0E0\",\"renderers\":[{\"id\":\"8184\"}],\"title\":{\"id\":\"8161\"},\"toolbar\":{\"id\":\"8179\"},\"width\":800,\"x_range\":{\"id\":\"8163\"},\"x_scale\":{\"id\":\"8167\"},\"y_range\":{\"id\":\"8165\"},\"y_scale\":{\"id\":\"8169\"}},\"id\":\"8160\",\"subtype\":\"Figure\",\"type\":\"Plot\"},{\"attributes\":{\"axis_label_standoff\":10,\"axis_label_text_color\":\"#E0E0E0\",\"axis_label_text_font\":\"Helvetica\",\"axis_label_text_font_size\":\"1.25em\",\"axis_label_text_font_style\":\"normal\",\"axis_line_alpha\":0,\"axis_line_color\":\"#E0E0E0\",\"formatter\":{\"id\":\"8479\"},\"major_label_policy\":{\"id\":\"8480\"},\"major_label_text_color\":\"#E0E0E0\",\"major_label_text_font\":\"Helvetica\",\"major_label_text_font_size\":\"1.025em\",\"major_tick_line_alpha\":0,\"major_tick_line_color\":\"#E0E0E0\",\"minor_tick_line_alpha\":0,\"minor_tick_line_color\":\"#E0E0E0\",\"ticker\":{\"id\":\"8175\"}},\"id\":\"8174\",\"type\":\"LinearAxis\"},{\"attributes\":{\"axis_label_standoff\":10,\"axis_label_text_color\":\"#E0E0E0\",\"axis_label_text_font\":\"Helvetica\",\"axis_label_text_font_size\":\"1.25em\",\"axis_label_text_font_style\":\"normal\",\"axis_line_alpha\":0,\"axis_line_color\":\"#E0E0E0\",\"formatter\":{\"id\":\"8476\"},\"major_label_orientation\":\"vertical\",\"major_label_policy\":{\"id\":\"8477\"},\"major_label_text_color\":\"#E0E0E0\",\"major_label_text_font\":\"Helvetica\",\"major_label_text_font_size\":\"1.025em\",\"major_tick_line_alpha\":0,\"major_tick_line_color\":\"#E0E0E0\",\"minor_tick_line_alpha\":0,\"minor_tick_line_color\":\"#E0E0E0\",\"ticker\":{\"id\":\"8172\"}},\"id\":\"8171\",\"type\":\"CategoricalAxis\"},{\"attributes\":{},\"id\":\"8167\",\"type\":\"CategoricalScale\"},{\"attributes\":{},\"id\":\"8481\",\"type\":\"Selection\"},{\"attributes\":{\"axis\":{\"id\":\"8174\"},\"dimension\":1,\"grid_line_alpha\":0.25,\"grid_line_color\":\"#E0E0E0\",\"ticker\":null},\"id\":\"8177\",\"type\":\"Grid\"},{\"attributes\":{\"data_source\":{\"id\":\"8159\"},\"glyph\":{\"id\":\"8182\"},\"hover_glyph\":null,\"muted_glyph\":null,\"nonselection_glyph\":{\"id\":\"8183\"},\"view\":{\"id\":\"8185\"}},\"id\":\"8184\",\"type\":\"GlyphRenderer\"},{\"attributes\":{},\"id\":\"8476\",\"type\":\"CategoricalTickFormatter\"},{\"attributes\":{},\"id\":\"8479\",\"type\":\"BasicTickFormatter\"},{\"attributes\":{\"align\":\"center\",\"text\":\"Top Bigrams for hate\",\"text_color\":\"#E0E0E0\",\"text_font\":\"Helvetica\",\"text_font_size\":\"1.15em\"},\"id\":\"8161\",\"type\":\"Title\"},{\"attributes\":{\"factors\":[\"hillary clinton\",\"united states\",\"donald trump\",\"white house\",\"new york\",\"clinton campaign\",\"dr duke\",\"mainstream media\",\"obama administration\",\"clinton foundation\",\"secretary state\",\"bill clinton\",\"theyre happy\",\"barack obama\",\"even though\",\"fbi director\",\"attorney general\",\"black lives\",\"hillary clintons\",\"daniel greenfield\"]},\"id\":\"8163\",\"type\":\"FactorRange\"},{\"attributes\":{},\"id\":\"8477\",\"type\":\"AllLabels\"},{\"attributes\":{\"fill_color\":{\"field\":\"color\"},\"line_color\":{\"field\":\"color\"},\"top\":{\"field\":\"counts\"},\"width\":{\"value\":0.8},\"x\":{\"field\":\"Word\"}},\"id\":\"8182\",\"type\":\"VBar\"},{\"attributes\":{\"data\":{\"Word\":[\"hillary clinton\",\"united states\",\"donald trump\",\"white house\",\"new york\",\"clinton campaign\",\"dr duke\",\"mainstream media\",\"obama administration\",\"clinton foundation\",\"secretary state\",\"bill clinton\",\"theyre happy\",\"barack obama\",\"even though\",\"fbi director\",\"attorney general\",\"black lives\",\"hillary clintons\",\"daniel greenfield\"],\"color\":[\"#808000\",\"#808000\",\"#808000\",\"#808000\",\"#808000\",\"#808000\",\"#808000\",\"#808000\",\"#808000\",\"#808000\",\"#808000\",\"#808000\",\"#808000\",\"#808000\",\"#808000\",\"#808000\",\"#808000\",\"#808000\",\"#808000\",\"#808000\"],\"counts\":[166,128,123,78,63,46,45,44,41,41,40,39,39,38,35,35,34,30,30,30]},\"selected\":{\"id\":\"8481\"},\"selection_policy\":{\"id\":\"8482\"}},\"id\":\"8159\",\"type\":\"ColumnDataSource\"},{\"attributes\":{\"source\":{\"id\":\"8159\"}},\"id\":\"8185\",\"type\":\"CDSView\"},{\"attributes\":{},\"id\":\"8175\",\"type\":\"BasicTicker\"},{\"attributes\":{},\"id\":\"8169\",\"type\":\"LinearScale\"},{\"attributes\":{\"start\":0},\"id\":\"8165\",\"type\":\"DataRange1d\"},{\"attributes\":{},\"id\":\"8480\",\"type\":\"AllLabels\"},{\"attributes\":{\"active_multi\":null,\"tools\":[{\"id\":\"8178\"}]},\"id\":\"8179\",\"type\":\"Toolbar\"},{\"attributes\":{\"fill_alpha\":{\"value\":0.1},\"fill_color\":{\"field\":\"color\"},\"line_alpha\":{\"value\":0.1},\"line_color\":{\"field\":\"color\"},\"top\":{\"field\":\"counts\"},\"width\":{\"value\":0.8},\"x\":{\"field\":\"Word\"}},\"id\":\"8183\",\"type\":\"VBar\"},{\"attributes\":{\"callback\":null,\"tooltips\":\"@Word: @counts\"},\"id\":\"8178\",\"type\":\"HoverTool\"},{\"attributes\":{\"axis\":{\"id\":\"8171\"},\"grid_line_alpha\":0.25,\"grid_line_color\":null,\"ticker\":null},\"id\":\"8173\",\"type\":\"Grid\"},{\"attributes\":{},\"id\":\"8482\",\"type\":\"UnionRenderers\"},{\"attributes\":{},\"id\":\"8172\",\"type\":\"CategoricalTicker\"}],\"root_ids\":[\"8160\"]},\"title\":\"Bokeh Application\",\"version\":\"2.3.2\"}};\n",
       "  var render_items = [{\"docid\":\"603bc22a-3a1c-4750-a2c7-1bf099de5f82\",\"root_ids\":[\"8160\"],\"roots\":{\"8160\":\"c644bb44-5ce3-49ef-865f-ce9a972af151\"}}];\n",
       "  root.Bokeh.embed.embed_items_notebook(docs_json, render_items);\n",
       "\n",
       "  }\n",
       "  if (root.Bokeh !== undefined) {\n",
       "    embed_document(root);\n",
       "  } else {\n",
       "    var attempts = 0;\n",
       "    var timer = setInterval(function(root) {\n",
       "      if (root.Bokeh !== undefined) {\n",
       "        clearInterval(timer);\n",
       "        embed_document(root);\n",
       "      } else {\n",
       "        attempts++;\n",
       "        if (attempts > 100) {\n",
       "          clearInterval(timer);\n",
       "          console.log(\"Bokeh: ERROR: Unable to run BokehJS code because BokehJS library is missing\");\n",
       "        }\n",
       "      }\n",
       "    }, 10, root)\n",
       "  }\n",
       "})(window);"
      ],
      "application/vnd.bokehjs_exec.v0+json": ""
     },
     "metadata": {
      "application/vnd.bokehjs_exec.v0+json": {
       "id": "8160"
      }
     },
     "output_type": "display_data"
    }
   ],
   "source": [
    "top_bigrams_type('hate', '#808000')"
   ]
  },
  {
   "cell_type": "markdown",
   "metadata": {},
   "source": [
    "### Insight :\n",
    "- __For the type ' hate ' the top bigrams are justified beacuse the data is from time during the elections, many would spread hate against the leader whom they don't support. Some might be the supporters of Hillary Clinton, and some mighe be the supporters of Donald Trump.__"
   ]
  },
  {
   "cell_type": "code",
   "execution_count": 159,
   "metadata": {},
   "outputs": [
    {
     "data": {
      "text/html": [
       "\n",
       "\n",
       "\n",
       "\n",
       "\n",
       "\n",
       "  <div class=\"bk-root\" id=\"8a98dff3-5022-45dd-b6e2-326c3b17849e\" data-root-id=\"8529\"></div>\n"
      ]
     },
     "metadata": {},
     "output_type": "display_data"
    },
    {
     "data": {
      "application/javascript": [
       "(function(root) {\n",
       "  function embed_document(root) {\n",
       "    \n",
       "  var docs_json = {\"9c8e4518-f227-47f4-ad4b-43017765816e\":{\"defs\":[],\"roots\":{\"references\":[{\"attributes\":{\"background_fill_color\":\"#20262B\",\"below\":[{\"id\":\"8540\"}],\"border_fill_color\":\"#15191C\",\"center\":[{\"id\":\"8542\"},{\"id\":\"8546\"}],\"height\":400,\"left\":[{\"id\":\"8543\"}],\"outline_line_alpha\":0.25,\"outline_line_color\":\"#E0E0E0\",\"renderers\":[{\"id\":\"8553\"}],\"title\":{\"id\":\"8530\"},\"toolbar\":{\"id\":\"8548\"},\"width\":800,\"x_range\":{\"id\":\"8532\"},\"x_scale\":{\"id\":\"8536\"},\"y_range\":{\"id\":\"8534\"},\"y_scale\":{\"id\":\"8538\"}},\"id\":\"8529\",\"subtype\":\"Figure\",\"type\":\"Plot\"},{\"attributes\":{\"axis_label_standoff\":10,\"axis_label_text_color\":\"#E0E0E0\",\"axis_label_text_font\":\"Helvetica\",\"axis_label_text_font_size\":\"1.25em\",\"axis_label_text_font_style\":\"normal\",\"axis_line_alpha\":0,\"axis_line_color\":\"#E0E0E0\",\"formatter\":{\"id\":\"8854\"},\"major_label_orientation\":\"vertical\",\"major_label_policy\":{\"id\":\"8855\"},\"major_label_text_color\":\"#E0E0E0\",\"major_label_text_font\":\"Helvetica\",\"major_label_text_font_size\":\"1.025em\",\"major_tick_line_alpha\":0,\"major_tick_line_color\":\"#E0E0E0\",\"minor_tick_line_alpha\":0,\"minor_tick_line_color\":\"#E0E0E0\",\"ticker\":{\"id\":\"8541\"}},\"id\":\"8540\",\"type\":\"CategoricalAxis\"},{\"attributes\":{\"data_source\":{\"id\":\"8528\"},\"glyph\":{\"id\":\"8551\"},\"hover_glyph\":null,\"muted_glyph\":null,\"nonselection_glyph\":{\"id\":\"8552\"},\"view\":{\"id\":\"8554\"}},\"id\":\"8553\",\"type\":\"GlyphRenderer\"},{\"attributes\":{},\"id\":\"8536\",\"type\":\"CategoricalScale\"},{\"attributes\":{\"callback\":null,\"tooltips\":\"@Word: @counts\"},\"id\":\"8547\",\"type\":\"HoverTool\"},{\"attributes\":{\"axis\":{\"id\":\"8543\"},\"dimension\":1,\"grid_line_alpha\":0.25,\"grid_line_color\":\"#E0E0E0\",\"ticker\":null},\"id\":\"8546\",\"type\":\"Grid\"},{\"attributes\":{},\"id\":\"8855\",\"type\":\"AllLabels\"},{\"attributes\":{\"axis\":{\"id\":\"8540\"},\"grid_line_alpha\":0.25,\"grid_line_color\":null,\"ticker\":null},\"id\":\"8542\",\"type\":\"Grid\"},{\"attributes\":{\"source\":{\"id\":\"8528\"}},\"id\":\"8554\",\"type\":\"CDSView\"},{\"attributes\":{\"factors\":[\"hillary clinton\",\"donald trump\",\"united states\",\"new york\",\"hillary clintons\",\"clinton foundation\",\"clinton campaign\",\"secretary state\",\"bill clinton\",\"white house\",\"artikel teilen\",\"saudi arabia\",\"de la\",\"barack obama\",\"law enforcement\",\"attorney general\",\"democratic party\",\"fbi director\",\"reason given\",\"york times\"]},\"id\":\"8532\",\"type\":\"FactorRange\"},{\"attributes\":{\"data\":{\"Word\":[\"hillary clinton\",\"donald trump\",\"united states\",\"new york\",\"hillary clintons\",\"clinton foundation\",\"clinton campaign\",\"secretary state\",\"bill clinton\",\"white house\",\"artikel teilen\",\"saudi arabia\",\"de la\",\"barack obama\",\"law enforcement\",\"attorney general\",\"democratic party\",\"fbi director\",\"reason given\",\"york times\"],\"color\":[\"#FF796C\",\"#FF796C\",\"#FF796C\",\"#FF796C\",\"#FF796C\",\"#FF796C\",\"#FF796C\",\"#FF796C\",\"#FF796C\",\"#FF796C\",\"#FF796C\",\"#FF796C\",\"#FF796C\",\"#FF796C\",\"#FF796C\",\"#FF796C\",\"#FF796C\",\"#FF796C\",\"#FF796C\",\"#FF796C\"],\"counts\":[300,228,131,102,70,61,57,54,54,53,52,49,43,42,40,39,38,35,32,32]},\"selected\":{\"id\":\"8859\"},\"selection_policy\":{\"id\":\"8860\"}},\"id\":\"8528\",\"type\":\"ColumnDataSource\"},{\"attributes\":{\"fill_alpha\":{\"value\":0.1},\"fill_color\":{\"field\":\"color\"},\"line_alpha\":{\"value\":0.1},\"line_color\":{\"field\":\"color\"},\"top\":{\"field\":\"counts\"},\"width\":{\"value\":0.8},\"x\":{\"field\":\"Word\"}},\"id\":\"8552\",\"type\":\"VBar\"},{\"attributes\":{},\"id\":\"8538\",\"type\":\"LinearScale\"},{\"attributes\":{},\"id\":\"8860\",\"type\":\"UnionRenderers\"},{\"attributes\":{},\"id\":\"8858\",\"type\":\"AllLabels\"},{\"attributes\":{\"start\":0},\"id\":\"8534\",\"type\":\"DataRange1d\"},{\"attributes\":{},\"id\":\"8544\",\"type\":\"BasicTicker\"},{\"attributes\":{},\"id\":\"8854\",\"type\":\"CategoricalTickFormatter\"},{\"attributes\":{\"fill_color\":{\"field\":\"color\"},\"line_color\":{\"field\":\"color\"},\"top\":{\"field\":\"counts\"},\"width\":{\"value\":0.8},\"x\":{\"field\":\"Word\"}},\"id\":\"8551\",\"type\":\"VBar\"},{\"attributes\":{},\"id\":\"8859\",\"type\":\"Selection\"},{\"attributes\":{\"axis_label_standoff\":10,\"axis_label_text_color\":\"#E0E0E0\",\"axis_label_text_font\":\"Helvetica\",\"axis_label_text_font_size\":\"1.25em\",\"axis_label_text_font_style\":\"normal\",\"axis_line_alpha\":0,\"axis_line_color\":\"#E0E0E0\",\"formatter\":{\"id\":\"8857\"},\"major_label_policy\":{\"id\":\"8858\"},\"major_label_text_color\":\"#E0E0E0\",\"major_label_text_font\":\"Helvetica\",\"major_label_text_font_size\":\"1.025em\",\"major_tick_line_alpha\":0,\"major_tick_line_color\":\"#E0E0E0\",\"minor_tick_line_alpha\":0,\"minor_tick_line_color\":\"#E0E0E0\",\"ticker\":{\"id\":\"8544\"}},\"id\":\"8543\",\"type\":\"LinearAxis\"},{\"attributes\":{},\"id\":\"8857\",\"type\":\"BasicTickFormatter\"},{\"attributes\":{\"align\":\"center\",\"text\":\"Top Bigrams for bs\",\"text_color\":\"#E0E0E0\",\"text_font\":\"Helvetica\",\"text_font_size\":\"1.15em\"},\"id\":\"8530\",\"type\":\"Title\"},{\"attributes\":{\"active_multi\":null,\"tools\":[{\"id\":\"8547\"}]},\"id\":\"8548\",\"type\":\"Toolbar\"},{\"attributes\":{},\"id\":\"8541\",\"type\":\"CategoricalTicker\"}],\"root_ids\":[\"8529\"]},\"title\":\"Bokeh Application\",\"version\":\"2.3.2\"}};\n",
       "  var render_items = [{\"docid\":\"9c8e4518-f227-47f4-ad4b-43017765816e\",\"root_ids\":[\"8529\"],\"roots\":{\"8529\":\"8a98dff3-5022-45dd-b6e2-326c3b17849e\"}}];\n",
       "  root.Bokeh.embed.embed_items_notebook(docs_json, render_items);\n",
       "\n",
       "  }\n",
       "  if (root.Bokeh !== undefined) {\n",
       "    embed_document(root);\n",
       "  } else {\n",
       "    var attempts = 0;\n",
       "    var timer = setInterval(function(root) {\n",
       "      if (root.Bokeh !== undefined) {\n",
       "        clearInterval(timer);\n",
       "        embed_document(root);\n",
       "      } else {\n",
       "        attempts++;\n",
       "        if (attempts > 100) {\n",
       "          clearInterval(timer);\n",
       "          console.log(\"Bokeh: ERROR: Unable to run BokehJS code because BokehJS library is missing\");\n",
       "        }\n",
       "      }\n",
       "    }, 10, root)\n",
       "  }\n",
       "})(window);"
      ],
      "application/vnd.bokehjs_exec.v0+json": ""
     },
     "metadata": {
      "application/vnd.bokehjs_exec.v0+json": {
       "id": "8529"
      }
     },
     "output_type": "display_data"
    }
   ],
   "source": [
    "top_bigrams_type('bs', '#FF796C')"
   ]
  },
  {
   "cell_type": "markdown",
   "metadata": {},
   "source": [
    "## Proportion of labels "
   ]
  },
  {
   "cell_type": "code",
   "execution_count": 160,
   "metadata": {},
   "outputs": [
    {
     "data": {
      "text/html": [
       "\n",
       "\n",
       "\n",
       "\n",
       "\n",
       "\n",
       "  <div class=\"bk-root\" id=\"d24379ad-9314-4b7c-9edb-bea52b4a7d84\" data-root-id=\"8907\"></div>\n"
      ]
     },
     "metadata": {},
     "output_type": "display_data"
    },
    {
     "data": {
      "application/javascript": [
       "(function(root) {\n",
       "  function embed_document(root) {\n",
       "    \n",
       "  var docs_json = {\"4519c2e2-3813-46e6-becb-d0d9e6b7359c\":{\"defs\":[],\"roots\":{\"references\":[{\"attributes\":{\"background_fill_color\":\"#20262B\",\"below\":[{\"id\":\"8918\"}],\"border_fill_color\":\"#15191C\",\"center\":[{\"id\":\"8921\"},{\"id\":\"8925\"},{\"id\":\"8945\"}],\"height\":400,\"left\":[{\"id\":\"8922\"}],\"outline_line_alpha\":0.25,\"outline_line_color\":\"#E0E0E0\",\"renderers\":[{\"id\":\"8934\"}],\"title\":{\"id\":\"8908\"},\"toolbar\":{\"id\":\"8927\"},\"width\":400,\"x_range\":{\"id\":\"8910\"},\"x_scale\":{\"id\":\"8914\"},\"y_range\":{\"id\":\"8912\"},\"y_scale\":{\"id\":\"8916\"}},\"id\":\"8907\",\"subtype\":\"Figure\",\"type\":\"Plot\"},{\"attributes\":{\"start\":-1.0},\"id\":\"8910\",\"type\":\"Range1d\"},{\"attributes\":{\"data_source\":{\"id\":\"8906\"},\"glyph\":{\"id\":\"8932\"},\"hover_glyph\":null,\"muted_glyph\":null,\"nonselection_glyph\":{\"id\":\"8933\"},\"view\":{\"id\":\"8935\"}},\"id\":\"8934\",\"type\":\"GlyphRenderer\"},{\"attributes\":{\"axis\":{\"id\":\"8922\"},\"dimension\":1,\"grid_line_alpha\":0.25,\"grid_line_color\":\"#E0E0E0\",\"ticker\":null},\"id\":\"8925\",\"type\":\"Grid\"},{\"attributes\":{\"callback\":null,\"tooltips\":\"@types: @percentage\"},\"id\":\"8926\",\"type\":\"HoverTool\"},{\"attributes\":{\"end_angle\":{\"expr\":{\"id\":\"8930\"}},\"fill_alpha\":{\"value\":0.1},\"fill_color\":{\"field\":\"color\"},\"line_alpha\":{\"value\":0.1},\"line_color\":{\"value\":\"white\"},\"radius\":{\"value\":0.8},\"start_angle\":{\"expr\":{\"id\":\"8929\"}},\"x\":{\"value\":0},\"y\":{\"value\":1}},\"id\":\"8933\",\"type\":\"Wedge\"},{\"attributes\":{\"data\":{\"angle\":{\"__ndarray__\":\"v2g73phCD0Bx8UzKXQEDQA==\",\"dtype\":\"float64\",\"order\":\"little\",\"shape\":[2]},\"color\":[\"navy\",\"white\"],\"count\":[1204,732],\"percentage\":{\"__ndarray__\":\"gRvLoFQYT0B/5DRfq+dCQA==\",\"dtype\":\"float64\",\"order\":\"little\",\"shape\":[2]},\"types\":[\"Fake\",\"Real\"]},\"selected\":{\"id\":\"8943\"},\"selection_policy\":{\"id\":\"8944\"}},\"id\":\"8906\",\"type\":\"ColumnDataSource\"},{\"attributes\":{\"field\":\"angle\"},\"id\":\"8930\",\"type\":\"CumSum\"},{\"attributes\":{\"end_angle\":{\"expr\":{\"id\":\"8930\"}},\"fill_color\":{\"field\":\"color\"},\"line_color\":{\"value\":\"white\"},\"radius\":{\"value\":0.8},\"start_angle\":{\"expr\":{\"id\":\"8929\"}},\"x\":{\"value\":0},\"y\":{\"value\":1}},\"id\":\"8932\",\"type\":\"Wedge\"},{\"attributes\":{},\"id\":\"8912\",\"type\":\"DataRange1d\"},{\"attributes\":{\"axis_label_standoff\":10,\"axis_label_text_color\":\"#E0E0E0\",\"axis_label_text_font\":\"Helvetica\",\"axis_label_text_font_size\":\"1.25em\",\"axis_label_text_font_style\":\"normal\",\"axis_line_alpha\":0,\"axis_line_color\":\"#E0E0E0\",\"formatter\":{\"id\":\"8938\"},\"major_label_policy\":{\"id\":\"8939\"},\"major_label_text_color\":\"#E0E0E0\",\"major_label_text_font\":\"Helvetica\",\"major_label_text_font_size\":\"1.025em\",\"major_tick_line_alpha\":0,\"major_tick_line_color\":\"#E0E0E0\",\"minor_tick_line_alpha\":0,\"minor_tick_line_color\":\"#E0E0E0\",\"ticker\":{\"id\":\"8919\"}},\"id\":\"8918\",\"type\":\"LinearAxis\"},{\"attributes\":{},\"id\":\"8923\",\"type\":\"BasicTicker\"},{\"attributes\":{\"label\":{\"field\":\"types\"},\"renderers\":[{\"id\":\"8934\"}]},\"id\":\"8946\",\"type\":\"LegendItem\"},{\"attributes\":{},\"id\":\"8916\",\"type\":\"LinearScale\"},{\"attributes\":{\"source\":{\"id\":\"8906\"}},\"id\":\"8935\",\"type\":\"CDSView\"},{\"attributes\":{},\"id\":\"8914\",\"type\":\"LinearScale\"},{\"attributes\":{},\"id\":\"8938\",\"type\":\"BasicTickFormatter\"},{\"attributes\":{},\"id\":\"8942\",\"type\":\"AllLabels\"},{\"attributes\":{\"axis\":{\"id\":\"8918\"},\"grid_line_alpha\":0.25,\"grid_line_color\":\"#E0E0E0\",\"ticker\":null},\"id\":\"8921\",\"type\":\"Grid\"},{\"attributes\":{\"align\":\"center\",\"text\":\"Proportion of Real and Fake News\",\"text_color\":\"#E0E0E0\",\"text_font\":\"Helvetica\",\"text_font_size\":\"1.15em\"},\"id\":\"8908\",\"type\":\"Title\"},{\"attributes\":{},\"id\":\"8941\",\"type\":\"BasicTickFormatter\"},{\"attributes\":{\"axis_label_standoff\":10,\"axis_label_text_color\":\"#E0E0E0\",\"axis_label_text_font\":\"Helvetica\",\"axis_label_text_font_size\":\"1.25em\",\"axis_label_text_font_style\":\"normal\",\"axis_line_alpha\":0,\"axis_line_color\":\"#E0E0E0\",\"formatter\":{\"id\":\"8941\"},\"major_label_policy\":{\"id\":\"8942\"},\"major_label_text_color\":\"#E0E0E0\",\"major_label_text_font\":\"Helvetica\",\"major_label_text_font_size\":\"1.025em\",\"major_tick_line_alpha\":0,\"major_tick_line_color\":\"#E0E0E0\",\"minor_tick_line_alpha\":0,\"minor_tick_line_color\":\"#E0E0E0\",\"ticker\":{\"id\":\"8923\"}},\"id\":\"8922\",\"type\":\"LinearAxis\"},{\"attributes\":{},\"id\":\"8919\",\"type\":\"BasicTicker\"},{\"attributes\":{\"active_multi\":null,\"tools\":[{\"id\":\"8926\"}]},\"id\":\"8927\",\"type\":\"Toolbar\"},{\"attributes\":{},\"id\":\"8939\",\"type\":\"AllLabels\"},{\"attributes\":{\"background_fill_alpha\":0.25,\"background_fill_color\":\"#20262B\",\"border_line_alpha\":0,\"glyph_width\":15,\"items\":[{\"id\":\"8946\"}],\"label_standoff\":8,\"label_text_color\":\"#E0E0E0\",\"label_text_font\":\"Helvetica\",\"label_text_font_size\":\"5pt\",\"spacing\":8},\"id\":\"8945\",\"type\":\"Legend\"},{\"attributes\":{\"field\":\"angle\",\"include_zero\":true},\"id\":\"8929\",\"type\":\"CumSum\"},{\"attributes\":{},\"id\":\"8944\",\"type\":\"UnionRenderers\"},{\"attributes\":{},\"id\":\"8943\",\"type\":\"Selection\"}],\"root_ids\":[\"8907\"]},\"title\":\"Bokeh Application\",\"version\":\"2.3.2\"}};\n",
       "  var render_items = [{\"docid\":\"4519c2e2-3813-46e6-becb-d0d9e6b7359c\",\"root_ids\":[\"8907\"],\"roots\":{\"8907\":\"d24379ad-9314-4b7c-9edb-bea52b4a7d84\"}}];\n",
       "  root.Bokeh.embed.embed_items_notebook(docs_json, render_items);\n",
       "\n",
       "  }\n",
       "  if (root.Bokeh !== undefined) {\n",
       "    embed_document(root);\n",
       "  } else {\n",
       "    var attempts = 0;\n",
       "    var timer = setInterval(function(root) {\n",
       "      if (root.Bokeh !== undefined) {\n",
       "        clearInterval(timer);\n",
       "        embed_document(root);\n",
       "      } else {\n",
       "        attempts++;\n",
       "        if (attempts > 100) {\n",
       "          clearInterval(timer);\n",
       "          console.log(\"Bokeh: ERROR: Unable to run BokehJS code because BokehJS library is missing\");\n",
       "        }\n",
       "      }\n",
       "    }, 10, root)\n",
       "  }\n",
       "})(window);"
      ],
      "application/vnd.bokehjs_exec.v0+json": ""
     },
     "metadata": {
      "application/vnd.bokehjs_exec.v0+json": {
       "id": "8907"
      }
     },
     "output_type": "display_data"
    }
   ],
   "source": [
    "different_labels = df['label'].value_counts().keys().to_list()\n",
    "count = df['label'].value_counts().values\n",
    "count1 = count / sum(count) * 100\n",
    "angle = count / sum(count) * 2 * pi\n",
    "\n",
    "source = ColumnDataSource(data = dict(types = different_labels, count = count, color = ['navy', 'white'], angle = angle, percentage = count1))\n",
    "\n",
    "p5 = figure(plot_height = 400, plot_width = 400, title = \"Proportion of Real and Fake News\",\n",
    "           tools = \"hover\", tooltips = \"@types: @percentage\", x_range = (-1.0, 1.0))  ## Pie chart for different labels\n",
    "\n",
    "p5.wedge(x = 0, y = 1, radius = 0.8,\n",
    "        start_angle = cumsum('angle', include_zero = True), end_angle = cumsum('angle'),\n",
    "        line_color = \"white\", fill_color = 'color', legend_field = 'types', source = source)\n",
    "p5.title.align = 'center'\n",
    "\n",
    "p5.legend.location = \"top_right\"\n",
    "\n",
    "p5.legend.label_text_font_size = '5pt'\n",
    "\n",
    "show(p5)"
   ]
  },
  {
   "cell_type": "markdown",
   "metadata": {},
   "source": [
    "### Insight\n",
    "- __Above plots shows fake news articles are little more than real news articles.__"
   ]
  },
  {
   "cell_type": "markdown",
   "metadata": {},
   "source": [
    "## Sites publishing Real , Fake and both news "
   ]
  },
  {
   "cell_type": "code",
   "execution_count": 161,
   "metadata": {},
   "outputs": [
    {
     "name": "stdout",
     "output_type": "stream",
     "text": [
      "Sites printing Fake news are: \u001b[31m['21stcenturywire.com' 'abcnews.com.co' 'abeldanger.net'\n",
      " 'abovetopsecret.com' 'activistpost.com' 'adobochronicles.com'\n",
      " 'ahtribune.com' 'allnewspipeline.com' 'americannews.com'\n",
      " 'americasfreedomfighters.com' 'amren.com' 'amtvmedia.com' 'awdnews.com'\n",
      " 'barenakedislam.com' 'clickhole.com' 'coasttocoastam.com'\n",
      " 'corbettreport.com' 'countercurrents.org' 'counterpunch.org'\n",
      " 'darkmoon.me' 'davidduke.com' 'davidstockmanscontracorner.com'\n",
      " 'davidwolfe.com' 'dcclothesline.com' 'defenddemocracy.press'\n",
      " 'dennismichaellynch.com' 'departed.co' 'der-postillon.com'\n",
      " 'fromthetrenchesworldreport.com' 'galacticconnection.com'\n",
      " 'globalresearch.ca' 'infowars.com' 'intrepidreport.com' 'legorafi.fr'\n",
      " 'madworldnews.com' 'naturalnews.com' 'newstarget.com' 'presstv.ir'\n",
      " 'prisonplanet.com' 'projectveritas.com' 'returnofkings.com'\n",
      " 'shiftfrequency.com' 'thedailysheeple.com' 'theeconomiccollapseblog.com'\n",
      " 'thefreethoughtproject.com' 'themindunleashed.com' 'theonion.com'\n",
      " 'thepeoplescube.com' 'therussophile.org' 'thesaker.is'\n",
      " 'thetruthseeker.co.uk' 'theunrealtimes.com' 'topinfopost.com'\n",
      " 'veteranstoday.com' 'voltairenet.org' 'washingtonsblog.com'\n",
      " 'westernjournalism.com' 'whatreallyhappened.com']\n"
     ]
    }
   ],
   "source": [
    "#Checking sites publishing FAKE news\n",
    "\n",
    "print(f\"Sites printing Fake news are: {r_}{df[df['label'] == 'Fake']['site_url'].unique()}\")"
   ]
  },
  {
   "cell_type": "code",
   "execution_count": 162,
   "metadata": {},
   "outputs": [
    {
     "data": {
      "text/html": [
       "\n",
       "\n",
       "\n",
       "\n",
       "\n",
       "\n",
       "  <div class=\"bk-root\" id=\"5c3976cd-1539-4203-87b0-66fc4b623658\" data-root-id=\"9308\"></div>\n"
      ]
     },
     "metadata": {},
     "output_type": "display_data"
    },
    {
     "data": {
      "application/javascript": [
       "(function(root) {\n",
       "  function embed_document(root) {\n",
       "    \n",
       "  var docs_json = {\"7c82ae03-5848-431d-8165-55dcc316ab01\":{\"defs\":[],\"roots\":{\"references\":[{\"attributes\":{\"background_fill_color\":\"#20262B\",\"below\":[{\"id\":\"9319\"}],\"border_fill_color\":\"#15191C\",\"center\":[{\"id\":\"9321\"},{\"id\":\"9325\"}],\"height\":400,\"left\":[{\"id\":\"9322\"}],\"outline_line_alpha\":0.25,\"outline_line_color\":\"#E0E0E0\",\"renderers\":[{\"id\":\"9332\"}],\"title\":{\"id\":\"9309\"},\"toolbar\":{\"id\":\"9327\"},\"width\":1200,\"x_range\":{\"id\":\"9311\"},\"x_scale\":{\"id\":\"9315\"},\"y_range\":{\"id\":\"9313\"},\"y_scale\":{\"id\":\"9317\"}},\"id\":\"9308\",\"subtype\":\"Figure\",\"type\":\"Plot\"},{\"attributes\":{\"axis\":{\"id\":\"9319\"},\"grid_line_alpha\":0.25,\"grid_line_color\":null,\"ticker\":null},\"id\":\"9321\",\"type\":\"Grid\"},{\"attributes\":{\"source\":{\"id\":\"9307\"}},\"id\":\"9333\",\"type\":\"CDSView\"},{\"attributes\":{\"active_multi\":null,\"tools\":[{\"id\":\"9326\"}]},\"id\":\"9327\",\"type\":\"Toolbar\"},{\"attributes\":{},\"id\":\"9323\",\"type\":\"BasicTicker\"},{\"attributes\":{},\"id\":\"9315\",\"type\":\"CategoricalScale\"},{\"attributes\":{\"align\":\"center\",\"text\":\"Count of Fake Stories Published by Sites\",\"text_color\":\"#E0E0E0\",\"text_font\":\"Helvetica\",\"text_font_size\":\"1.15em\"},\"id\":\"9309\",\"type\":\"Title\"},{\"attributes\":{},\"id\":\"9317\",\"type\":\"LinearScale\"},{\"attributes\":{},\"id\":\"9656\",\"type\":\"Selection\"},{\"attributes\":{\"fill_color\":{\"field\":\"color\"},\"line_color\":{\"field\":\"color\"},\"top\":{\"field\":\"counts\"},\"width\":{\"value\":0.8},\"x\":{\"field\":\"sites\"}},\"id\":\"9330\",\"type\":\"VBar\"},{\"attributes\":{\"axis_label_standoff\":10,\"axis_label_text_color\":\"#E0E0E0\",\"axis_label_text_font\":\"Helvetica\",\"axis_label_text_font_size\":\"1.25em\",\"axis_label_text_font_style\":\"normal\",\"axis_line_alpha\":0,\"axis_line_color\":\"#E0E0E0\",\"formatter\":{\"id\":\"9651\"},\"major_label_policy\":{\"id\":\"9652\"},\"major_label_text_color\":\"#E0E0E0\",\"major_label_text_font\":\"Helvetica\",\"major_label_text_font_size\":\"1.025em\",\"major_tick_line_alpha\":0,\"major_tick_line_color\":\"#E0E0E0\",\"minor_tick_line_alpha\":0,\"minor_tick_line_color\":\"#E0E0E0\",\"ticker\":{\"id\":\"9320\"}},\"id\":\"9319\",\"type\":\"CategoricalAxis\"},{\"attributes\":{\"data\":{\"color\":[\"#11d9bb\",\"#11d9bb\",\"#11d9bb\",\"#11d9bb\",\"#11d9bb\",\"#11d9bb\",\"#11d9bb\",\"#11d9bb\",\"#11d9bb\",\"#11d9bb\"],\"counts\":[100,100,99,99,98,71,67,60,53,53],\"sites\":[\"naturalnews.com\",\"infowars.com\",\"prisonplanet.com\",\"clickhole.com\",\"activistpost.com\",\"der-postillon.com\",\"ahtribune.com\",\"awdnews.com\",\"abeldanger.net\",\"abovetopsecret.com\"]},\"selected\":{\"id\":\"9656\"},\"selection_policy\":{\"id\":\"9657\"}},\"id\":\"9307\",\"type\":\"ColumnDataSource\"},{\"attributes\":{},\"id\":\"9654\",\"type\":\"BasicTickFormatter\"},{\"attributes\":{\"data_source\":{\"id\":\"9307\"},\"glyph\":{\"id\":\"9330\"},\"hover_glyph\":null,\"muted_glyph\":null,\"nonselection_glyph\":{\"id\":\"9331\"},\"view\":{\"id\":\"9333\"}},\"id\":\"9332\",\"type\":\"GlyphRenderer\"},{\"attributes\":{},\"id\":\"9320\",\"type\":\"CategoricalTicker\"},{\"attributes\":{},\"id\":\"9651\",\"type\":\"CategoricalTickFormatter\"},{\"attributes\":{\"axis\":{\"id\":\"9322\"},\"dimension\":1,\"grid_line_alpha\":0.25,\"grid_line_color\":\"#E0E0E0\",\"ticker\":null},\"id\":\"9325\",\"type\":\"Grid\"},{\"attributes\":{},\"id\":\"9655\",\"type\":\"AllLabels\"},{\"attributes\":{\"start\":0},\"id\":\"9313\",\"type\":\"DataRange1d\"},{\"attributes\":{\"factors\":[\"naturalnews.com\",\"infowars.com\",\"prisonplanet.com\",\"clickhole.com\",\"activistpost.com\",\"der-postillon.com\",\"ahtribune.com\",\"awdnews.com\",\"abeldanger.net\",\"abovetopsecret.com\"]},\"id\":\"9311\",\"type\":\"FactorRange\"},{\"attributes\":{},\"id\":\"9652\",\"type\":\"AllLabels\"},{\"attributes\":{\"axis_label_standoff\":10,\"axis_label_text_color\":\"#E0E0E0\",\"axis_label_text_font\":\"Helvetica\",\"axis_label_text_font_size\":\"1.25em\",\"axis_label_text_font_style\":\"normal\",\"axis_line_alpha\":0,\"axis_line_color\":\"#E0E0E0\",\"formatter\":{\"id\":\"9654\"},\"major_label_policy\":{\"id\":\"9655\"},\"major_label_text_color\":\"#E0E0E0\",\"major_label_text_font\":\"Helvetica\",\"major_label_text_font_size\":\"1.025em\",\"major_tick_line_alpha\":0,\"major_tick_line_color\":\"#E0E0E0\",\"minor_tick_line_alpha\":0,\"minor_tick_line_color\":\"#E0E0E0\",\"ticker\":{\"id\":\"9323\"}},\"id\":\"9322\",\"type\":\"LinearAxis\"},{\"attributes\":{\"callback\":null,\"tooltips\":\"@sites: @counts\"},\"id\":\"9326\",\"type\":\"HoverTool\"},{\"attributes\":{\"fill_alpha\":{\"value\":0.1},\"fill_color\":{\"field\":\"color\"},\"line_alpha\":{\"value\":0.1},\"line_color\":{\"field\":\"color\"},\"top\":{\"field\":\"counts\"},\"width\":{\"value\":0.8},\"x\":{\"field\":\"sites\"}},\"id\":\"9331\",\"type\":\"VBar\"},{\"attributes\":{},\"id\":\"9657\",\"type\":\"UnionRenderers\"}],\"root_ids\":[\"9308\"]},\"title\":\"Bokeh Application\",\"version\":\"2.3.2\"}};\n",
       "  var render_items = [{\"docid\":\"7c82ae03-5848-431d-8165-55dcc316ab01\",\"root_ids\":[\"9308\"],\"roots\":{\"9308\":\"5c3976cd-1539-4203-87b0-66fc4b623658\"}}];\n",
       "  root.Bokeh.embed.embed_items_notebook(docs_json, render_items);\n",
       "\n",
       "  }\n",
       "  if (root.Bokeh !== undefined) {\n",
       "    embed_document(root);\n",
       "  } else {\n",
       "    var attempts = 0;\n",
       "    var timer = setInterval(function(root) {\n",
       "      if (root.Bokeh !== undefined) {\n",
       "        clearInterval(timer);\n",
       "        embed_document(root);\n",
       "      } else {\n",
       "        attempts++;\n",
       "        if (attempts > 100) {\n",
       "          clearInterval(timer);\n",
       "          console.log(\"Bokeh: ERROR: Unable to run BokehJS code because BokehJS library is missing\");\n",
       "        }\n",
       "      }\n",
       "    }, 10, root)\n",
       "  }\n",
       "})(window);"
      ],
      "application/vnd.bokehjs_exec.v0+json": ""
     },
     "metadata": {
      "application/vnd.bokehjs_exec.v0+json": {
       "id": "9308"
      }
     },
     "output_type": "display_data"
    }
   ],
   "source": [
    "#Count of Fake news pulished by sites\n",
    "\n",
    "sites = df[df['label'] == 'Fake']['site_url'].value_counts().head(10).index.tolist()\n",
    "count = df[df['label'] == 'Fake']['site_url'].value_counts().head(10).values.tolist()\n",
    "source = ColumnDataSource(data = dict(sites = sites, counts = count, color = ['#11d9bb'] * 10))\n",
    "\n",
    "p6 = figure(x_range = sites, plot_height = 400, plot_width = 1200, title = \"Count of Fake Stories Published by Sites\", tools = \"hover\", tooltips = \"@sites: @counts\")\n",
    "p6.vbar(x = 'sites', top = 'counts', width = 0.8, source = source, color = 'color')\n",
    "curdoc().theme = 'dark_minimal'\n",
    "p6.xgrid.grid_line_color = None\n",
    "p6.title.align = 'center'\n",
    "p6.y_range.start = 0\n",
    "\n",
    "show(p6)"
   ]
  },
  {
   "cell_type": "code",
   "execution_count": 163,
   "metadata": {},
   "outputs": [
    {
     "name": "stdout",
     "output_type": "stream",
     "text": [
      "Sites printing Real news are: \u001b[32m['100percentfedup.com' 'addictinginfo.org' 'dailywire.com' 'davidduke.com'\n",
      " 'fromthetrenchesworldreport.com' 'frontpagemag.com' 'newstarget.com'\n",
      " 'politicususa.com' 'presstv.com' 'presstv.ir' 'prisonplanet.com'\n",
      " 'proudemocrat.com' 'redstatewatcher.com' 'returnofkings.com'\n",
      " 'washingtonsblog.com' 'westernjournalism.com' 'wnd.com']\n"
     ]
    }
   ],
   "source": [
    "#Checking sites publishing REAL news\n",
    "\n",
    "print(f\"Sites printing Real news are: {g_}{df[df['label'] == 'Real']['site_url'].unique()}\")"
   ]
  },
  {
   "cell_type": "code",
   "execution_count": 164,
   "metadata": {},
   "outputs": [
    {
     "data": {
      "text/html": [
       "\n",
       "\n",
       "\n",
       "\n",
       "\n",
       "\n",
       "  <div class=\"bk-root\" id=\"e0fd620a-1c7d-480a-a64a-239d16b27520\" data-root-id=\"9704\"></div>\n"
      ]
     },
     "metadata": {},
     "output_type": "display_data"
    },
    {
     "data": {
      "application/javascript": [
       "(function(root) {\n",
       "  function embed_document(root) {\n",
       "    \n",
       "  var docs_json = {\"56612d26-af18-40f2-a55d-175bf1fbb21a\":{\"defs\":[],\"roots\":{\"references\":[{\"attributes\":{\"background_fill_color\":\"#20262B\",\"below\":[{\"id\":\"9715\"}],\"border_fill_color\":\"#15191C\",\"center\":[{\"id\":\"9717\"},{\"id\":\"9721\"}],\"height\":400,\"left\":[{\"id\":\"9718\"}],\"outline_line_alpha\":0.25,\"outline_line_color\":\"#E0E0E0\",\"renderers\":[{\"id\":\"9728\"}],\"title\":{\"id\":\"9705\"},\"toolbar\":{\"id\":\"9723\"},\"width\":1200,\"x_range\":{\"id\":\"9707\"},\"x_scale\":{\"id\":\"9711\"},\"y_range\":{\"id\":\"9709\"},\"y_scale\":{\"id\":\"9713\"}},\"id\":\"9704\",\"subtype\":\"Figure\",\"type\":\"Plot\"},{\"attributes\":{\"axis_label_standoff\":10,\"axis_label_text_color\":\"#E0E0E0\",\"axis_label_text_font\":\"Helvetica\",\"axis_label_text_font_size\":\"1.25em\",\"axis_label_text_font_style\":\"normal\",\"axis_line_alpha\":0,\"axis_line_color\":\"#E0E0E0\",\"formatter\":{\"id\":\"10056\"},\"major_label_policy\":{\"id\":\"10057\"},\"major_label_text_color\":\"#E0E0E0\",\"major_label_text_font\":\"Helvetica\",\"major_label_text_font_size\":\"1.025em\",\"major_tick_line_alpha\":0,\"major_tick_line_color\":\"#E0E0E0\",\"minor_tick_line_alpha\":0,\"minor_tick_line_color\":\"#E0E0E0\",\"ticker\":{\"id\":\"9716\"}},\"id\":\"9715\",\"type\":\"CategoricalAxis\"},{\"attributes\":{\"source\":{\"id\":\"9703\"}},\"id\":\"9729\",\"type\":\"CDSView\"},{\"attributes\":{\"start\":0},\"id\":\"9709\",\"type\":\"DataRange1d\"},{\"attributes\":{\"align\":\"center\",\"text\":\"Count of Real Stories Published by Sites \",\"text_color\":\"#E0E0E0\",\"text_font\":\"Helvetica\",\"text_font_size\":\"1.15em\"},\"id\":\"9705\",\"type\":\"Title\"},{\"attributes\":{},\"id\":\"10060\",\"type\":\"AllLabels\"},{\"attributes\":{\"active_multi\":null,\"tools\":[{\"id\":\"9722\"}]},\"id\":\"9723\",\"type\":\"Toolbar\"},{\"attributes\":{},\"id\":\"10061\",\"type\":\"Selection\"},{\"attributes\":{\"factors\":[\"politicususa.com\",\"frontpagemag.com\",\"returnofkings.com\",\"presstv.ir\",\"westernjournalism.com\",\"dailywire.com\",\"davidduke.com\",\"wnd.com\",\"100percentfedup.com\",\"presstv.com\"]},\"id\":\"9707\",\"type\":\"FactorRange\"},{\"attributes\":{},\"id\":\"10059\",\"type\":\"BasicTickFormatter\"},{\"attributes\":{\"axis\":{\"id\":\"9715\"},\"grid_line_alpha\":0.25,\"grid_line_color\":null,\"ticker\":null},\"id\":\"9717\",\"type\":\"Grid\"},{\"attributes\":{},\"id\":\"10062\",\"type\":\"UnionRenderers\"},{\"attributes\":{\"axis\":{\"id\":\"9718\"},\"dimension\":1,\"grid_line_alpha\":0.25,\"grid_line_color\":\"#E0E0E0\",\"ticker\":null},\"id\":\"9721\",\"type\":\"Grid\"},{\"attributes\":{\"axis_label_standoff\":10,\"axis_label_text_color\":\"#E0E0E0\",\"axis_label_text_font\":\"Helvetica\",\"axis_label_text_font_size\":\"1.25em\",\"axis_label_text_font_style\":\"normal\",\"axis_line_alpha\":0,\"axis_line_color\":\"#E0E0E0\",\"formatter\":{\"id\":\"10059\"},\"major_label_policy\":{\"id\":\"10060\"},\"major_label_text_color\":\"#E0E0E0\",\"major_label_text_font\":\"Helvetica\",\"major_label_text_font_size\":\"1.025em\",\"major_tick_line_alpha\":0,\"major_tick_line_color\":\"#E0E0E0\",\"minor_tick_line_alpha\":0,\"minor_tick_line_color\":\"#E0E0E0\",\"ticker\":{\"id\":\"9719\"}},\"id\":\"9718\",\"type\":\"LinearAxis\"},{\"attributes\":{\"data\":{\"color\":[\"#6baed6\",\"#6baed6\",\"#6baed6\",\"#6baed6\",\"#6baed6\",\"#6baed6\",\"#6baed6\",\"#6baed6\",\"#6baed6\",\"#6baed6\"],\"counts\":[100,99,99,99,94,79,44,38,32,21],\"sites\":[\"politicususa.com\",\"frontpagemag.com\",\"returnofkings.com\",\"presstv.ir\",\"westernjournalism.com\",\"dailywire.com\",\"davidduke.com\",\"wnd.com\",\"100percentfedup.com\",\"presstv.com\"]},\"selected\":{\"id\":\"10061\"},\"selection_policy\":{\"id\":\"10062\"}},\"id\":\"9703\",\"type\":\"ColumnDataSource\"},{\"attributes\":{\"fill_color\":{\"field\":\"color\"},\"line_color\":{\"field\":\"color\"},\"top\":{\"field\":\"counts\"},\"width\":{\"value\":0.8},\"x\":{\"field\":\"sites\"}},\"id\":\"9726\",\"type\":\"VBar\"},{\"attributes\":{},\"id\":\"9713\",\"type\":\"LinearScale\"},{\"attributes\":{},\"id\":\"10056\",\"type\":\"CategoricalTickFormatter\"},{\"attributes\":{},\"id\":\"10057\",\"type\":\"AllLabels\"},{\"attributes\":{},\"id\":\"9711\",\"type\":\"CategoricalScale\"},{\"attributes\":{\"fill_alpha\":{\"value\":0.1},\"fill_color\":{\"field\":\"color\"},\"line_alpha\":{\"value\":0.1},\"line_color\":{\"field\":\"color\"},\"top\":{\"field\":\"counts\"},\"width\":{\"value\":0.8},\"x\":{\"field\":\"sites\"}},\"id\":\"9727\",\"type\":\"VBar\"},{\"attributes\":{\"data_source\":{\"id\":\"9703\"},\"glyph\":{\"id\":\"9726\"},\"hover_glyph\":null,\"muted_glyph\":null,\"nonselection_glyph\":{\"id\":\"9727\"},\"view\":{\"id\":\"9729\"}},\"id\":\"9728\",\"type\":\"GlyphRenderer\"},{\"attributes\":{\"callback\":null,\"tooltips\":\"@sites: @counts\"},\"id\":\"9722\",\"type\":\"HoverTool\"},{\"attributes\":{},\"id\":\"9719\",\"type\":\"BasicTicker\"},{\"attributes\":{},\"id\":\"9716\",\"type\":\"CategoricalTicker\"}],\"root_ids\":[\"9704\"]},\"title\":\"Bokeh Application\",\"version\":\"2.3.2\"}};\n",
       "  var render_items = [{\"docid\":\"56612d26-af18-40f2-a55d-175bf1fbb21a\",\"root_ids\":[\"9704\"],\"roots\":{\"9704\":\"e0fd620a-1c7d-480a-a64a-239d16b27520\"}}];\n",
       "  root.Bokeh.embed.embed_items_notebook(docs_json, render_items);\n",
       "\n",
       "  }\n",
       "  if (root.Bokeh !== undefined) {\n",
       "    embed_document(root);\n",
       "  } else {\n",
       "    var attempts = 0;\n",
       "    var timer = setInterval(function(root) {\n",
       "      if (root.Bokeh !== undefined) {\n",
       "        clearInterval(timer);\n",
       "        embed_document(root);\n",
       "      } else {\n",
       "        attempts++;\n",
       "        if (attempts > 100) {\n",
       "          clearInterval(timer);\n",
       "          console.log(\"Bokeh: ERROR: Unable to run BokehJS code because BokehJS library is missing\");\n",
       "        }\n",
       "      }\n",
       "    }, 10, root)\n",
       "  }\n",
       "})(window);"
      ],
      "application/vnd.bokehjs_exec.v0+json": ""
     },
     "metadata": {
      "application/vnd.bokehjs_exec.v0+json": {
       "id": "9704"
      }
     },
     "output_type": "display_data"
    }
   ],
   "source": [
    "#Count of Real news pulished by sites\n",
    "\n",
    "sites = df[df['label'] == 'Real']['site_url'].value_counts().head(10).index.tolist()\n",
    "count = df[df['label'] == 'Real']['site_url'].value_counts().head(10).values.tolist()\n",
    "source = ColumnDataSource(data = dict(sites = sites, counts = count, color = ['#6baed6'] * 10))\n",
    "\n",
    "p7 = figure(x_range = sites, plot_height = 400, plot_width = 1200, title = \"Count of Real Stories Published by Sites \", tools = \"hover\", tooltips = \"@sites: @counts\")\n",
    "p7.vbar(x = 'sites', top = 'counts', width = 0.8, source = source, color = 'color')\n",
    "curdoc().theme = 'dark_minimal'\n",
    "p7.xgrid.grid_line_color = None\n",
    "p7.title.align = 'center'\n",
    "p7.y_range.start = 0\n",
    "\n",
    "show(p7)"
   ]
  },
  {
   "cell_type": "code",
   "execution_count": 165,
   "metadata": {},
   "outputs": [
    {
     "name": "stdout",
     "output_type": "stream",
     "text": [
      "Websites publishing both real & fake news are \u001b[33m{'washingtonsblog.com', 'prisonplanet.com', 'newstarget.com', 'davidduke.com', 'presstv.ir', 'westernjournalism.com', 'returnofkings.com', 'fromthetrenchesworldreport.com'}\n"
     ]
    }
   ],
   "source": [
    "#Checking sites publishing BOTH real and fake news\n",
    "\n",
    "real = set(df[df['label'] == 'Real']['site_url'].unique())\n",
    "fake = set(df[df['label'] == 'Fake']['site_url'].unique())\n",
    "print(f\"Websites publishing both real & fake news are {y_}{real & fake}\")"
   ]
  },
  {
   "cell_type": "code",
   "execution_count": 166,
   "metadata": {},
   "outputs": [
    {
     "data": {
      "text/html": [
       "<div>\n",
       "<style scoped>\n",
       "    .dataframe tbody tr th:only-of-type {\n",
       "        vertical-align: middle;\n",
       "    }\n",
       "\n",
       "    .dataframe tbody tr th {\n",
       "        vertical-align: top;\n",
       "    }\n",
       "\n",
       "    .dataframe thead th {\n",
       "        text-align: right;\n",
       "    }\n",
       "</style>\n",
       "<table border=\"1\" class=\"dataframe\">\n",
       "  <thead>\n",
       "    <tr style=\"text-align: right;\">\n",
       "      <th></th>\n",
       "      <th>author</th>\n",
       "      <th>published</th>\n",
       "      <th>title</th>\n",
       "      <th>text</th>\n",
       "      <th>language</th>\n",
       "      <th>site_url</th>\n",
       "      <th>main_img_url</th>\n",
       "      <th>type</th>\n",
       "      <th>label</th>\n",
       "      <th>title_without_stopwords</th>\n",
       "      <th>text_without_stopwords</th>\n",
       "      <th>hasImage</th>\n",
       "    </tr>\n",
       "  </thead>\n",
       "  <tbody>\n",
       "    <tr>\n",
       "      <th>0</th>\n",
       "      <td>Barracuda Brigade</td>\n",
       "      <td>2016-10-26T21:41:00.000+03:00</td>\n",
       "      <td>muslims busted they stole millions in govt ben...</td>\n",
       "      <td>print they should pay all the back all the mon...</td>\n",
       "      <td>english</td>\n",
       "      <td>100percentfedup.com</td>\n",
       "      <td>http://bb4sp.com/wp-content/uploads/2016/10/Fu...</td>\n",
       "      <td>0</td>\n",
       "      <td>Real</td>\n",
       "      <td>muslims busted stole millions govt benefits</td>\n",
       "      <td>print pay back money plus interest entire fami...</td>\n",
       "      <td>1.0</td>\n",
       "    </tr>\n",
       "    <tr>\n",
       "      <th>1</th>\n",
       "      <td>reasoning with facts</td>\n",
       "      <td>2016-10-29T08:47:11.259+03:00</td>\n",
       "      <td>re why did attorney general loretta lynch plea...</td>\n",
       "      <td>why did attorney general loretta lynch plead t...</td>\n",
       "      <td>english</td>\n",
       "      <td>100percentfedup.com</td>\n",
       "      <td>http://bb4sp.com/wp-content/uploads/2016/10/Fu...</td>\n",
       "      <td>0</td>\n",
       "      <td>Real</td>\n",
       "      <td>attorney general loretta lynch plead fifth</td>\n",
       "      <td>attorney general loretta lynch plead fifth bar...</td>\n",
       "      <td>1.0</td>\n",
       "    </tr>\n",
       "    <tr>\n",
       "      <th>2</th>\n",
       "      <td>Barracuda Brigade</td>\n",
       "      <td>2016-10-31T01:41:49.479+02:00</td>\n",
       "      <td>breaking weiner cooperating with fbi on hillar...</td>\n",
       "      <td>red state  \\nfox news sunday reported this mor...</td>\n",
       "      <td>english</td>\n",
       "      <td>100percentfedup.com</td>\n",
       "      <td>http://bb4sp.com/wp-content/uploads/2016/10/Fu...</td>\n",
       "      <td>0</td>\n",
       "      <td>Real</td>\n",
       "      <td>breaking weiner cooperating fbi hillary email ...</td>\n",
       "      <td>red state fox news sunday reported morning ant...</td>\n",
       "      <td>1.0</td>\n",
       "    </tr>\n",
       "    <tr>\n",
       "      <th>3</th>\n",
       "      <td>Fed Up</td>\n",
       "      <td>2016-11-01T05:22:00.000+02:00</td>\n",
       "      <td>pin drop speech by father of daughter kidnappe...</td>\n",
       "      <td>email kayla mueller was a prisoner and torture...</td>\n",
       "      <td>english</td>\n",
       "      <td>100percentfedup.com</td>\n",
       "      <td>http://100percentfedup.com/wp-content/uploads/...</td>\n",
       "      <td>0</td>\n",
       "      <td>Real</td>\n",
       "      <td>pin drop speech father daughter kidnapped kill...</td>\n",
       "      <td>email kayla mueller prisoner tortured isis cha...</td>\n",
       "      <td>1.0</td>\n",
       "    </tr>\n",
       "    <tr>\n",
       "      <th>4</th>\n",
       "      <td>Fed Up</td>\n",
       "      <td>2016-11-01T21:56:00.000+02:00</td>\n",
       "      <td>fantastic trumps  point plan to reform healthc...</td>\n",
       "      <td>email healthcare reform to make america great ...</td>\n",
       "      <td>english</td>\n",
       "      <td>100percentfedup.com</td>\n",
       "      <td>http://100percentfedup.com/wp-content/uploads/...</td>\n",
       "      <td>0</td>\n",
       "      <td>Real</td>\n",
       "      <td>fantastic trumps point plan reform healthcare ...</td>\n",
       "      <td>email healthcare reform make america great sin...</td>\n",
       "      <td>1.0</td>\n",
       "    </tr>\n",
       "  </tbody>\n",
       "</table>\n",
       "</div>"
      ],
      "text/plain": [
       "                 author                      published  \\\n",
       "0     Barracuda Brigade  2016-10-26T21:41:00.000+03:00   \n",
       "1  reasoning with facts  2016-10-29T08:47:11.259+03:00   \n",
       "2     Barracuda Brigade  2016-10-31T01:41:49.479+02:00   \n",
       "3                Fed Up  2016-11-01T05:22:00.000+02:00   \n",
       "4                Fed Up  2016-11-01T21:56:00.000+02:00   \n",
       "\n",
       "                                               title  \\\n",
       "0  muslims busted they stole millions in govt ben...   \n",
       "1  re why did attorney general loretta lynch plea...   \n",
       "2  breaking weiner cooperating with fbi on hillar...   \n",
       "3  pin drop speech by father of daughter kidnappe...   \n",
       "4  fantastic trumps  point plan to reform healthc...   \n",
       "\n",
       "                                                text language  \\\n",
       "0  print they should pay all the back all the mon...  english   \n",
       "1  why did attorney general loretta lynch plead t...  english   \n",
       "2  red state  \\nfox news sunday reported this mor...  english   \n",
       "3  email kayla mueller was a prisoner and torture...  english   \n",
       "4  email healthcare reform to make america great ...  english   \n",
       "\n",
       "              site_url                                       main_img_url  \\\n",
       "0  100percentfedup.com  http://bb4sp.com/wp-content/uploads/2016/10/Fu...   \n",
       "1  100percentfedup.com  http://bb4sp.com/wp-content/uploads/2016/10/Fu...   \n",
       "2  100percentfedup.com  http://bb4sp.com/wp-content/uploads/2016/10/Fu...   \n",
       "3  100percentfedup.com  http://100percentfedup.com/wp-content/uploads/...   \n",
       "4  100percentfedup.com  http://100percentfedup.com/wp-content/uploads/...   \n",
       "\n",
       "   type label                            title_without_stopwords  \\\n",
       "0     0  Real        muslims busted stole millions govt benefits   \n",
       "1     0  Real         attorney general loretta lynch plead fifth   \n",
       "2     0  Real  breaking weiner cooperating fbi hillary email ...   \n",
       "3     0  Real  pin drop speech father daughter kidnapped kill...   \n",
       "4     0  Real  fantastic trumps point plan reform healthcare ...   \n",
       "\n",
       "                              text_without_stopwords  hasImage  \n",
       "0  print pay back money plus interest entire fami...       1.0  \n",
       "1  attorney general loretta lynch plead fifth bar...       1.0  \n",
       "2  red state fox news sunday reported morning ant...       1.0  \n",
       "3  email kayla mueller prisoner tortured isis cha...       1.0  \n",
       "4  email healthcare reform make america great sin...       1.0  "
      ]
     },
     "execution_count": 166,
     "metadata": {},
     "output_type": "execute_result"
    }
   ],
   "source": [
    "#Using LabelEncoder\n",
    "\n",
    "from sklearn.preprocessing import LabelEncoder\n",
    "le = LabelEncoder() ## Converting the type column from object datatype to numerical datatype\n",
    "df['type'] = le.fit_transform(df['type'])\n",
    "df.head()"
   ]
  },
  {
   "cell_type": "code",
   "execution_count": 167,
   "metadata": {},
   "outputs": [
    {
     "data": {
      "text/plain": [
       "LabelEncoder()"
      ]
     },
     "execution_count": 167,
     "metadata": {},
     "output_type": "execute_result"
    }
   ],
   "source": [
    "le.fit(['bias', 'bs', 'conspiracy', 'fake', 'hate', 'junksci', 'satire' , 'state'])"
   ]
  },
  {
   "cell_type": "code",
   "execution_count": 168,
   "metadata": {},
   "outputs": [
    {
     "data": {
      "text/plain": [
       "array(['bias', 'bs', 'conspiracy', 'fake', 'hate', 'junksci', 'satire',\n",
       "       'state'], dtype='<U10')"
      ]
     },
     "execution_count": 168,
     "metadata": {},
     "output_type": "execute_result"
    }
   ],
   "source": [
    "le.classes_"
   ]
  },
  {
   "cell_type": "code",
   "execution_count": 169,
   "metadata": {},
   "outputs": [
    {
     "data": {
      "text/plain": [
       "array([0, 1, 2, 3, 4, 5, 6, 7], dtype=int64)"
      ]
     },
     "execution_count": 169,
     "metadata": {},
     "output_type": "execute_result"
    }
   ],
   "source": [
    "le.transform(['bias', 'bs', 'conspiracy', 'fake', 'hate', 'junksci', 'satire' , 'state'])"
   ]
  },
  {
   "cell_type": "code",
   "execution_count": 170,
   "metadata": {},
   "outputs": [
    {
     "name": "stdout",
     "output_type": "stream",
     "text": [
      "{'bias': 0, 'bs': 1, 'conspiracy': 2, 'fake': 3, 'hate': 4, 'junksci': 5, 'satire': 6, 'state': 7}\n"
     ]
    }
   ],
   "source": [
    "mapping = {}\n",
    "for i in le.classes_:\n",
    "    mapping[i] = le.transform([i])[0]\n",
    "print(mapping)"
   ]
  },
  {
   "cell_type": "markdown",
   "metadata": {},
   "source": [
    "## Plot of sunburst "
   ]
  },
  {
   "cell_type": "code",
   "execution_count": 171,
   "metadata": {},
   "outputs": [
    {
     "data": {
      "application/vnd.plotly.v1+json": {
       "config": {
        "plotlyServerURL": "https://plot.ly"
       },
       "data": [
        {
         "branchvalues": "total",
         "domain": {
          "x": [
           0,
           1
          ],
          "y": [
           0,
           1
          ]
         },
         "hovertemplate": "labels=%{label}<br>count=%{value}<br>parent=%{parent}<br>id=%{id}<extra></extra>",
         "ids": [
          "Real/0",
          "Fake/1",
          "Fake/2",
          "Fake/3",
          "Real/4",
          "Fake/5",
          "Fake/6",
          "Real/7",
          "Fake",
          "Real"
         ],
         "labels": [
          "0",
          "1",
          "2",
          "3",
          "4",
          "5",
          "6",
          "7",
          "Fake",
          "Real"
         ],
         "name": "",
         "parents": [
          "Real",
          "Fake",
          "Fake",
          "Fake",
          "Real",
          "Fake",
          "Fake",
          "Real",
          "",
          ""
         ],
         "type": "sunburst",
         "values": [
          367,
          554,
          388,
          15,
          244,
          102,
          145,
          121,
          1204,
          732
         ]
        }
       ],
       "layout": {
        "legend": {
         "tracegroupgap": 0
        },
        "margin": {
         "t": 60
        },
        "template": {
         "data": {
          "bar": [
           {
            "error_x": {
             "color": "#2a3f5f"
            },
            "error_y": {
             "color": "#2a3f5f"
            },
            "marker": {
             "line": {
              "color": "#E5ECF6",
              "width": 0.5
             },
             "pattern": {
              "fillmode": "overlay",
              "size": 10,
              "solidity": 0.2
             }
            },
            "type": "bar"
           }
          ],
          "barpolar": [
           {
            "marker": {
             "line": {
              "color": "#E5ECF6",
              "width": 0.5
             },
             "pattern": {
              "fillmode": "overlay",
              "size": 10,
              "solidity": 0.2
             }
            },
            "type": "barpolar"
           }
          ],
          "carpet": [
           {
            "aaxis": {
             "endlinecolor": "#2a3f5f",
             "gridcolor": "white",
             "linecolor": "white",
             "minorgridcolor": "white",
             "startlinecolor": "#2a3f5f"
            },
            "baxis": {
             "endlinecolor": "#2a3f5f",
             "gridcolor": "white",
             "linecolor": "white",
             "minorgridcolor": "white",
             "startlinecolor": "#2a3f5f"
            },
            "type": "carpet"
           }
          ],
          "choropleth": [
           {
            "colorbar": {
             "outlinewidth": 0,
             "ticks": ""
            },
            "type": "choropleth"
           }
          ],
          "contour": [
           {
            "colorbar": {
             "outlinewidth": 0,
             "ticks": ""
            },
            "colorscale": [
             [
              0,
              "#0d0887"
             ],
             [
              0.1111111111111111,
              "#46039f"
             ],
             [
              0.2222222222222222,
              "#7201a8"
             ],
             [
              0.3333333333333333,
              "#9c179e"
             ],
             [
              0.4444444444444444,
              "#bd3786"
             ],
             [
              0.5555555555555556,
              "#d8576b"
             ],
             [
              0.6666666666666666,
              "#ed7953"
             ],
             [
              0.7777777777777778,
              "#fb9f3a"
             ],
             [
              0.8888888888888888,
              "#fdca26"
             ],
             [
              1,
              "#f0f921"
             ]
            ],
            "type": "contour"
           }
          ],
          "contourcarpet": [
           {
            "colorbar": {
             "outlinewidth": 0,
             "ticks": ""
            },
            "type": "contourcarpet"
           }
          ],
          "heatmap": [
           {
            "colorbar": {
             "outlinewidth": 0,
             "ticks": ""
            },
            "colorscale": [
             [
              0,
              "#0d0887"
             ],
             [
              0.1111111111111111,
              "#46039f"
             ],
             [
              0.2222222222222222,
              "#7201a8"
             ],
             [
              0.3333333333333333,
              "#9c179e"
             ],
             [
              0.4444444444444444,
              "#bd3786"
             ],
             [
              0.5555555555555556,
              "#d8576b"
             ],
             [
              0.6666666666666666,
              "#ed7953"
             ],
             [
              0.7777777777777778,
              "#fb9f3a"
             ],
             [
              0.8888888888888888,
              "#fdca26"
             ],
             [
              1,
              "#f0f921"
             ]
            ],
            "type": "heatmap"
           }
          ],
          "heatmapgl": [
           {
            "colorbar": {
             "outlinewidth": 0,
             "ticks": ""
            },
            "colorscale": [
             [
              0,
              "#0d0887"
             ],
             [
              0.1111111111111111,
              "#46039f"
             ],
             [
              0.2222222222222222,
              "#7201a8"
             ],
             [
              0.3333333333333333,
              "#9c179e"
             ],
             [
              0.4444444444444444,
              "#bd3786"
             ],
             [
              0.5555555555555556,
              "#d8576b"
             ],
             [
              0.6666666666666666,
              "#ed7953"
             ],
             [
              0.7777777777777778,
              "#fb9f3a"
             ],
             [
              0.8888888888888888,
              "#fdca26"
             ],
             [
              1,
              "#f0f921"
             ]
            ],
            "type": "heatmapgl"
           }
          ],
          "histogram": [
           {
            "marker": {
             "pattern": {
              "fillmode": "overlay",
              "size": 10,
              "solidity": 0.2
             }
            },
            "type": "histogram"
           }
          ],
          "histogram2d": [
           {
            "colorbar": {
             "outlinewidth": 0,
             "ticks": ""
            },
            "colorscale": [
             [
              0,
              "#0d0887"
             ],
             [
              0.1111111111111111,
              "#46039f"
             ],
             [
              0.2222222222222222,
              "#7201a8"
             ],
             [
              0.3333333333333333,
              "#9c179e"
             ],
             [
              0.4444444444444444,
              "#bd3786"
             ],
             [
              0.5555555555555556,
              "#d8576b"
             ],
             [
              0.6666666666666666,
              "#ed7953"
             ],
             [
              0.7777777777777778,
              "#fb9f3a"
             ],
             [
              0.8888888888888888,
              "#fdca26"
             ],
             [
              1,
              "#f0f921"
             ]
            ],
            "type": "histogram2d"
           }
          ],
          "histogram2dcontour": [
           {
            "colorbar": {
             "outlinewidth": 0,
             "ticks": ""
            },
            "colorscale": [
             [
              0,
              "#0d0887"
             ],
             [
              0.1111111111111111,
              "#46039f"
             ],
             [
              0.2222222222222222,
              "#7201a8"
             ],
             [
              0.3333333333333333,
              "#9c179e"
             ],
             [
              0.4444444444444444,
              "#bd3786"
             ],
             [
              0.5555555555555556,
              "#d8576b"
             ],
             [
              0.6666666666666666,
              "#ed7953"
             ],
             [
              0.7777777777777778,
              "#fb9f3a"
             ],
             [
              0.8888888888888888,
              "#fdca26"
             ],
             [
              1,
              "#f0f921"
             ]
            ],
            "type": "histogram2dcontour"
           }
          ],
          "mesh3d": [
           {
            "colorbar": {
             "outlinewidth": 0,
             "ticks": ""
            },
            "type": "mesh3d"
           }
          ],
          "parcoords": [
           {
            "line": {
             "colorbar": {
              "outlinewidth": 0,
              "ticks": ""
             }
            },
            "type": "parcoords"
           }
          ],
          "pie": [
           {
            "automargin": true,
            "type": "pie"
           }
          ],
          "scatter": [
           {
            "marker": {
             "colorbar": {
              "outlinewidth": 0,
              "ticks": ""
             }
            },
            "type": "scatter"
           }
          ],
          "scatter3d": [
           {
            "line": {
             "colorbar": {
              "outlinewidth": 0,
              "ticks": ""
             }
            },
            "marker": {
             "colorbar": {
              "outlinewidth": 0,
              "ticks": ""
             }
            },
            "type": "scatter3d"
           }
          ],
          "scattercarpet": [
           {
            "marker": {
             "colorbar": {
              "outlinewidth": 0,
              "ticks": ""
             }
            },
            "type": "scattercarpet"
           }
          ],
          "scattergeo": [
           {
            "marker": {
             "colorbar": {
              "outlinewidth": 0,
              "ticks": ""
             }
            },
            "type": "scattergeo"
           }
          ],
          "scattergl": [
           {
            "marker": {
             "colorbar": {
              "outlinewidth": 0,
              "ticks": ""
             }
            },
            "type": "scattergl"
           }
          ],
          "scattermapbox": [
           {
            "marker": {
             "colorbar": {
              "outlinewidth": 0,
              "ticks": ""
             }
            },
            "type": "scattermapbox"
           }
          ],
          "scatterpolar": [
           {
            "marker": {
             "colorbar": {
              "outlinewidth": 0,
              "ticks": ""
             }
            },
            "type": "scatterpolar"
           }
          ],
          "scatterpolargl": [
           {
            "marker": {
             "colorbar": {
              "outlinewidth": 0,
              "ticks": ""
             }
            },
            "type": "scatterpolargl"
           }
          ],
          "scatterternary": [
           {
            "marker": {
             "colorbar": {
              "outlinewidth": 0,
              "ticks": ""
             }
            },
            "type": "scatterternary"
           }
          ],
          "surface": [
           {
            "colorbar": {
             "outlinewidth": 0,
             "ticks": ""
            },
            "colorscale": [
             [
              0,
              "#0d0887"
             ],
             [
              0.1111111111111111,
              "#46039f"
             ],
             [
              0.2222222222222222,
              "#7201a8"
             ],
             [
              0.3333333333333333,
              "#9c179e"
             ],
             [
              0.4444444444444444,
              "#bd3786"
             ],
             [
              0.5555555555555556,
              "#d8576b"
             ],
             [
              0.6666666666666666,
              "#ed7953"
             ],
             [
              0.7777777777777778,
              "#fb9f3a"
             ],
             [
              0.8888888888888888,
              "#fdca26"
             ],
             [
              1,
              "#f0f921"
             ]
            ],
            "type": "surface"
           }
          ],
          "table": [
           {
            "cells": {
             "fill": {
              "color": "#EBF0F8"
             },
             "line": {
              "color": "white"
             }
            },
            "header": {
             "fill": {
              "color": "#C8D4E3"
             },
             "line": {
              "color": "white"
             }
            },
            "type": "table"
           }
          ]
         },
         "layout": {
          "annotationdefaults": {
           "arrowcolor": "#2a3f5f",
           "arrowhead": 0,
           "arrowwidth": 1
          },
          "autotypenumbers": "strict",
          "coloraxis": {
           "colorbar": {
            "outlinewidth": 0,
            "ticks": ""
           }
          },
          "colorscale": {
           "diverging": [
            [
             0,
             "#8e0152"
            ],
            [
             0.1,
             "#c51b7d"
            ],
            [
             0.2,
             "#de77ae"
            ],
            [
             0.3,
             "#f1b6da"
            ],
            [
             0.4,
             "#fde0ef"
            ],
            [
             0.5,
             "#f7f7f7"
            ],
            [
             0.6,
             "#e6f5d0"
            ],
            [
             0.7,
             "#b8e186"
            ],
            [
             0.8,
             "#7fbc41"
            ],
            [
             0.9,
             "#4d9221"
            ],
            [
             1,
             "#276419"
            ]
           ],
           "sequential": [
            [
             0,
             "#0d0887"
            ],
            [
             0.1111111111111111,
             "#46039f"
            ],
            [
             0.2222222222222222,
             "#7201a8"
            ],
            [
             0.3333333333333333,
             "#9c179e"
            ],
            [
             0.4444444444444444,
             "#bd3786"
            ],
            [
             0.5555555555555556,
             "#d8576b"
            ],
            [
             0.6666666666666666,
             "#ed7953"
            ],
            [
             0.7777777777777778,
             "#fb9f3a"
            ],
            [
             0.8888888888888888,
             "#fdca26"
            ],
            [
             1,
             "#f0f921"
            ]
           ],
           "sequentialminus": [
            [
             0,
             "#0d0887"
            ],
            [
             0.1111111111111111,
             "#46039f"
            ],
            [
             0.2222222222222222,
             "#7201a8"
            ],
            [
             0.3333333333333333,
             "#9c179e"
            ],
            [
             0.4444444444444444,
             "#bd3786"
            ],
            [
             0.5555555555555556,
             "#d8576b"
            ],
            [
             0.6666666666666666,
             "#ed7953"
            ],
            [
             0.7777777777777778,
             "#fb9f3a"
            ],
            [
             0.8888888888888888,
             "#fdca26"
            ],
            [
             1,
             "#f0f921"
            ]
           ]
          },
          "colorway": [
           "#636efa",
           "#EF553B",
           "#00cc96",
           "#ab63fa",
           "#FFA15A",
           "#19d3f3",
           "#FF6692",
           "#B6E880",
           "#FF97FF",
           "#FECB52"
          ],
          "font": {
           "color": "#2a3f5f"
          },
          "geo": {
           "bgcolor": "white",
           "lakecolor": "white",
           "landcolor": "#E5ECF6",
           "showlakes": true,
           "showland": true,
           "subunitcolor": "white"
          },
          "hoverlabel": {
           "align": "left"
          },
          "hovermode": "closest",
          "mapbox": {
           "style": "light"
          },
          "paper_bgcolor": "white",
          "plot_bgcolor": "#E5ECF6",
          "polar": {
           "angularaxis": {
            "gridcolor": "white",
            "linecolor": "white",
            "ticks": ""
           },
           "bgcolor": "#E5ECF6",
           "radialaxis": {
            "gridcolor": "white",
            "linecolor": "white",
            "ticks": ""
           }
          },
          "scene": {
           "xaxis": {
            "backgroundcolor": "#E5ECF6",
            "gridcolor": "white",
            "gridwidth": 2,
            "linecolor": "white",
            "showbackground": true,
            "ticks": "",
            "zerolinecolor": "white"
           },
           "yaxis": {
            "backgroundcolor": "#E5ECF6",
            "gridcolor": "white",
            "gridwidth": 2,
            "linecolor": "white",
            "showbackground": true,
            "ticks": "",
            "zerolinecolor": "white"
           },
           "zaxis": {
            "backgroundcolor": "#E5ECF6",
            "gridcolor": "white",
            "gridwidth": 2,
            "linecolor": "white",
            "showbackground": true,
            "ticks": "",
            "zerolinecolor": "white"
           }
          },
          "shapedefaults": {
           "line": {
            "color": "#2a3f5f"
           }
          },
          "ternary": {
           "aaxis": {
            "gridcolor": "white",
            "linecolor": "white",
            "ticks": ""
           },
           "baxis": {
            "gridcolor": "white",
            "linecolor": "white",
            "ticks": ""
           },
           "bgcolor": "#E5ECF6",
           "caxis": {
            "gridcolor": "white",
            "linecolor": "white",
            "ticks": ""
           }
          },
          "title": {
           "x": 0.05
          },
          "xaxis": {
           "automargin": true,
           "gridcolor": "white",
           "linecolor": "white",
           "ticks": "",
           "title": {
            "standoff": 15
           },
           "zerolinecolor": "white",
           "zerolinewidth": 2
          },
          "yaxis": {
           "automargin": true,
           "gridcolor": "white",
           "linecolor": "white",
           "ticks": "",
           "title": {
            "standoff": 15
           },
           "zerolinecolor": "white",
           "zerolinewidth": 2
          }
         }
        }
       }
      }
     },
     "metadata": {},
     "output_type": "display_data"
    }
   ],
   "source": [
    "fig = px.sunburst(df, path=['label', 'type'])\n",
    "fig.show()"
   ]
  },
  {
   "cell_type": "markdown",
   "metadata": {},
   "source": [
    "## Sites publishing article of each types"
   ]
  },
  {
   "cell_type": "code",
   "execution_count": 172,
   "metadata": {},
   "outputs": [],
   "source": [
    "def sites_type(df):\n",
    "    types = df['type'].unique()\n",
    "    for type in types:\n",
    "        df_type = df[df['type'] == type]\n",
    "        type = le.inverse_transform([type])\n",
    "        print(f\"{r_}The unique sites publishing article of type {type[0]} are: {g_}{df_type['site_url'].unique()}\")\n",
    "        print()"
   ]
  },
  {
   "cell_type": "code",
   "execution_count": 173,
   "metadata": {},
   "outputs": [
    {
     "name": "stdout",
     "output_type": "stream",
     "text": [
      "\u001b[31mThe unique sites publishing article of type bias are: \u001b[32m['100percentfedup.com' 'addictinginfo.org' 'dailywire.com'\n",
      " 'newstarget.com' 'politicususa.com' 'prisonplanet.com' 'proudemocrat.com'\n",
      " 'washingtonsblog.com' 'westernjournalism.com' 'wnd.com']\n",
      "\n",
      "\u001b[31mThe unique sites publishing article of type conspiracy are: \u001b[32m['21stcenturywire.com' 'activistpost.com' 'awdnews.com'\n",
      " 'galacticconnection.com' 'globalresearch.ca' 'infowars.com'\n",
      " 'naturalnews.com' 'newstarget.com' 'presstv.ir' 'prisonplanet.com']\n",
      "\n",
      "\u001b[31mThe unique sites publishing article of type fake are: \u001b[32m['abcnews.com.co' 'adobochronicles.com']\n",
      "\n",
      "\u001b[31mThe unique sites publishing article of type bs are: \u001b[32m['abeldanger.net' 'abovetopsecret.com' 'ahtribune.com'\n",
      " 'allnewspipeline.com' 'americannews.com' 'americasfreedomfighters.com'\n",
      " 'amren.com' 'amtvmedia.com' 'barenakedislam.com' 'coasttocoastam.com'\n",
      " 'corbettreport.com' 'countercurrents.org' 'counterpunch.org'\n",
      " 'darkmoon.me' 'davidduke.com' 'davidstockmanscontracorner.com'\n",
      " 'davidwolfe.com' 'dcclothesline.com' 'defenddemocracy.press'\n",
      " 'dennismichaellynch.com' 'departed.co' 'der-postillon.com'\n",
      " 'fromthetrenchesworldreport.com' 'galacticconnection.com' 'infowars.com'\n",
      " 'legorafi.fr' 'projectveritas.com' 'returnofkings.com'\n",
      " 'shiftfrequency.com' 'thedailysheeple.com' 'theeconomiccollapseblog.com'\n",
      " 'thefreethoughtproject.com' 'themindunleashed.com' 'theonion.com'\n",
      " 'thepeoplescube.com' 'therussophile.org' 'thesaker.is'\n",
      " 'thetruthseeker.co.uk' 'theunrealtimes.com' 'topinfopost.com'\n",
      " 'veteranstoday.com' 'voltairenet.org' 'washingtonsblog.com'\n",
      " 'westernjournalism.com' 'whatreallyhappened.com']\n",
      "\n",
      "\u001b[31mThe unique sites publishing article of type satire are: \u001b[32m['clickhole.com' 'intrepidreport.com' 'legorafi.fr']\n",
      "\n",
      "\u001b[31mThe unique sites publishing article of type hate are: \u001b[32m['davidduke.com' 'fromthetrenchesworldreport.com' 'frontpagemag.com'\n",
      " 'redstatewatcher.com' 'returnofkings.com']\n",
      "\n",
      "\u001b[31mThe unique sites publishing article of type junksci are: \u001b[32m['davidstockmanscontracorner.com' 'davidwolfe.com' 'madworldnews.com'\n",
      " 'naturalnews.com']\n",
      "\n",
      "\u001b[31mThe unique sites publishing article of type state are: \u001b[32m['politicususa.com' 'presstv.com' 'presstv.ir']\n",
      "\n"
     ]
    }
   ],
   "source": [
    "sites_type(df)"
   ]
  },
  {
   "cell_type": "code",
   "execution_count": 174,
   "metadata": {},
   "outputs": [],
   "source": [
    "#Removing .com from URL's\n",
    "\n",
    "urls = []\n",
    "for url in df['site_url']:\n",
    "    urls.append(url.split('.')[0])\n",
    "df['site_url'] = urls"
   ]
  },
  {
   "cell_type": "markdown",
   "metadata": {},
   "source": [
    "# Modelling\n",
    "\n",
    "- __In the dataset , the values are in ordered format. For example: all the site urls are ordered alphabetically, therefore we reshuffle the values.__"
   ]
  },
  {
   "cell_type": "code",
   "execution_count": 175,
   "metadata": {},
   "outputs": [],
   "source": [
    "df = df.sample(frac = 1)"
   ]
  },
  {
   "cell_type": "code",
   "execution_count": 176,
   "metadata": {},
   "outputs": [
    {
     "data": {
      "text/html": [
       "<div>\n",
       "<style scoped>\n",
       "    .dataframe tbody tr th:only-of-type {\n",
       "        vertical-align: middle;\n",
       "    }\n",
       "\n",
       "    .dataframe tbody tr th {\n",
       "        vertical-align: top;\n",
       "    }\n",
       "\n",
       "    .dataframe thead th {\n",
       "        text-align: right;\n",
       "    }\n",
       "</style>\n",
       "<table border=\"1\" class=\"dataframe\">\n",
       "  <thead>\n",
       "    <tr style=\"text-align: right;\">\n",
       "      <th></th>\n",
       "      <th>site_url</th>\n",
       "      <th>text_without_stopwords</th>\n",
       "    </tr>\n",
       "  </thead>\n",
       "  <tbody>\n",
       "    <tr>\n",
       "      <th>1299</th>\n",
       "      <td>naturalnews</td>\n",
       "      <td>scandal epa could issued emergency order month...</td>\n",
       "    </tr>\n",
       "    <tr>\n",
       "      <th>619</th>\n",
       "      <td>clickhole</td>\n",
       "      <td>email hand might leg right youre drivers seat ...</td>\n",
       "    </tr>\n",
       "    <tr>\n",
       "      <th>1755</th>\n",
       "      <td>returnofkings</td>\n",
       "      <td>selfimprovement return kings man always seekin...</td>\n",
       "    </tr>\n",
       "    <tr>\n",
       "      <th>1890</th>\n",
       "      <td>westernjournalism</td>\n",
       "      <td>think citizens stupid believe anything saywron...</td>\n",
       "    </tr>\n",
       "    <tr>\n",
       "      <th>1583</th>\n",
       "      <td>presstv</td>\n",
       "      <td>information liberation october video florida s...</td>\n",
       "    </tr>\n",
       "  </tbody>\n",
       "</table>\n",
       "</div>"
      ],
      "text/plain": [
       "               site_url                             text_without_stopwords\n",
       "1299        naturalnews  scandal epa could issued emergency order month...\n",
       "619           clickhole  email hand might leg right youre drivers seat ...\n",
       "1755      returnofkings  selfimprovement return kings man always seekin...\n",
       "1890  westernjournalism  think citizens stupid believe anything saywron...\n",
       "1583            presstv  information liberation october video florida s..."
      ]
     },
     "execution_count": 176,
     "metadata": {},
     "output_type": "execute_result"
    }
   ],
   "source": [
    "features = df[['site_url', 'text_without_stopwords']]\n",
    "features.head(5)"
   ]
  },
  {
   "cell_type": "code",
   "execution_count": 177,
   "metadata": {},
   "outputs": [],
   "source": [
    "#Combing two columns \"site_url\" + \"text_without_stopwords\" to a new column \"url_text\"\n",
    "\n",
    "features['url_text'] = features[\"site_url\"].astype(str) + \" \" + features[\"text_without_stopwords\"]\n",
    "features.drop(['site_url', 'text_without_stopwords'], axis = 1, inplace = True)"
   ]
  },
  {
   "cell_type": "code",
   "execution_count": 178,
   "metadata": {},
   "outputs": [
    {
     "data": {
      "text/html": [
       "<div>\n",
       "<style scoped>\n",
       "    .dataframe tbody tr th:only-of-type {\n",
       "        vertical-align: middle;\n",
       "    }\n",
       "\n",
       "    .dataframe tbody tr th {\n",
       "        vertical-align: top;\n",
       "    }\n",
       "\n",
       "    .dataframe thead th {\n",
       "        text-align: right;\n",
       "    }\n",
       "</style>\n",
       "<table border=\"1\" class=\"dataframe\">\n",
       "  <thead>\n",
       "    <tr style=\"text-align: right;\">\n",
       "      <th></th>\n",
       "      <th>url_text</th>\n",
       "    </tr>\n",
       "  </thead>\n",
       "  <tbody>\n",
       "    <tr>\n",
       "      <th>1299</th>\n",
       "      <td>naturalnews scandal epa could issued emergency...</td>\n",
       "    </tr>\n",
       "    <tr>\n",
       "      <th>619</th>\n",
       "      <td>clickhole email hand might leg right youre dri...</td>\n",
       "    </tr>\n",
       "    <tr>\n",
       "      <th>1755</th>\n",
       "      <td>returnofkings selfimprovement return kings man...</td>\n",
       "    </tr>\n",
       "    <tr>\n",
       "      <th>1890</th>\n",
       "      <td>westernjournalism think citizens stupid believ...</td>\n",
       "    </tr>\n",
       "    <tr>\n",
       "      <th>1583</th>\n",
       "      <td>presstv information liberation october video f...</td>\n",
       "    </tr>\n",
       "  </tbody>\n",
       "</table>\n",
       "</div>"
      ],
      "text/plain": [
       "                                               url_text\n",
       "1299  naturalnews scandal epa could issued emergency...\n",
       "619   clickhole email hand might leg right youre dri...\n",
       "1755  returnofkings selfimprovement return kings man...\n",
       "1890  westernjournalism think citizens stupid believ...\n",
       "1583  presstv information liberation october video f..."
      ]
     },
     "execution_count": 178,
     "metadata": {},
     "output_type": "execute_result"
    }
   ],
   "source": [
    "features.head()"
   ]
  },
  {
   "cell_type": "code",
   "execution_count": 179,
   "metadata": {},
   "outputs": [],
   "source": [
    "X = features\n",
    "y = df['type']"
   ]
  },
  {
   "cell_type": "code",
   "execution_count": 180,
   "metadata": {},
   "outputs": [],
   "source": [
    "y = y.tolist()"
   ]
  },
  {
   "cell_type": "markdown",
   "metadata": {},
   "source": [
    "## TF-IDF"
   ]
  },
  {
   "cell_type": "code",
   "execution_count": 181,
   "metadata": {},
   "outputs": [],
   "source": [
    "X_train, X_test, y_train, y_test = train_test_split(X, y, test_size = 0.25, random_state = 0)\n",
    "\n",
    "tfidf_vectorizer = TfidfVectorizer(use_idf = True, stop_words = 'english')\n",
    "\n",
    "X_train_tfidf = tfidf_vectorizer.fit_transform(X_train['url_text'])\n",
    "X_test_tfidf = tfidf_vectorizer.transform(X_test['url_text'])\n",
    "\n",
    "# We build our corpus only based on the train data because certain new words might occur in the test data\n",
    "# that might occur in real life too. This ensures that our model can be generalized."
   ]
  },
  {
   "cell_type": "code",
   "execution_count": 182,
   "metadata": {},
   "outputs": [
    {
     "data": {
      "text/plain": [
       "(1452, 40830)"
      ]
     },
     "execution_count": 182,
     "metadata": {},
     "output_type": "execute_result"
    }
   ],
   "source": [
    "X_train_tfidf.shape"
   ]
  },
  {
   "cell_type": "code",
   "execution_count": 183,
   "metadata": {},
   "outputs": [
    {
     "data": {
      "text/plain": [
       "(484, 40830)"
      ]
     },
     "execution_count": 183,
     "metadata": {},
     "output_type": "execute_result"
    }
   ],
   "source": [
    "X_test_tfidf.shape"
   ]
  },
  {
   "cell_type": "code",
   "execution_count": 184,
   "metadata": {},
   "outputs": [],
   "source": [
    "tfidf_train = pd.DataFrame(X_train_tfidf.A, columns = tfidf_vectorizer.get_feature_names())"
   ]
  },
  {
   "cell_type": "code",
   "execution_count": 185,
   "metadata": {},
   "outputs": [
    {
     "data": {
      "text/html": [
       "<div>\n",
       "<style scoped>\n",
       "    .dataframe tbody tr th:only-of-type {\n",
       "        vertical-align: middle;\n",
       "    }\n",
       "\n",
       "    .dataframe tbody tr th {\n",
       "        vertical-align: top;\n",
       "    }\n",
       "\n",
       "    .dataframe thead th {\n",
       "        text-align: right;\n",
       "    }\n",
       "</style>\n",
       "<table border=\"1\" class=\"dataframe\">\n",
       "  <thead>\n",
       "    <tr style=\"text-align: right;\">\n",
       "      <th></th>\n",
       "      <th>100percentfedup</th>\n",
       "      <th>21stcenturywire</th>\n",
       "      <th>___</th>\n",
       "      <th>aa</th>\n",
       "      <th>aab</th>\n",
       "      <th>aadmi</th>\n",
       "      <th>aafe</th>\n",
       "      <th>aah</th>\n",
       "      <th>aaja</th>\n",
       "      <th>aali</th>\n",
       "      <th>...</th>\n",
       "      <th>übertrieben</th>\n",
       "      <th>überwacht</th>\n",
       "      <th>überwachungskamera</th>\n",
       "      <th>überwachungskameras</th>\n",
       "      <th>überwältigen</th>\n",
       "      <th>überwältigt</th>\n",
       "      <th>überzeugt</th>\n",
       "      <th>übrig</th>\n",
       "      <th>übrige</th>\n",
       "      <th>übte</th>\n",
       "    </tr>\n",
       "  </thead>\n",
       "  <tbody>\n",
       "    <tr>\n",
       "      <th>0</th>\n",
       "      <td>0.0</td>\n",
       "      <td>0.051762</td>\n",
       "      <td>0.0</td>\n",
       "      <td>0.0</td>\n",
       "      <td>0.0</td>\n",
       "      <td>0.0</td>\n",
       "      <td>0.0</td>\n",
       "      <td>0.0</td>\n",
       "      <td>0.0</td>\n",
       "      <td>0.0</td>\n",
       "      <td>...</td>\n",
       "      <td>0.0</td>\n",
       "      <td>0.0</td>\n",
       "      <td>0.0</td>\n",
       "      <td>0.0</td>\n",
       "      <td>0.0</td>\n",
       "      <td>0.0</td>\n",
       "      <td>0.0</td>\n",
       "      <td>0.0</td>\n",
       "      <td>0.0</td>\n",
       "      <td>0.0</td>\n",
       "    </tr>\n",
       "    <tr>\n",
       "      <th>1</th>\n",
       "      <td>0.0</td>\n",
       "      <td>0.000000</td>\n",
       "      <td>0.0</td>\n",
       "      <td>0.0</td>\n",
       "      <td>0.0</td>\n",
       "      <td>0.0</td>\n",
       "      <td>0.0</td>\n",
       "      <td>0.0</td>\n",
       "      <td>0.0</td>\n",
       "      <td>0.0</td>\n",
       "      <td>...</td>\n",
       "      <td>0.0</td>\n",
       "      <td>0.0</td>\n",
       "      <td>0.0</td>\n",
       "      <td>0.0</td>\n",
       "      <td>0.0</td>\n",
       "      <td>0.0</td>\n",
       "      <td>0.0</td>\n",
       "      <td>0.0</td>\n",
       "      <td>0.0</td>\n",
       "      <td>0.0</td>\n",
       "    </tr>\n",
       "    <tr>\n",
       "      <th>2</th>\n",
       "      <td>0.0</td>\n",
       "      <td>0.000000</td>\n",
       "      <td>0.0</td>\n",
       "      <td>0.0</td>\n",
       "      <td>0.0</td>\n",
       "      <td>0.0</td>\n",
       "      <td>0.0</td>\n",
       "      <td>0.0</td>\n",
       "      <td>0.0</td>\n",
       "      <td>0.0</td>\n",
       "      <td>...</td>\n",
       "      <td>0.0</td>\n",
       "      <td>0.0</td>\n",
       "      <td>0.0</td>\n",
       "      <td>0.0</td>\n",
       "      <td>0.0</td>\n",
       "      <td>0.0</td>\n",
       "      <td>0.0</td>\n",
       "      <td>0.0</td>\n",
       "      <td>0.0</td>\n",
       "      <td>0.0</td>\n",
       "    </tr>\n",
       "    <tr>\n",
       "      <th>3</th>\n",
       "      <td>0.0</td>\n",
       "      <td>0.000000</td>\n",
       "      <td>0.0</td>\n",
       "      <td>0.0</td>\n",
       "      <td>0.0</td>\n",
       "      <td>0.0</td>\n",
       "      <td>0.0</td>\n",
       "      <td>0.0</td>\n",
       "      <td>0.0</td>\n",
       "      <td>0.0</td>\n",
       "      <td>...</td>\n",
       "      <td>0.0</td>\n",
       "      <td>0.0</td>\n",
       "      <td>0.0</td>\n",
       "      <td>0.0</td>\n",
       "      <td>0.0</td>\n",
       "      <td>0.0</td>\n",
       "      <td>0.0</td>\n",
       "      <td>0.0</td>\n",
       "      <td>0.0</td>\n",
       "      <td>0.0</td>\n",
       "    </tr>\n",
       "    <tr>\n",
       "      <th>4</th>\n",
       "      <td>0.0</td>\n",
       "      <td>0.000000</td>\n",
       "      <td>0.0</td>\n",
       "      <td>0.0</td>\n",
       "      <td>0.0</td>\n",
       "      <td>0.0</td>\n",
       "      <td>0.0</td>\n",
       "      <td>0.0</td>\n",
       "      <td>0.0</td>\n",
       "      <td>0.0</td>\n",
       "      <td>...</td>\n",
       "      <td>0.0</td>\n",
       "      <td>0.0</td>\n",
       "      <td>0.0</td>\n",
       "      <td>0.0</td>\n",
       "      <td>0.0</td>\n",
       "      <td>0.0</td>\n",
       "      <td>0.0</td>\n",
       "      <td>0.0</td>\n",
       "      <td>0.0</td>\n",
       "      <td>0.0</td>\n",
       "    </tr>\n",
       "  </tbody>\n",
       "</table>\n",
       "<p>5 rows × 40830 columns</p>\n",
       "</div>"
      ],
      "text/plain": [
       "   100percentfedup  21stcenturywire  ___   aa  aab  aadmi  aafe  aah  aaja  \\\n",
       "0              0.0         0.051762  0.0  0.0  0.0    0.0   0.0  0.0   0.0   \n",
       "1              0.0         0.000000  0.0  0.0  0.0    0.0   0.0  0.0   0.0   \n",
       "2              0.0         0.000000  0.0  0.0  0.0    0.0   0.0  0.0   0.0   \n",
       "3              0.0         0.000000  0.0  0.0  0.0    0.0   0.0  0.0   0.0   \n",
       "4              0.0         0.000000  0.0  0.0  0.0    0.0   0.0  0.0   0.0   \n",
       "\n",
       "   aali  ...  übertrieben  überwacht  überwachungskamera  überwachungskameras  \\\n",
       "0   0.0  ...          0.0        0.0                 0.0                  0.0   \n",
       "1   0.0  ...          0.0        0.0                 0.0                  0.0   \n",
       "2   0.0  ...          0.0        0.0                 0.0                  0.0   \n",
       "3   0.0  ...          0.0        0.0                 0.0                  0.0   \n",
       "4   0.0  ...          0.0        0.0                 0.0                  0.0   \n",
       "\n",
       "   überwältigen  überwältigt  überzeugt  übrig  übrige  übte  \n",
       "0           0.0          0.0        0.0    0.0     0.0   0.0  \n",
       "1           0.0          0.0        0.0    0.0     0.0   0.0  \n",
       "2           0.0          0.0        0.0    0.0     0.0   0.0  \n",
       "3           0.0          0.0        0.0    0.0     0.0   0.0  \n",
       "4           0.0          0.0        0.0    0.0     0.0   0.0  \n",
       "\n",
       "[5 rows x 40830 columns]"
      ]
     },
     "execution_count": 185,
     "metadata": {},
     "output_type": "execute_result"
    }
   ],
   "source": [
    "tfidf_train.head()"
   ]
  },
  {
   "cell_type": "code",
   "execution_count": 186,
   "metadata": {},
   "outputs": [
    {
     "name": "stdout",
     "output_type": "stream",
     "text": [
      "The accuracy is :  0.8553719008264463\n"
     ]
    }
   ],
   "source": [
    "#Using the model RFC \n",
    "\n",
    "rfc = RandomForestClassifier(n_estimators=100,random_state=0)\n",
    "rfc.fit(tfidf_train, y_train)\n",
    "y_pred = rfc.predict(X_test_tfidf)\n",
    "RFscore = metrics.accuracy_score(y_test, y_pred)\n",
    "print(\"The accuracy is : \", RFscore)"
   ]
  },
  {
   "cell_type": "code",
   "execution_count": 187,
   "metadata": {},
   "outputs": [
    {
     "name": "stdout",
     "output_type": "stream",
     "text": [
      "The Weighted F1 score is:  0.8518225431525602\n"
     ]
    }
   ],
   "source": [
    "print(\"The Weighted F1 score is: \", metrics.f1_score(y_test, y_pred, average = 'weighted'))"
   ]
  },
  {
   "cell_type": "code",
   "execution_count": null,
   "metadata": {},
   "outputs": [],
   "source": []
  }
 ],
 "metadata": {
  "kernelspec": {
   "display_name": "Python 3.6.10 64-bit ('melisa': conda)",
   "language": "python",
   "name": "python361064bitmelisaconda092d26402d524f0b8a13af22a18c9cf8"
  },
  "language_info": {
   "codemirror_mode": {
    "name": "ipython",
    "version": 3
   },
   "file_extension": ".py",
   "mimetype": "text/x-python",
   "name": "python",
   "nbconvert_exporter": "python",
   "pygments_lexer": "ipython3",
   "version": "3.6.10"
  }
 },
 "nbformat": 4,
 "nbformat_minor": 2
}
